{
 "cells": [
  {
   "cell_type": "markdown",
   "id": "ae363d21-13c1-406a-baec-286b0cd5d3ab",
   "metadata": {},
   "source": [
    "# Clustering"
   ]
  },
  {
   "cell_type": "code",
   "execution_count": 1,
   "id": "88a8072e-b1a2-48dd-a43e-4fd430841cf8",
   "metadata": {},
   "outputs": [],
   "source": [
    "import numpy as np\n",
    "import matplotlib.pyplot as plt"
   ]
  },
  {
   "cell_type": "markdown",
   "id": "24ba43b5-a33b-4f9d-a813-170cbf5c7b36",
   "metadata": {},
   "source": [
    "## K-Means"
   ]
  },
  {
   "cell_type": "code",
   "execution_count": 2,
   "id": "1abd867e-a0c8-40b8-af61-a5835d81e3bc",
   "metadata": {},
   "outputs": [],
   "source": [
    "from sklearn.datasets import make_blobs"
   ]
  },
  {
   "cell_type": "code",
   "execution_count": 3,
   "id": "56625a5a-89d3-4b85-b898-e3f181b1b2b4",
   "metadata": {},
   "outputs": [],
   "source": [
    "blob_centers=np.array(\n",
    "    [[0.2,2.3],\n",
    "     [-1.5,2.3],\n",
    "     [-2.8,1.8],\n",
    "     [-2.8,2.8],\n",
    "     [-2.8,1.3]])\n",
    "blob_std= np.array([0.4,0.3,0.1,0.1,0.1])"
   ]
  },
  {
   "cell_type": "code",
   "execution_count": 4,
   "id": "9cf99b29-3e3f-4197-b19f-0400d0391590",
   "metadata": {},
   "outputs": [],
   "source": [
    "X, y = make_blobs(n_samples=2000, centers=blob_centers,\n",
    "                 cluster_std=blob_std, random_state=7)"
   ]
  },
  {
   "cell_type": "code",
   "execution_count": 5,
   "id": "2368af7e-e60c-486a-a48e-a4e8f4842f83",
   "metadata": {},
   "outputs": [],
   "source": [
    "def plot_clusters(X,y=None):\n",
    "    plt.scatter(X[:,0],X[:,1],c=y,s=1)\n",
    "    plt.xlabel('$x_1$', fontsize=14)\n",
    "    plt.ylabel('$x_2$', fontsize=14, rotation=0)\n",
    "    "
   ]
  },
  {
   "cell_type": "code",
   "execution_count": 6,
   "id": "798f4a87-19b2-4310-9824-5f1acf2d83b8",
   "metadata": {},
   "outputs": [
    {
     "data": {
      "image/png": "[encoded data removed]",
      "text/plain": [
       "<Figure size 576x288 with 1 Axes>"
      ]
     },
     "metadata": {
      "needs_background": "light"
     },
     "output_type": "display_data"
    }
   ],
   "source": [
    "plt.figure(figsize=(8,4))\n",
    "plot_clusters(X)"
   ]
  },
  {
   "cell_type": "code",
   "execution_count": 7,
   "id": "a1dfca18-23f0-4d03-9cf0-dcbb5c8042b2",
   "metadata": {},
   "outputs": [],
   "source": [
    "from sklearn.cluster import KMeans\n",
    "k=5\n",
    "kmeans=KMeans(n_clusters=k)\n",
    "y_pred=kmeans.fit_predict(X)"
   ]
  },
  {
   "cell_type": "code",
   "execution_count": 8,
   "id": "00d1aecb-ea25-4f71-8d6a-08b17ecc6e3f",
   "metadata": {},
   "outputs": [
    {
     "data": {
      "text/plain": [
       "array([4, 2, 1, ..., 3, 1, 2])"
      ]
     },
     "execution_count": 8,
     "metadata": {},
     "output_type": "execute_result"
    }
   ],
   "source": [
    "y_pred"
   ]
  },
  {
   "cell_type": "code",
   "execution_count": 9,
   "id": "4762e2e9-7b55-4817-acc0-4be239e2b14f",
   "metadata": {},
   "outputs": [
    {
     "data": {
      "text/plain": [
       "True"
      ]
     },
     "execution_count": 9,
     "metadata": {},
     "output_type": "execute_result"
    }
   ],
   "source": [
    "y_pred is kmeans.labels_"
   ]
  },
  {
   "cell_type": "code",
   "execution_count": 10,
   "id": "86d9e641-6578-4f62-be15-195d40cdd415",
   "metadata": {},
   "outputs": [
    {
     "data": {
      "text/plain": [
       "array([[-1.46679593,  2.28585348],\n",
       "       [ 0.20876306,  2.25551336],\n",
       "       [-2.80389616,  1.80117999],\n",
       "       [-2.79290307,  2.79641063],\n",
       "       [-2.80037642,  1.30082566]])"
      ]
     },
     "execution_count": 10,
     "metadata": {},
     "output_type": "execute_result"
    }
   ],
   "source": [
    "kmeans.cluster_centers_"
   ]
  },
  {
   "cell_type": "code",
   "execution_count": 11,
   "id": "14b6ae1b-29ff-4205-9ce4-9749d984ee12",
   "metadata": {},
   "outputs": [
    {
     "data": {
      "text/plain": [
       "array([4, 2, 1, ..., 3, 1, 2])"
      ]
     },
     "execution_count": 11,
     "metadata": {},
     "output_type": "execute_result"
    }
   ],
   "source": [
    "kmeans.labels_"
   ]
  },
  {
   "cell_type": "code",
   "execution_count": 12,
   "id": "570d34af-c443-49fe-adee-49c411bba0f2",
   "metadata": {},
   "outputs": [
    {
     "data": {
      "text/plain": [
       "array([1, 1, 3, 3])"
      ]
     },
     "execution_count": 12,
     "metadata": {},
     "output_type": "execute_result"
    }
   ],
   "source": [
    "X_new=np.array([[0,2],[3,2],[-3,3],[-3,2.5]])\n",
    "kmeans.predict(X_new)"
   ]
  },
  {
   "cell_type": "code",
   "execution_count": 13,
   "id": "3e602843-861c-40ce-af54-d14405bde65b",
   "metadata": {},
   "outputs": [],
   "source": [
    "def plot_data(X):\n",
    "    plt.plot(X[:,0],X[:,1],'k.', markersize=2)\n",
    "    \n",
    "def plot_centroids(centroids, weights=None, circle_color='w', cross_color='k'):\n",
    "    if weights is not None:\n",
    "        centroids = centroids[weights>weights.max()/10]\n",
    "    plt.scatter(centroids[:,0], centroids[:,1],\n",
    "               marker='o', s=35, linewidths=8,\n",
    "               color=circle_color, zorder=10, alpha=0.9)\n",
    "    plt.scatter(centroids[:,0], centroids[:,1],\n",
    "               marker='x', s=2, linewidths=12,\n",
    "               color=cross_color, zorder=11, alpha=1)\n",
    "\n",
    "def plot_decision_boundaries(clusterer, X, resolution=1000, show_centroids=True,\n",
    "                            show_xlabels=True, show_ylabels=True):\n",
    "    mins=X.min(axis=0) -0.1\n",
    "    maxs=X.max(axis=0) +0.1\n",
    "    xx, yy = np.meshgrid(np.linspace(mins[0], maxs[0], resolution),\n",
    "                        np.linspace(mins[1], maxs[1], resolution))\n",
    "    Z=clusterer.predict(np.c_[xx.ravel(), yy.ravel()])\n",
    "    Z=Z.reshape(xx.shape)\n",
    "    \n",
    "    plt.contourf(Z, extent=(mins[0], maxs[0], mins[1], maxs[1]),cmap='Pastel2')\n",
    "    plt.contour(Z, extent=(mins[0], maxs[0], mins[1], maxs[1]),linewidths=1, colors='k')\n",
    "    plot_data(X)\n",
    "    if show_centroids:\n",
    "        plot_centroids(clusterer.cluster_centers_)\n",
    "    else:\n",
    "        plt.tick_params(labelbottom=False)\n",
    "    if show_ylabels:\n",
    "        plt.ylabel('$x_2$', fontsize=14, rotation=0)\n",
    "    else:\n",
    "        plt.tick_params(labelleft=False)"
   ]
  },
  {
   "cell_type": "code",
   "execution_count": 14,
   "id": "b56694bc-ec72-42a6-a914-11698cf936d1",
   "metadata": {},
   "outputs": [
    {
     "data": {
      "image/png": "[encoded data removed]",
      "text/plain": [
       "<Figure size 576x288 with 1 Axes>"
      ]
     },
     "metadata": {
      "needs_background": "light"
     },
     "output_type": "display_data"
    }
   ],
   "source": [
    "plt.figure(figsize=(8,4))\n",
    "plot_decision_boundaries(kmeans, X)"
   ]
  },
  {
   "cell_type": "markdown",
   "id": "89b34b01-e720-4c1c-9da6-4633c5589937",
   "metadata": {},
   "source": [
    "ハードクラスタリング:インスタンスごとに最も近いクラスターを任意に選択\n",
    "\n",
    "`transform`で各インスタンスから5つの重心までの距離を測定"
   ]
  },
  {
   "cell_type": "code",
   "execution_count": 17,
   "id": "4adfd1fb-ba2e-4a02-bb8c-149a89d09718",
   "metadata": {},
   "outputs": [
    {
     "data": {
      "text/plain": [
       "array([[1.49439034, 0.32995317, 2.81093633, 2.9042344 , 2.88633901],\n",
       "       [4.4759332 , 2.80290755, 5.80730058, 5.84739223, 5.84236351],\n",
       "       [1.69136631, 3.29399768, 1.21475352, 0.29040966, 1.71086031],\n",
       "       [1.54808703, 3.21806371, 0.72581411, 0.36159148, 1.21567622]])"
      ]
     },
     "execution_count": 17,
     "metadata": {},
     "output_type": "execute_result"
    }
   ],
   "source": [
    "kmeans.transform(X_new)"
   ]
  },
  {
   "cell_type": "markdown",
   "id": "69113c7d-5d70-4d28-af7c-5c59c894124e",
   "metadata": {},
   "source": [
    "これは各インスタンスとセントロイド間のユークリッド距離に等しい。"
   ]
  },
  {
   "cell_type": "code",
   "execution_count": 16,
   "id": "eb2b7b95-9925-4331-950b-deec1218db7b",
   "metadata": {},
   "outputs": [
    {
     "data": {
      "text/plain": [
       "array([[1.49439034, 0.32995317, 2.81093633, 2.9042344 , 2.88633901],\n",
       "       [4.4759332 , 2.80290755, 5.80730058, 5.84739223, 5.84236351],\n",
       "       [1.69136631, 3.29399768, 1.21475352, 0.29040966, 1.71086031],\n",
       "       [1.54808703, 3.21806371, 0.72581411, 0.36159148, 1.21567622]])"
      ]
     },
     "execution_count": 16,
     "metadata": {},
     "output_type": "execute_result"
    }
   ],
   "source": [
    "np.linalg.norm(np.tile(X_new, (1,k)).reshape(-1, k, 2) - kmeans.cluster_centers_, axis=2)"
   ]
  },
  {
   "cell_type": "code",
   "execution_count": 18,
   "id": "f894a53a-cb90-434f-8678-af4b679bff00",
   "metadata": {},
   "outputs": [
    {
     "data": {
      "text/plain": [
       "211.59853725816836"
      ]
     },
     "execution_count": 18,
     "metadata": {},
     "output_type": "execute_result"
    }
   ],
   "source": [
    "kmeans.inertia_"
   ]
  },
  {
   "cell_type": "markdown",
   "id": "26eec9d2-1d72-413b-a5c2-ce802a76b143",
   "metadata": {},
   "source": [
    "inertiaは各インスタンスとセントロイドの平均二乗距離。"
   ]
  },
  {
   "cell_type": "code",
   "execution_count": 19,
   "id": "41e267ea-9772-4830-83ff-190b25090478",
   "metadata": {},
   "outputs": [
    {
     "data": {
      "text/plain": [
       "211.59853725816856"
      ]
     },
     "execution_count": 19,
     "metadata": {},
     "output_type": "execute_result"
    }
   ],
   "source": [
    "X_dist=kmeans.transform(X)\n",
    "np.sum(X_dist[np.arange(len(X_dist)), kmeans.labels_]**2)"
   ]
  },
  {
   "cell_type": "markdown",
   "id": "71ffa283-b85f-4312-b9fd-4d9219a4bbac",
   "metadata": {},
   "source": [
    "`score`は負のinertia(greater is better)"
   ]
  },
  {
   "cell_type": "code",
   "execution_count": 20,
   "id": "85fa0b3a-8aa8-4969-97bd-b37dff3c6236",
   "metadata": {},
   "outputs": [
    {
     "data": {
      "text/plain": [
       "-211.59853725816834"
      ]
     },
     "execution_count": 20,
     "metadata": {},
     "output_type": "execute_result"
    }
   ],
   "source": [
    "kmeans.score(X)"
   ]
  },
  {
   "cell_type": "markdown",
   "id": "008fe926-7076-4b07-81ad-313060b1940b",
   "metadata": {},
   "source": [
    "sklearnのKMeansの初期化はKMeans++がデフォルト(`init=\"k-means++\"`)、オリジナルのKMeansを動かすには`init=\"random\"`とする。"
   ]
  },
  {
   "cell_type": "code",
   "execution_count": 21,
   "id": "f82e66d3-2bd0-4dba-90e1-912755237e5c",
   "metadata": {},
   "outputs": [
    {
     "data": {
      "text/plain": [
       "211.5985372581684"
      ]
     },
     "execution_count": 21,
     "metadata": {},
     "output_type": "execute_result"
    }
   ],
   "source": [
    "good_init=np.array([[-3,3], [-3,2],[-3,1],[-1,2],[0,2]])\n",
    "kmeans=KMeans(n_clusters=5, init = good_init, n_init=1, random_state=42)\n",
    "kmeans.fit(X)\n",
    "kmeans.inertia_"
   ]
  },
  {
   "cell_type": "markdown",
   "id": "9612c6ef-dce7-4107-b118-59257fdc6a5c",
   "metadata": {},
   "source": [
    "高速化手法として、不要な距離の計算をしないようにできる。三角不等式の使用と距離の上下限を記録することで達成する。  \n",
    "`algorithm=\"elkan\"`と指定する。  \n",
    "elkanはスパースなデータに対応しないため、データがdenseなら\"elkan\"、スパースなら\"full\"を自動選択する。"
   ]
  },
  {
   "cell_type": "code",
   "execution_count": 22,
   "id": "0d2a1161-bc11-4fc6-970f-0d2913667c11",
   "metadata": {},
   "outputs": [
    {
     "name": "stdout",
     "output_type": "stream",
     "text": [
      "153 ms ± 5.46 ms per loop (mean ± std. dev. of 7 runs, 50 loops each)\n"
     ]
    }
   ],
   "source": [
    "%timeit -n 50 KMeans(algorithm=\"elkan\", random_state=42).fit(X)"
   ]
  },
  {
   "cell_type": "code",
   "execution_count": 23,
   "id": "9c467514-3a11-4fe1-872d-b80fefaf8d78",
   "metadata": {},
   "outputs": [
    {
     "name": "stdout",
     "output_type": "stream",
     "text": [
      "946 ms ± 39.8 ms per loop (mean ± std. dev. of 7 runs, 50 loops each)\n"
     ]
    }
   ],
   "source": [
    "%timeit -n 50 KMeans(algorithm=\"full\", random_state=42).fit(X)"
   ]
  },
  {
   "cell_type": "markdown",
   "id": "4bdf808b-62fd-47db-b163-7f138da58e1c",
   "metadata": {},
   "source": [
    "テキストでは差が出なかったが結構差が出た。"
   ]
  },
  {
   "cell_type": "code",
   "execution_count": 24,
   "id": "16561021-6f9f-4592-aff6-c17cfa6013c1",
   "metadata": {},
   "outputs": [],
   "source": [
    "from sklearn.cluster import MiniBatchKMeans"
   ]
  },
  {
   "cell_type": "code",
   "execution_count": 25,
   "id": "37d0f6a3-4fde-4f28-b2a5-dd3a7f3ee20d",
   "metadata": {},
   "outputs": [
    {
     "data": {
      "text/plain": [
       "MiniBatchKMeans(n_clusters=5, random_state=42)"
      ]
     },
     "execution_count": 25,
     "metadata": {},
     "output_type": "execute_result"
    }
   ],
   "source": [
    "minibatch_kmeans = MiniBatchKMeans(n_clusters=5, random_state=42)\n",
    "minibatch_kmeans.fit(X)"
   ]
  },
  {
   "cell_type": "code",
   "execution_count": 26,
   "id": "171e53c7-e044-4228-be63-a0f21193f62a",
   "metadata": {},
   "outputs": [
    {
     "data": {
      "text/plain": [
       "211.65239850433193"
      ]
     },
     "execution_count": 26,
     "metadata": {},
     "output_type": "execute_result"
    }
   ],
   "source": [
    "minibatch_kmeans.inertia_"
   ]
  },
  {
   "cell_type": "code",
   "execution_count": 27,
   "id": "df5a749e-a5db-4bfa-916b-a91972df489b",
   "metadata": {},
   "outputs": [],
   "source": [
    "import urllib.request\n",
    "from sklearn.datasets import fetch_openml\n",
    "\n",
    "mnist=fetch_openml('mnist_784', version=1, as_frame=False)\n",
    "mnist.target=mnist.target.astype(np.int64)"
   ]
  },
  {
   "cell_type": "code",
   "execution_count": 29,
   "id": "0d6f4ee6-5b66-4bb2-b447-a9b3380904e1",
   "metadata": {},
   "outputs": [],
   "source": [
    "from sklearn.model_selection import train_test_split\n",
    "\n",
    "X_train, X_test, y_train, y_test = train_test_split(mnist['data'], mnist['target'], random_state=42)"
   ]
  },
  {
   "cell_type": "code",
   "execution_count": 30,
   "id": "9a9dff84-3898-4670-a3e1-5838b1d4d82d",
   "metadata": {},
   "outputs": [],
   "source": [
    "filename = 'my_mnist.data'\n",
    "X_mm=np.memmap(filename, dtype='float32', mode= 'write', shape=X_train.shape)\n",
    "X_mm[:]=X_train"
   ]
  },
  {
   "cell_type": "code",
   "execution_count": 31,
   "id": "bbf28ba7-b1b8-4d9e-a3e5-79c628fd1922",
   "metadata": {},
   "outputs": [
    {
     "name": "stderr",
     "output_type": "stream",
     "text": [
      "C:\\Users\\tkuramot\\anaconda3\\envs\\py310\\lib\\site-packages\\sklearn\\cluster\\_kmeans.py:1043: UserWarning: MiniBatchKMeans is known to have a memory leak on Windows with MKL, when there are less chunks than available threads. You can prevent it by setting batch_size >= 1024 or by setting the environment variable OMP_NUM_THREADS=1\n",
      "  warnings.warn(\n"
     ]
    },
    {
     "data": {
      "text/plain": [
       "MiniBatchKMeans(batch_size=10, n_clusters=10, random_state=42)"
      ]
     },
     "execution_count": 31,
     "metadata": {},
     "output_type": "execute_result"
    }
   ],
   "source": [
    "minibatch_kmeans= MiniBatchKMeans(n_clusters=10, batch_size=10, random_state=42)\n",
    "minibatch_kmeans.fit(X_mm)"
   ]
  },
  {
   "cell_type": "code",
   "execution_count": 32,
   "id": "97375436-e2f4-4964-8016-af9515b3e51b",
   "metadata": {},
   "outputs": [],
   "source": [
    "def load_next_batch(batch_size):\n",
    "    return X[np.random.choice(len(X), batch_size, replace= False)]"
   ]
  },
  {
   "cell_type": "code",
   "execution_count": 33,
   "id": "9bb2c520-65d9-4b7c-9e26-1430b5ad4c8d",
   "metadata": {},
   "outputs": [],
   "source": [
    "np.random.seed(42)"
   ]
  },
  {
   "cell_type": "code",
   "execution_count": 34,
   "id": "8300602f-4919-441e-b05d-2f605989cc62",
   "metadata": {},
   "outputs": [
    {
     "name": "stderr",
     "output_type": "stream",
     "text": [
      "C:\\Users\\tkuramot\\anaconda3\\envs\\py310\\lib\\site-packages\\sklearn\\cluster\\_kmeans.py:1043: UserWarning: MiniBatchKMeans is known to have a memory leak on Windows with MKL, when there are less chunks than available threads. You can prevent it by setting batch_size >= 1024 or by setting the environment variable OMP_NUM_THREADS=2\n",
      "  warnings.warn(\n",
      "C:\\Users\\tkuramot\\anaconda3\\envs\\py310\\lib\\site-packages\\sklearn\\cluster\\_kmeans.py:1043: UserWarning: MiniBatchKMeans is known to have a memory leak on Windows with MKL, when there are less chunks than available threads. You can prevent it by setting batch_size >= 1024 or by setting the environment variable OMP_NUM_THREADS=2\n",
      "  warnings.warn(\n",
      "C:\\Users\\tkuramot\\anaconda3\\envs\\py310\\lib\\site-packages\\sklearn\\cluster\\_kmeans.py:1043: UserWarning: MiniBatchKMeans is known to have a memory leak on Windows with MKL, when there are less chunks than available threads. You can prevent it by setting batch_size >= 1024 or by setting the environment variable OMP_NUM_THREADS=2\n",
      "  warnings.warn(\n",
      "C:\\Users\\tkuramot\\anaconda3\\envs\\py310\\lib\\site-packages\\sklearn\\cluster\\_kmeans.py:1043: UserWarning: MiniBatchKMeans is known to have a memory leak on Windows with MKL, when there are less chunks than available threads. You can prevent it by setting batch_size >= 1024 or by setting the environment variable OMP_NUM_THREADS=2\n",
      "  warnings.warn(\n",
      "C:\\Users\\tkuramot\\anaconda3\\envs\\py310\\lib\\site-packages\\sklearn\\cluster\\_kmeans.py:1043: UserWarning: MiniBatchKMeans is known to have a memory leak on Windows with MKL, when there are less chunks than available threads. You can prevent it by setting batch_size >= 1024 or by setting the environment variable OMP_NUM_THREADS=2\n",
      "  warnings.warn(\n",
      "C:\\Users\\tkuramot\\anaconda3\\envs\\py310\\lib\\site-packages\\sklearn\\cluster\\_kmeans.py:1043: UserWarning: MiniBatchKMeans is known to have a memory leak on Windows with MKL, when there are less chunks than available threads. You can prevent it by setting batch_size >= 1024 or by setting the environment variable OMP_NUM_THREADS=2\n",
      "  warnings.warn(\n",
      "C:\\Users\\tkuramot\\anaconda3\\envs\\py310\\lib\\site-packages\\sklearn\\cluster\\_kmeans.py:1043: UserWarning: MiniBatchKMeans is known to have a memory leak on Windows with MKL, when there are less chunks than available threads. You can prevent it by setting batch_size >= 1024 or by setting the environment variable OMP_NUM_THREADS=2\n",
      "  warnings.warn(\n",
      "C:\\Users\\tkuramot\\anaconda3\\envs\\py310\\lib\\site-packages\\sklearn\\cluster\\_kmeans.py:1043: UserWarning: MiniBatchKMeans is known to have a memory leak on Windows with MKL, when there are less chunks than available threads. You can prevent it by setting batch_size >= 1024 or by setting the environment variable OMP_NUM_THREADS=2\n",
      "  warnings.warn(\n",
      "C:\\Users\\tkuramot\\anaconda3\\envs\\py310\\lib\\site-packages\\sklearn\\cluster\\_kmeans.py:1043: UserWarning: MiniBatchKMeans is known to have a memory leak on Windows with MKL, when there are less chunks than available threads. You can prevent it by setting batch_size >= 1024 or by setting the environment variable OMP_NUM_THREADS=2\n",
      "  warnings.warn(\n",
      "C:\\Users\\tkuramot\\anaconda3\\envs\\py310\\lib\\site-packages\\sklearn\\cluster\\_kmeans.py:1043: UserWarning: MiniBatchKMeans is known to have a memory leak on Windows with MKL, when there are less chunks than available threads. You can prevent it by setting batch_size >= 1024 or by setting the environment variable OMP_NUM_THREADS=2\n",
      "  warnings.warn(\n"
     ]
    }
   ],
   "source": [
    "k=5\n",
    "n_init=10\n",
    "n_iterations=100\n",
    "batch_size=100\n",
    "init_size=500\n",
    "evaluate_on_last_n_iters = 10\n",
    "\n",
    "best_kmeans= None\n",
    "\n",
    "for init in range(n_init):\n",
    "    minibatch_kmeans=MiniBatchKMeans(n_clusters=k, init_size= init_size)\n",
    "    X_init=load_next_batch(init_size)\n",
    "    minibatch_kmeans.partial_fit(X_init)\n",
    "    \n",
    "    minibatch_kmeans.sum_inertia_=0\n",
    "    for iteration in range(n_iterations):\n",
    "        X_batch=load_next_batch(batch_size)\n",
    "        minibatch_kmeans.partial_fit(X_batch)\n",
    "        if iteration >=n_iterations -evaluate_on_last_n_iters:\n",
    "            minibatch_kmeans.sum_inertia_ += minibatch_kmeans.inertia_\n",
    "        \n",
    "    if (best_kmeans is None or minibatch_kmeans.sum_inertia_ < best_kmeans.sum_inertia_):\n",
    "        best_kmeans = minibatch_kmeans"
   ]
  },
  {
   "cell_type": "code",
   "execution_count": 35,
   "id": "af1b597d-4112-4d2a-a6e0-5e29c81b3e94",
   "metadata": {},
   "outputs": [
    {
     "data": {
      "text/plain": [
       "-211.6257187889114"
      ]
     },
     "execution_count": 35,
     "metadata": {},
     "output_type": "execute_result"
    }
   ],
   "source": [
    "best_kmeans.score(X)"
   ]
  },
  {
   "cell_type": "code",
   "execution_count": 36,
   "id": "be9cb22a-0d34-4412-bb1a-9f5db9a8b60c",
   "metadata": {},
   "outputs": [
    {
     "name": "stdout",
     "output_type": "stream",
     "text": [
      "93.2 ms ± 5.79 ms per loop (mean ± std. dev. of 7 runs, 10 loops each)\n"
     ]
    }
   ],
   "source": [
    "%timeit KMeans(n_clusters=5, random_state=42).fit(X)"
   ]
  },
  {
   "cell_type": "code",
   "execution_count": 37,
   "id": "82d9df8c-4659-4ee2-a299-f987004ccc31",
   "metadata": {},
   "outputs": [
    {
     "name": "stdout",
     "output_type": "stream",
     "text": [
      "429 ms ± 28.9 ms per loop (mean ± std. dev. of 7 runs, 1 loop each)\n"
     ]
    }
   ],
   "source": [
    "%timeit MiniBatchKMeans(n_clusters=5, random_state=42).fit(X)"
   ]
  },
  {
   "cell_type": "code",
   "execution_count": 38,
   "id": "3cee2289-b48e-4ec6-bd01-594ba7e9f2ff",
   "metadata": {},
   "outputs": [],
   "source": [
    "from timeit import timeit"
   ]
  },
  {
   "cell_type": "code",
   "execution_count": 40,
   "id": "aed32ca0-4aba-4fae-be7a-935b2b5945e4",
   "metadata": {},
   "outputs": [
    {
     "name": "stdout",
     "output_type": "stream",
     "text": [
      "100/100"
     ]
    }
   ],
   "source": [
    "times= np.empty((100,2))\n",
    "inertias=np.empty((100,2))\n",
    "for k in range(1, 101):\n",
    "    kmeans_=KMeans(n_clusters=k, random_state=42)\n",
    "    minibatch_kmeans= MiniBatchKMeans(n_clusters=k, random_state=42)\n",
    "    print('\\r{}/{}'.format(k, 100),end=\"\")\n",
    "    times[k-1, 0]=timeit(\"kmeans_.fit(X)\", number=10, globals= globals())\n",
    "    times[k-1, 1]=timeit(\"minibatch_kmeans.fit(X)\", number=10, globals= globals())\n",
    "    inertias[k-1, 0]=kmeans_.inertia_\n",
    "    inertias[k-1, 1]=minibatch_kmeans.inertia_\n",
    "    "
   ]
  },
  {
   "cell_type": "code",
   "execution_count": 43,
   "id": "ef780e93-c18f-4efe-b126-9369d65e3de9",
   "metadata": {},
   "outputs": [
    {
     "data": {
      "text/plain": [
       "(1.0, 100.0, 0.0, 12.0)"
      ]
     },
     "execution_count": 43,
     "metadata": {},
     "output_type": "execute_result"
    },
    {
     "data": {
      "image/png": "[encoded data removed]",
      "text/plain": [
       "<Figure size 720x288 with 2 Axes>"
      ]
     },
     "metadata": {
      "needs_background": "light"
     },
     "output_type": "display_data"
    }
   ],
   "source": [
    "plt.figure(figsize=(10,4))\n",
    "\n",
    "plt.subplot(121)\n",
    "plt.plot(range(1,101), inertias[:,0], \"r--\", label = 'K-Means')\n",
    "plt.plot(range(1,101), inertias[:,1], \"b.-\", label = 'Mini-batch K-Means')\n",
    "plt.xlabel('$k$', fontsize=16)\n",
    "plt.title('Inertia', fontsize=14)\n",
    "plt.legend(fontsize=14)\n",
    "plt.axis([1,100,0,100])\n",
    "\n",
    "plt.subplot(122)\n",
    "plt.plot(range(1,101), times[:,0], \"r--\", label = 'K-Means')\n",
    "plt.plot(range(1,101), times[:,1], \"b.-\", label = 'Mini-batch K-Means')\n",
    "plt.xlabel('$k$', fontsize=16)\n",
    "plt.title('Training time (seconds)', fontsize=14)\n",
    "plt.axis([1,100,0,12])\n"
   ]
  },
  {
   "cell_type": "code",
   "execution_count": null,
   "id": "2001a383-de4b-41ff-b191-62d642f992ec",
   "metadata": {},
   "outputs": [],
   "source": []
  }
 ],
 "metadata": {
  "kernelspec": {
   "display_name": "Python 3 (ipykernel)",
   "language": "python",
   "name": "python3"
  },
  "language_info": {
   "codemirror_mode": {
    "name": "ipython",
    "version": 3
   },
   "file_extension": ".py",
   "mimetype": "text/x-python",
   "name": "python",
   "nbconvert_exporter": "python",
   "pygments_lexer": "ipython3",
   "version": "3.10.4"
  }
 },
 "nbformat": 4,
 "nbformat_minor": 5
}
