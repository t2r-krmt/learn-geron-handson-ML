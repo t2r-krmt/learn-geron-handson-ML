{
 "cells": [
  {
   "cell_type": "code",
   "execution_count": null,
   "id": "b8e0e3b9-5e9c-4910-9a96-29ebaa70bdca",
   "metadata": {},
   "outputs": [],
   "source": [
    "import sys\n",
    "import sklearn\n",
    "\n",
    "import tensorflow as tf\n",
    "from tensorflow import keras\n",
    "\n",
    "import numpy as np\n",
    "import os\n",
    "\n",
    "np.random.seed(42)\n",
    "tf.random.set_seed(42)\n",
    "\n",
    "import matplotlib as mpl\n",
    "import matplotlib.pyplot as plt"
   ]
  },
  {
   "cell_type": "code",
   "execution_count": null,
   "id": "71a597bb-3b9b-4d46-ac5c-ed3d3caaf8df",
   "metadata": {},
   "outputs": [],
   "source": [
    "def plot_image(image):\n",
    "    plt.imshow(image, cmap= 'binary')\n",
    "    plt.axis(\"off\")"
   ]
  },
  {
   "cell_type": "markdown",
   "id": "18de84b2-31fa-4d82-86d5-a5dfa25520be",
   "metadata": {},
   "source": [
    "# PCA with a linear Autoencoder"
   ]
  },
  {
   "cell_type": "code",
   "execution_count": null,
   "id": "bd77d79a-b533-42bc-94c2-c11fe0fea4b7",
   "metadata": {},
   "outputs": [],
   "source": [
    "np.random.seed(42)\n",
    "\n",
    "def generate_3d_data(m, w1=0.1, w2 =0.3, noise=0.1):\n",
    "    angles= np.random.rand(m)*3*np.pi/ 2- 0.5\n",
    "    data = np.empty((m,3))\n",
    "    data[:,0] = np.cos(angles) + np.sin(angles)/2 + noise * np.random.randn(m)/2\n",
    "    data[:,1] = np.sin(angles)* 0.7 + noise * np.random.randn(m)/2\n",
    "    data[:,2] = data[:,0] * w1 + data[:,1] * w2 + noise * np.random.randn(m)\n",
    "    return data\n",
    "\n",
    "X_train = generate_3d_data(60)\n",
    "X_train = X_train - X_train.mean(axis=0, keepdims=0)\n",
    "    "
   ]
  },
  {
   "cell_type": "code",
   "execution_count": null,
   "id": "6ffdacee-534d-4a5e-82ba-af414067827a",
   "metadata": {},
   "outputs": [],
   "source": [
    "np.random.seed(42)\n",
    "tf.random.set_seed(42)\n",
    "\n",
    "encoder = keras.model.Sequential([keras.layers.Dense(2, input_shape=[3])])\n",
    "decoder = keras.model.Sequential([keras.layers.Dense(3, input_shape=[2])])\n",
    "autoencoder = keras.model.Sequential([encoder, decoder])\n",
    "\n",
    "autoencoder.compile(loss=\"mse\", optimizer=keras.optimizers.SGD(learning_rate=1.5))"
   ]
  },
  {
   "cell_type": "code",
   "execution_count": null,
   "id": "6ea9b2f4-5c38-43d9-a6a0-7f9c86a77cb1",
   "metadata": {},
   "outputs": [],
   "source": [
    "history=autoencoder.fit(X_train, X_train, epochs=20)"
   ]
  },
  {
   "cell_type": "code",
   "execution_count": null,
   "id": "429822c3-8766-4178-9629-8fb062708f52",
   "metadata": {},
   "outputs": [],
   "source": [
    "codings=encoder.predict(X_train)"
   ]
  },
  {
   "cell_type": "code",
   "execution_count": null,
   "id": "b2a67db3-c3e2-4cd1-bb08-44faada2ab3f",
   "metadata": {},
   "outputs": [],
   "source": [
    "fig=plt.figure(figsize=(4,3))\n",
    "plt.plot(codings[:,0], codings[:,1], \"b.\")\n",
    "plt.xlabel(\"$z_1$\", fontsize=18)\n",
    "plt.ylabel(\"$z_2$\", fontsize=18, rotation=0)\n",
    "plt.grid(True)"
   ]
  },
  {
   "cell_type": "markdown",
   "id": "84552a58-0707-44c2-8081-e553eff2f62a",
   "metadata": {},
   "source": [
    "# Stacked Autoencoder"
   ]
  },
  {
   "cell_type": "code",
   "execution_count": null,
   "id": "e18eed36-9cff-47ac-bfa0-f37bbf490c03",
   "metadata": {},
   "outputs": [],
   "source": [
    "(X_train_full, y_train_full), (X_test, y_test)=keras.datasets.fashion_mnist.load_data()\n",
    "X_train_full=X_train_full.astype(np.float32)/255\n",
    "X_test =X_test.astype(np.float32)/255\n",
    "X_train, X_valid=X_train_full[:-5000], X_train_full[-5000:]\n",
    "y_train, y_valid=y_train_full[:-5000], y_train_full[-5000:]"
   ]
  },
  {
   "cell_type": "markdown",
   "id": "05366ebd-b135-4856-b7d6-fc4ca09d7c08",
   "metadata": {},
   "source": [
    "## Train all layers at once"
   ]
  },
  {
   "cell_type": "code",
   "execution_count": null,
   "id": "71f43d50-5a20-41e2-84ba-77542af7f101",
   "metadata": {},
   "outputs": [],
   "source": [
    "def rounded_accuracy(y_true, y_pred):\n",
    "    return keras.metrics.binary_accuracy(tf.round(y_true), tf.round(y_pred))"
   ]
  },
  {
   "cell_type": "code",
   "execution_count": null,
   "id": "17b31121-91b3-485b-8865-92c92ee901ef",
   "metadata": {},
   "outputs": [],
   "source": [
    "tf.random.set_seed(42)\n",
    "np.random.seed(42)\n",
    "\n",
    "stacked_encoder = keras.models.Sequential([\n",
    "    keras.layers.Flatten(input_shape[28,28]),\n",
    "    keras.layers.Dense(100, activation= 'selu'),\n",
    "    keras.layers.Dense(30, activation= 'selu')])\n",
    "\n",
    "stacked_decoder = keras.models.Sequential([\n",
    "    keras.layers.Dense(100, activation= 'selu', input_shape=[30]),\n",
    "    keras.layers.Dense(28*28, activation= 'sigmoid'),\n",
    "    keras.layers.Reshape([28,28])])\n",
    "\n",
    "stacked_ae=keras.models.Sequential([stacked_encoder, stacked_decoder])\n",
    "stacked_ae.compile(loss=\"binary_crossentropy\",\n",
    "                   optimizer=keras.optimizers.SGD(learning_rate=1.5), metrics=[rounded_accuracy])\n",
    "history=stacked_ae.fit(X_train, X_train, epochs=20, validation_data=(X_valid, X_valid))"
   ]
  },
  {
   "cell_type": "code",
   "execution_count": null,
   "id": "ed1789f2-9da2-40a9-b5f0-2c57cf7710a7",
   "metadata": {},
   "outputs": [],
   "source": [
    "def show_reconstructions(model, images=X_valid, n_images=5):\n",
    "    reconstructions=model.predict(images[:n_images])\n",
    "    fig=plt.figure(figsize=(n_images * 1.5, 3))\n",
    "    for image_index in range(n_images):\n",
    "        plt.subplot(2, n_images, 1+image_index)\n",
    "        plot_image(images[image_index])\n",
    "        plt.subplot(2, n_images, 1+n_images+image_index)\n",
    "        plot_image(reconstructions[image_index])"
   ]
  },
  {
   "cell_type": "code",
   "execution_count": null,
   "id": "4a534bd8-3f2e-459a-b3fe-4158663732d4",
   "metadata": {},
   "outputs": [],
   "source": [
    "show_reconstructions(stacked_ae)"
   ]
  },
  {
   "cell_type": "markdown",
   "id": "14e38bc4-6df9-4e07-a2d3-b95453d49c20",
   "metadata": {},
   "source": [
    "# Visualizing Fashion MNIST"
   ]
  },
  {
   "cell_type": "code",
   "execution_count": null,
   "id": "06400476-df3d-4e77-80e6-1c9d5f07cf31",
   "metadata": {},
   "outputs": [],
   "source": [
    "np.random.seed(42)\n",
    "\n",
    "from sklearn.manifold import TSNE\n",
    "\n",
    "X_valid_compressed=stacked_encoder.predict(X_valid)\n",
    "tsne=TSNE()\n",
    "X_valid_2D=tsne.fit_transform(X_valid_compressed)\n",
    "X_valid_2D=(X_valid_2D - X_valid_2D.min())/(X_valid_2D.max() - X_valid_2D.min())"
   ]
  },
  {
   "cell_type": "code",
   "execution_count": null,
   "id": "eae0a05b-bb76-4027-bef6-8e49b9b278ca",
   "metadata": {},
   "outputs": [],
   "source": [
    "plt.scatter(X_valid_2D[:,0], X_valid_2D[:,1], c=y_valid, s=10, cmap=\"tab10\")\n",
    "plt.axis('off')"
   ]
  },
  {
   "cell_type": "code",
   "execution_count": null,
   "id": "951ced6c-efe3-4628-9c0b-13a660b0259b",
   "metadata": {},
   "outputs": [],
   "source": [
    "plt.figure(figsize=(10,8))\n",
    "cmap=plt.com.tab10\n",
    "plt.scatter(X_valid_2D[:,0], X_valid_2D[:,1], c= y_valid, s=10, cmap=cmap)\n",
    "image_positions=np.array([[1.,1.]])\n",
    "for index, position in enumerate(X_valid_2D):\n",
    "    dist=np.sum((position - image_positions)** 2, axis=1)\n",
    "    if np.min(dist) > 0.02:\n",
    "        image_positions=np.r_[image_positions, [position]]\n",
    "        imagebox=mpl.offsetbox.AnnotationBbox(\n",
    "            mpl.offsetbox.OffsetImage(X_valid[index], cmap=\"binary\"),\n",
    "            position, bboxprops={'edgecolor':cmap(y_valid[index]), \"lw\":2})\n",
    "        plt.gca().add_artist(imagebox)\n",
    "plt.axis('off')\n"
   ]
  },
  {
   "cell_type": "markdown",
   "id": "086a4004-188f-43e7-b3d7-274cb31af09b",
   "metadata": {},
   "source": [
    "## Tying weights"
   ]
  },
  {
   "cell_type": "code",
   "execution_count": null,
   "id": "eb515d60-794b-46cb-974e-507fa44b413d",
   "metadata": {},
   "outputs": [],
   "source": [
    "class DenseTranspose(keras.layers.Layer):\n",
    "    def __init__(self, dense, activation=None, **kwargs):\n",
    "        self.dense =dense\n",
    "        self.activation = keras.activations.get(activation)\n",
    "        super().__init__(**kwargs)\n",
    "    def build(self, batch_input_shape):\n",
    "        self.biases=self.add_weight(name='bias', \n",
    "                                   shape=[self.dense.input_shape[-1]],\n",
    "                                   initializer='zeros')\n",
    "        super().build(batch_input_shape)\n",
    "    def call(self, inputs):\n",
    "        z = tf.matmul(inputs, self.dense.weights[0], transpose_b=True)\n",
    "        return self.activation(z + self.biases)\n",
    "    "
   ]
  },
  {
   "cell_type": "code",
   "execution_count": null,
   "id": "49932d55-216a-493c-8aac-b801ed9a1549",
   "metadata": {},
   "outputs": [],
   "source": [
    "keras.backend.clear_session()\n",
    "tf.random.set_seed(42)\n",
    "np.random.seed(42)\n",
    "\n",
    "dense_1 = keras.layers.Dense(100, activation='selu')\n",
    "dense_2 = keras.layers.Dense(30, activation='selu')\n",
    "\n",
    "tied_decoder= keras.models.Sequential([\n",
    "    DenseTranspose(dense2, activation='selu'),\n",
    "    DenseTranspose(dense1, activation='sigmoid'),\n",
    "    keras.layers.Reshape([28,28])\n",
    "])\n",
    "\n",
    "tied_ae =keras.models.Sequential([tied_encoder, tied_decoder])\n",
    "\n",
    "tied_ae.compile(loss='binary_crossentropy',\n",
    "                optimizer=keras.optimizers.SGD(learning_rate=1.5),\n",
    "                metrics=[rounded_accuracy])\n",
    "history=tied_ae.fit(X_train, X_train, epochs=10,\n",
    "                    validation_data=(X_valid, X_valid))"
   ]
  },
  {
   "cell_type": "code",
   "execution_count": null,
   "id": "2c88ad0e-38b4-49f6-a6dc-15cd2c848c4d",
   "metadata": {},
   "outputs": [],
   "source": [
    "show_reconstructions(tied_ae)"
   ]
  },
  {
   "cell_type": "markdown",
   "id": "4f6a606f-825e-4b35-9420-b97656e77aff",
   "metadata": {},
   "source": [
    "## Training one Autoencoder at a Time"
   ]
  },
  {
   "cell_type": "code",
   "execution_count": null,
   "id": "ba265e98-7fff-4dbd-b553-bfc208e138b7",
   "metadata": {},
   "outputs": [],
   "source": [
    "def train_autoencoder(n_neurons, X_train, X_valid, loss, optimizer,\n",
    "                     n_epochs=10, output_activation=None, metrics=None):\n",
    "    n_inputs =X_train.shape[-1]\n",
    "    encoder=keras.models.Sequential([\n",
    "        keras.layers.Dense(n_neurons, activation='selu', input_shape =[n_inputs])\n",
    "    ])\n",
    "    decoder =keras.models.Sequential([\n",
    "        keras.layers.Dense(n_inputs, activation=output_activation),\n",
    "    ])\n",
    "    autoencoder =keras.models.Sequential([encoder, decoder])\n",
    "    autoencoder.compile(optimizer, loss, metrics =metrics)\n",
    "    autoencoder.fit(X_train, X_train, epochs = n_epochs,\n",
    "                    validation_data =(X_valid, X_valid))\n",
    "    return encoder, decoder, encoder(X_train), encoder(X_valid)"
   ]
  },
  {
   "cell_type": "code",
   "execution_count": null,
   "id": "885c3682-ee72-4415-ba12-525b9d6f9a37",
   "metadata": {},
   "outputs": [],
   "source": [
    "tf.random.set_seed(42)\n",
    "np.random.seed(42)\n",
    "\n",
    "K=keras.backend\n",
    "X_train_flat= K.batch_flatten(X_train)\n",
    "X_valid_flat= K.batch_flatten(X_valid)\n",
    "enc1, dec1, x_train_enc1, X_valid_enc1 = train_autoencoder(\n",
    "    100, X_ktrain_flat, X_valid_flat, \"binary_crossentropy\",\n",
    "    keras.optimizers.SGD(learning_rate=1.5), output_activation='sigmoid',\n",
    "    metrics=[rounded_accuracy])\n",
    "enc2, dec2, _,_ = train_autoencoder(\n",
    "    30, X_ktrain_enc1, X_valid_enc1, \"mse\",\n",
    "    keras.optimizers.SGD(learning_rate=0.05), output_activation='selu')\n"
   ]
  },
  {
   "cell_type": "code",
   "execution_count": null,
   "id": "d906e950-18d4-42c3-b577-37aa26016666",
   "metadata": {},
   "outputs": [],
   "source": [
    "stacked_ae_1_by_1 =keras.models.Sequential([\n",
    "    keras.layers.Flatten(input_shape=[28,28]),\n",
    "    enc1, enc2, dec2, dec1,\n",
    "    keras.layers.Reshape([28,28])\n",
    "])"
   ]
  },
  {
   "cell_type": "code",
   "execution_count": null,
   "id": "0432408c-3986-4054-ab30-67e3b1cd511b",
   "metadata": {},
   "outputs": [],
   "source": [
    "show_reconstructions(stacked_ae_1_by_1)"
   ]
  },
  {
   "cell_type": "code",
   "execution_count": null,
   "id": "1b7af87c-064e-4138-89e9-abb50ab88f40",
   "metadata": {},
   "outputs": [],
   "source": [
    "stacked_ae_1_by_1.compile(loss='binary_crossentropy', \n",
    "                          optimizer= keras.optimizers.SGD(learning_rate=0.1), metrics=[rounded_accuracy])\n",
    "history=stacked_ae_1_by_1.fit(X_train, X_train, epochs=10, \n",
    "                              validation_data=(X_valid, X_valid))"
   ]
  },
  {
   "cell_type": "code",
   "execution_count": null,
   "id": "0bc5131b-bf15-4ded-901a-bb28b02e5d50",
   "metadata": {},
   "outputs": [],
   "source": [
    "show_reconstructions(stacked_ae_1_by_1)"
   ]
  },
  {
   "cell_type": "markdown",
   "id": "f83a5e04-89e2-4473-9fc6-9511b461e3f6",
   "metadata": {},
   "source": [
    "## Using Convolutional Layers Instead of Dense Layers"
   ]
  },
  {
   "cell_type": "code",
   "execution_count": null,
   "id": "396955a4-291c-4121-b386-e54635d712d5",
   "metadata": {},
   "outputs": [],
   "source": [
    "tf.random.set_seed(42)\n",
    "np.random.seed(42)\n",
    "\n",
    "conv_encoder= keras.models.Sequential([\n",
    "    keras.layers.Reshape([28, 28, 1], input_shape =[28,28]),\n",
    "    keras.layers.Conv2D(16,kernel_size=3, padding='SAME', activation='selu'),\n",
    "    keras.layers.MaxPool2D(pool_size=2),\n",
    "    keras.layers.Conv2D(32,kernel_size=3, padding='SAME', activation='selu'),\n",
    "    keras.layers.MaxPool2D(pool_size=2),\n",
    "    keras.layers.Conv2D(64,kernel_size=3, padding='SAME', activation='selu'),\n",
    "    keras.layers.MaxPool2D(pool_size=2)    \n",
    "])\n",
    "conv_decoder= keras.models.Sequential([\n",
    "    keras.layers.Conv2DTranspose(32,kernel_size=3, strides=2, padding='VALID', activation='selu', \n",
    "                                 input_shape=[3,3,64]),\n",
    "    keras.layers.Conv2DTranspose(16,kernel_size=3,strides=2, padding='SAME', activation='selu'),\n",
    "    keras.layers.Conv2DTranspose(1,kernel_size=3,strides=2, padding='SAME', activation='sigmoid'),\n",
    "    keras.layers.Reshape([28,28])\n",
    "])\n",
    "conv_ae=keras.models.Sequential([conv_encoder, conv_decoder])\n",
    "\n",
    "conv_ae.compile(loss='binary_crossentropy', optimizer=keras.optimizers.SGD(learning_rate=1.0),\n",
    "                metrics=[rounded_accuracy])\n",
    "history=conv_ae.fit(X_train, X_train, epochs=5, \n",
    "                   validation_data=(X_valid, X_valid))"
   ]
  },
  {
   "cell_type": "code",
   "execution_count": null,
   "id": "16b0ac98-bc95-41b1-bee0-f724b20be95d",
   "metadata": {},
   "outputs": [],
   "source": [
    "conv_encoder.summary()\n",
    "conv_decoder.summary()"
   ]
  },
  {
   "cell_type": "code",
   "execution_count": null,
   "id": "2976d12f-d0d3-4045-8464-b12fa6e31702",
   "metadata": {},
   "outputs": [],
   "source": [
    "show_reconstructions(conv_ae)"
   ]
  },
  {
   "cell_type": "markdown",
   "id": "13ad1f3b-988a-4f2f-9c56-fa9e473fb6ab",
   "metadata": {},
   "source": [
    "# Recurrent Autoencoders"
   ]
  },
  {
   "cell_type": "code",
   "execution_count": null,
   "id": "42ded3ca-c54d-4cd4-9fdc-73a68e69fb36",
   "metadata": {},
   "outputs": [],
   "source": [
    "recurrent_encoder=keras.models.Sequential([\n",
    "    keras.layers.LSTM(100, return_sequences=True, input_shape=[28,28]),\n",
    "    keras.layers.LSTM(30)])\n",
    "recurrent_decoder=keras.models.Sequential([\n",
    "    keras.layers.RepeatVector(28, input_shape=[30]),\n",
    "    keras.layers.LSTM(100, return_sequences=True),\n",
    "    keras.layers.TimeDistributed(keras.layers.Dense(28,actiation='sigmoid'))])\n",
    "recurrent_ae =keras.models.Sequential([recurrent_encoder ,recurrent_decoder])\n",
    "recurrent_ae.compile(loss='bianry_crossentropy', optimizer=keras.optimizers.SGD(0.1),\n",
    "                     metrics=[rounded_accuracy])"
   ]
  },
  {
   "cell_type": "code",
   "execution_count": null,
   "id": "3e8efa20-98a4-47a7-b363-eead0e485678",
   "metadata": {},
   "outputs": [],
   "source": [
    "history= recurrent_ae.fit(X_train, X_train, epochs=10, validation_data= (X_valid, X_valid))"
   ]
  },
  {
   "cell_type": "code",
   "execution_count": null,
   "id": "6a935996-18ed-456f-9fd8-e28df0e57c8d",
   "metadata": {},
   "outputs": [],
   "source": [
    "show_reconstructions(recurrent_ae)"
   ]
  },
  {
   "cell_type": "markdown",
   "id": "8c9f3190-b7a2-4942-b95e-5e35735af7fd",
   "metadata": {},
   "source": [
    "# Stacked denoising Autoencoder"
   ]
  },
  {
   "cell_type": "code",
   "execution_count": null,
   "id": "e3e2e320-85e7-4778-88f3-f4a443a0a64b",
   "metadata": {},
   "outputs": [],
   "source": [
    "tf.random.set_seed(42)\n",
    "np.random.seed(42)\n",
    "denoising_encoder=keras.models.Sequential([\n",
    "    keras.layers.Flatten(input_shape=[28,28]),\n",
    "    keras.layers.GaussianNoise(0.2),\n",
    "    keras.layers.Dense(100, activation='selu'),\n",
    "    keras.layers.Dense(30, activation='selu')])\n",
    "denoising_decoder=keras.models.Sequential([\n",
    "    keras.layers.Dense(100, activation='selu', input_shape=[30]),\n",
    "    keras.layers.Dense(28*28, activation='sigmoid'),\n",
    "    keras.layers.Reshape([28,28])])\n",
    "denoising_ae =keras.models.Sequential([denoising_encoder ,denoising_decoder])\n",
    "denoising_ae.compile(loss='bianry_crossentropy', optimizer=keras.optimizers.SGD(1.0),\n",
    "                     metrics=[rounded_accuracy])\n",
    "\n",
    "history= denoising_ae.fit(X_train, X_train, epochs=10, validation_data= (X_valid, X_valid))"
   ]
  },
  {
   "cell_type": "code",
   "execution_count": null,
   "id": "9d37ac8c-de82-44ed-9a30-d5030ac2ba05",
   "metadata": {},
   "outputs": [],
   "source": [
    "tf.random.set_seed(42)\n",
    "np.random.seed(42)\n",
    "\n",
    "noise= keras.layers.GaussianNoise(0.2)\n",
    "show_reconstructions(denoising_ae, noise(X_valid, training=True))"
   ]
  },
  {
   "cell_type": "code",
   "execution_count": null,
   "id": "27dea33f-b00a-406b-aec8-75af89963122",
   "metadata": {},
   "outputs": [],
   "source": [
    "tf.random.set_seed(42)\n",
    "np.random.seed(42)\n",
    "dropout_encoder=keras.models.Sequential([\n",
    "    keras.layers.Flatten(input_shape=[28,28]),\n",
    "    keras.layers.Dropout(0.5),\n",
    "    keras.layers.Dense(100, activation='selu'),\n",
    "    keras.layers.Dense(30, activation='selu')])\n",
    "dropout_decoder=keras.models.Sequential([\n",
    "    keras.layers.Dense(100, activation='selu', input_shape=[30]),\n",
    "    keras.layers.Dense(28*28, activation='sigmoid'),\n",
    "    keras.layers.Reshape([28,28])])\n",
    "dropout_ae =keras.models.Sequential([dropout_encoder ,dropout_decoder])\n",
    "dropout_ae.compile(loss='bianry_crossentropy', optimizer=keras.optimizers.SGD(1.0),\n",
    "                     metrics=[rounded_accuracy])\n",
    "\n",
    "history= dropout_ae.fit(X_train, X_train, epochs=10, validation_data= (X_valid, X_valid))"
   ]
  },
  {
   "cell_type": "code",
   "execution_count": null,
   "id": "1f17ba40-bb13-4a9f-bcdb-76bd25f099ff",
   "metadata": {},
   "outputs": [],
   "source": [
    "tf.random.set_seed(42)\n",
    "np.random.seed(42)\n",
    "\n",
    "dropout = keras.layers.Dropout(0.5)\n",
    "show_reconstructions(denoising_ae, dropout(X_valid, training=True))"
   ]
  },
  {
   "cell_type": "markdown",
   "id": "8b43c073-8613-4711-9a10-888cdf0ff1e6",
   "metadata": {},
   "source": [
    "# Sparse Autoencoder"
   ]
  },
  {
   "cell_type": "code",
   "execution_count": null,
   "id": "18c22e18-861c-41b6-9983-40d2b50e6f70",
   "metadata": {},
   "outputs": [],
   "source": [
    "tf.random.set_seed(42)\n",
    "np.random.seed(42)\n",
    "\n",
    "simple_encoder=keras.models.Sequential([\n",
    "    keras.layers.Flatten(input_shape=[28,28]),\n",
    "    keras.layers.Dense(100, activation='selu'),\n",
    "    keras.layers.Dense(30, activation='sigmoid')])\n",
    "simple_decoder=keras.models.Sequential([\n",
    "    keras.layers.Dense(100, activation='selu', input_shape=[30]),\n",
    "    keras.layers.Dense(28*28, activation='sigmoid'),\n",
    "    keras.layers.Reshape([28,28])])\n",
    "simple_ae =keras.models.Sequential([simple_encoder ,simple_decoder])\n",
    "simple_ae.compile(loss='bianry_crossentropy', optimizer=keras.optimizers.SGD(1.0),\n",
    "                     metrics=[rounded_accuracy])\n",
    "\n",
    "history= simple_ae.fit(X_train, X_train, epochs=10, validation_data= (X_valid, X_valid))"
   ]
  },
  {
   "cell_type": "code",
   "execution_count": null,
   "id": "551966b5-e6ba-4161-994f-139fa8b6ab04",
   "metadata": {},
   "outputs": [],
   "source": [
    "show_reconstructions(simple_ae)"
   ]
  },
  {
   "cell_type": "code",
   "execution_count": null,
   "id": "e2abdd4f-311e-4c4c-a9b9-801ea8269bdb",
   "metadata": {},
   "outputs": [],
   "source": [
    "def plot_percent_hist(ax, data, bins):\n",
    "    counts, _ =np.histogram(data, bins= bins)\n",
    "    widths=bins[1:]-bins[:-1]\n",
    "    x= bins[:-1]+ widths/2\n",
    "    ax.bar(x, counts/len(data), width=width*0.8)\n",
    "    ax.xaxis.set_ticks(bins)\n",
    "    ax.yaxis.set_major_formatter(mpl.ticker.FuncFormatter(\n",
    "        lambda y, position: \"{}%\".format(int(np.round(100*y)))))\n",
    "    ax.grid(True)"
   ]
  },
  {
   "cell_type": "code",
   "execution_count": null,
   "id": "8eef07fd-d5a4-411d-b651-98a182272ac8",
   "metadata": {},
   "outputs": [],
   "source": [
    "def plot_activations_histogram(encoder, height=1, n_bins=10):\n",
    "    X_valid_codings=encoder(X_valid).numpy()\n",
    "    activation_means=X_valid_codings.mean(axis=0)\n",
    "    mean=activation_means.mean()\n",
    "    bins=np.linspace(0,1,n_bins+1)\n",
    "\n",
    "    fig, [ax1, ax2] = plt.subplots(figsize=(10,3), nrows=1, ncols=2, sharey=True)\n",
    "    plot_percent_hist(ax1, X_valid_codings.ravel(), bins)\n",
    "    ax1.plot([mean, mean], [0, height], \"k--\", label = \"Overall Mean = {:.2f}\".format(mean))\n",
    "    ax1.legend(loc= \"upeer center\", fontsize=14)\n",
    "    ax1.set_xlabel(\"Activation\")\n",
    "    ax1.set_ylabel(\"% Activations\")\n",
    "    ax1.axis([0,1,0, height])\n",
    "    plot_percent_hist(ax2, activation_means, bins)\n",
    "    ax2.plot([mean, mean], [0, height], \"k--\")\n",
    "    ax2.set_xlabel(\"Neuron Mean Activation\")\n",
    "    ax2.set_ylabel(\"% Neurons\")\n",
    "    ax2.axis([0,1,0, height])\n",
    "    "
   ]
  },
  {
   "cell_type": "code",
   "execution_count": null,
   "id": "2f94e3b5-ebd5-40de-9c5c-6c2d39b9d33e",
   "metadata": {},
   "outputs": [],
   "source": [
    "plot_activations_histgram(simple_encoder, height=0.35)"
   ]
  },
  {
   "cell_type": "code",
   "execution_count": null,
   "id": "4a9756f3-5cea-4814-9646-a73a95d189e8",
   "metadata": {},
   "outputs": [],
   "source": [
    "tf.random.set_seed(42)\n",
    "np.random.seed(42)\n",
    "\n",
    "sparse_l1_encoder=keras.models.Sequential([\n",
    "    keras.layers.Flatten(input_shape=[28,28]),\n",
    "    keras.layers.Dense(100, activation='selu'),\n",
    "    keras.layers.Dense(300, activation='sigmoid'), \n",
    "    keras.layers.ActivityRegularization(l1=1e-3)])\n",
    "sparse_l1_decoder=keras.models.Sequential([\n",
    "    keras.layers.Dense(100, activation='selu', input_shape=[300]),\n",
    "    keras.layers.Dense(28*28, activation='sigmoid'),\n",
    "    keras.layers.Reshape([28,28])])\n",
    "sparse_l1_ae =keras.models.Sequential([sparse_l1_encoder ,sparse_l1_decoder])\n",
    "sparse_l1_ae.compile(loss='bianry_crossentropy', optimizer=keras.optimizers.SGD(1.0),\n",
    "                     metrics=[rounded_accuracy])\n",
    "\n",
    "history= sparse_l1_ae.fit(X_train, X_train, epochs=10, validation_data= (X_valid, X_valid))"
   ]
  },
  {
   "cell_type": "code",
   "execution_count": null,
   "id": "0c65784d-e63b-40cc-a369-158e9bab2ece",
   "metadata": {},
   "outputs": [],
   "source": [
    "show_reconstructions(sparse_l1_ae)"
   ]
  },
  {
   "cell_type": "code",
   "execution_count": null,
   "id": "0bc1c734-69f0-4749-a388-3c39f2bce8b5",
   "metadata": {},
   "outputs": [],
   "source": [
    "plot_activations_histgram(sparse_l1_encoder, height=1.)"
   ]
  },
  {
   "cell_type": "code",
   "execution_count": null,
   "id": "ad73844c-4d5b-42a4-b1c9-28ca0e4d2f38",
   "metadata": {},
   "outputs": [],
   "source": [
    "p=0.1\n",
    "q=np.linspace(0.001, 0.999, 500)\n",
    "kl_div=p*np.log(p/q) +(1-p)*np.log((1-p)/(1-q))\n",
    "mse= (p-1)**2\n",
    "mae=np.abs(p-q)\n",
    "plt.plot([p,p], [0,0.3], \"k:\")\n",
    "plt.text(0.05, 0.32, \"Target\\nsparsity\", fontsize=14)\n",
    "plt.plot(q, kl_div, \"b-\", label= \"KL divergence\")\n",
    "plt.plot(q, mae, \"g--\", label= r\"MAE ($\\ell_1$)\")\n",
    "plt.plot(q, mse, \"r--\", linewidth =1, label= r\"MAE ($\\ell_2$)\")\n",
    "plt.legend(loc=\"upper left\", fontsize=14)\n",
    "plt.xlabel(\"Actual sparsity\")\n",
    "plt.ylabel(\"Cost\", rotation=0)\n",
    "plt.axis([0, 1, 0, 0.95])"
   ]
  },
  {
   "cell_type": "code",
   "execution_count": null,
   "id": "e7865dbc-6430-45e7-905a-8591c6eaced0",
   "metadata": {},
   "outputs": [],
   "source": [
    "K=keras.backerd\n",
    "kl_divergence = keras.lossses.kullback_leibler_divergence\n",
    "\n",
    "class KLDivergenceRegularizer(keras.regularizers.Regularizer):\n",
    "    def __init__(self, weight, target-0.1):\n",
    "        self.weight=weight\n",
    "        self.target=target\n",
    "    def __call__(self, inputs):\n",
    "        mean_activities= K.mean(inputs, axis=0)\n",
    "        return self.weight*(\n",
    "            kl_divergence(self.target, mean_activities) + \n",
    "            kl_divergence(1. - self.target, 1.- mean_activities))\n"
   ]
  },
  {
   "cell_type": "code",
   "execution_count": null,
   "id": "bdcff159-ef94-426a-8385-12853e2bccdf",
   "metadata": {},
   "outputs": [],
   "source": [
    "tf.random.set_seed(42)\n",
    "np.random.seed(42)\n",
    "\n",
    "kld_reg = KLDivergenceRegularizer(weight=0.05, target=0.1)\n",
    "sparse_kl_encoder=keras.models.Sequential([\n",
    "    keras.layers.Flatten(input_shape=[28,28]),\n",
    "    keras.layers.Dense(100, activation='selu'),\n",
    "    keras.layers.Dense(300, activation='sigmoid', activity_regularizer=kld_reg)])\n",
    "sparse_kl_decoder=keras.models.Sequential([\n",
    "    keras.layers.Dense(100, activation='selu', input_shape=[300]),\n",
    "    keras.layers.Dense(28*28, activation='sigmoid'),\n",
    "    keras.layers.Reshape([28,28])])\n",
    "sparse_kl_ae =keras.models.Sequential([sparse_kl_encoder ,sparse_kl_decoder])\n",
    "sparse_kl_ae.compile(loss='bianry_crossentropy', optimizer=keras.optimizers.SGD(1.0),\n",
    "                     metrics=[rounded_accuracy])\n",
    "\n",
    "history= sparse_kl_ae.fit(X_train, X_train, epochs=10, validation_data= (X_valid, X_valid))"
   ]
  },
  {
   "cell_type": "code",
   "execution_count": null,
   "id": "adfb0b4a-e982-4d56-8082-85e18cc622d7",
   "metadata": {},
   "outputs": [],
   "source": [
    "show_reconstructions(sparse_kl_ae)"
   ]
  },
  {
   "cell_type": "code",
   "execution_count": null,
   "id": "0e6772b2-2c12-4a59-a65a-e0ebafae5301",
   "metadata": {},
   "outputs": [],
   "source": [
    "plot_activations_histgram(sparse_kl_encoder)"
   ]
  },
  {
   "cell_type": "markdown",
   "id": "36400ef6-a4fb-4671-bb94-1e9d4e2949ec",
   "metadata": {},
   "source": [
    "# Variational Autoencoder"
   ]
  },
  {
   "cell_type": "code",
   "execution_count": null,
   "id": "5d39a083-8c66-470e-8cc4-e59a033bf36f",
   "metadata": {},
   "outputs": [],
   "source": []
  }
 ],
 "metadata": {
  "kernelspec": {
   "display_name": "Python 3 (ipykernel)",
   "language": "python",
   "name": "python3"
  },
  "language_info": {
   "codemirror_mode": {
    "name": "ipython",
    "version": 3
   },
   "file_extension": ".py",
   "mimetype": "text/x-python",
   "name": "python",
   "nbconvert_exporter": "python",
   "pygments_lexer": "ipython3",
   "version": "3.10.11"
  }
 },
 "nbformat": 4,
 "nbformat_minor": 5
}
