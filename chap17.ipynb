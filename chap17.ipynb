{
 "cells": [
  {
   "cell_type": "code",
   "execution_count": null,
   "id": "b8e0e3b9-5e9c-4910-9a96-29ebaa70bdca",
   "metadata": {},
   "outputs": [],
   "source": [
    "import sys\n",
    "import sklearn\n",
    "\n",
    "import tensorflow as tf\n",
    "from tensorflow import keras\n",
    "\n",
    "import numpy as np\n",
    "import os\n",
    "\n",
    "np.random.seed(42)\n",
    "tf.random.set_seed(42)\n",
    "\n",
    "import matplotlib as mpl\n",
    "import matplotlib.pyplot as plt"
   ]
  },
  {
   "cell_type": "code",
   "execution_count": null,
   "id": "71a597bb-3b9b-4d46-ac5c-ed3d3caaf8df",
   "metadata": {},
   "outputs": [],
   "source": [
    "def plot_image(image):\n",
    "    plt.imshow(image, cmap= 'binary')\n",
    "    plt.axis(\"off\")"
   ]
  },
  {
   "cell_type": "markdown",
   "id": "18de84b2-31fa-4d82-86d5-a5dfa25520be",
   "metadata": {},
   "source": [
    "# PCA with a linear Autoencoder"
   ]
  },
  {
   "cell_type": "code",
   "execution_count": null,
   "id": "bd77d79a-b533-42bc-94c2-c11fe0fea4b7",
   "metadata": {},
   "outputs": [],
   "source": [
    "np.random.seed(42)\n",
    "\n",
    "def generate_3d_data(m, w1=0.1, w2 =0.3, noise=0.1):\n",
    "    angles= np.random.rand(m)*3*np.pi/ 2- 0.5\n",
    "    data = np.empty((m,3))\n",
    "    data[:,0] = np.cos(angles) + np.sin(angles)/2 + noise * np.random.randn(m)/2\n",
    "    data[:,1] = np.sin(angles)* 0.7 + noise * np.random.randn(m)/2\n",
    "    data[:,2] = data[:,0] * w1 + data[:,1] * w2 + noise * np.random.randn(m)\n",
    "    return data\n",
    "\n",
    "X_train = generate_3d_data(60)\n",
    "X_train = X_train - X_train.mean(axis=0, keepdims=0)\n",
    "    "
   ]
  },
  {
   "cell_type": "code",
   "execution_count": null,
   "id": "6ffdacee-534d-4a5e-82ba-af414067827a",
   "metadata": {},
   "outputs": [],
   "source": [
    "np.random.seed(42)\n",
    "tf.random.set_seed(42)\n",
    "\n",
    "encoder = keras.model.Sequential([keras.layers.Dense(2, input_shape=[3])])\n",
    "decoder = keras.model.Sequential([keras.layers.Dense(3, input_shape=[2])])\n",
    "autoencoder = keras.model.Sequential([encoder, decoder])\n",
    "\n",
    "autoencoder.compile(loss=\"mse\", optimizer=keras.optimizers.SGD(learning_rate=1.5))"
   ]
  },
  {
   "cell_type": "code",
   "execution_count": null,
   "id": "6ea9b2f4-5c38-43d9-a6a0-7f9c86a77cb1",
   "metadata": {},
   "outputs": [],
   "source": [
    "history=autoencoder.fit(X_train, X_train, epochs=20)"
   ]
  },
  {
   "cell_type": "code",
   "execution_count": null,
   "id": "429822c3-8766-4178-9629-8fb062708f52",
   "metadata": {},
   "outputs": [],
   "source": [
    "codings=encoder.predict(X_train)"
   ]
  },
  {
   "cell_type": "code",
   "execution_count": null,
   "id": "b2a67db3-c3e2-4cd1-bb08-44faada2ab3f",
   "metadata": {},
   "outputs": [],
   "source": [
    "fig=plt.figure(figsize=(4,3))\n",
    "plt.plot(codings[:,0], codings[:,1], \"b.\")\n",
    "plt.xlabel(\"$z_1$\", fontsize=18)\n",
    "plt.ylabel(\"$z_2$\", fontsize=18, rotation=0)\n",
    "plt.grid(True)"
   ]
  },
  {
   "cell_type": "markdown",
   "id": "84552a58-0707-44c2-8081-e553eff2f62a",
   "metadata": {},
   "source": [
    "# Stacked Autoencoder"
   ]
  },
  {
   "cell_type": "code",
   "execution_count": null,
   "id": "e18eed36-9cff-47ac-bfa0-f37bbf490c03",
   "metadata": {},
   "outputs": [],
   "source": [
    "(X_train_full, y_train_full), (X_test, y_test)=keras.datasets.fashion_mnist.load_data()\n",
    "X_train_full=X_train_full.astype(np.float32)/255\n",
    "X_test =X_test.astype(np.float32)/255\n",
    "X_train, X_valid=X_train_full[:-5000], X_train_full[-5000:]\n",
    "y_train, y_valid=y_train_full[:-5000], y_train_full[-5000:]"
   ]
  },
  {
   "cell_type": "markdown",
   "id": "05366ebd-b135-4856-b7d6-fc4ca09d7c08",
   "metadata": {},
   "source": [
    "## Train all layers at once"
   ]
  },
  {
   "cell_type": "code",
   "execution_count": null,
   "id": "71f43d50-5a20-41e2-84ba-77542af7f101",
   "metadata": {},
   "outputs": [],
   "source": [
    "def rounded_accuracy(y_true, y_pred):\n",
    "    return keras.metrics.binary_accuracy(tf.round(y_true), tf.round(y_pred))"
   ]
  },
  {
   "cell_type": "code",
   "execution_count": null,
   "id": "17b31121-91b3-485b-8865-92c92ee901ef",
   "metadata": {},
   "outputs": [],
   "source": [
    "tf.random.set_seed(42)\n",
    "np.random.seed(42)\n",
    "\n",
    "stacked_encoder = keras.models.Sequential([\n",
    "    keras.layers.Flatten(input_shape[28,28]),\n",
    "    keras.layers.Dense(100, activation= 'selu'),\n",
    "    keras.layers.Dense(30, activation= 'selu')])\n",
    "\n",
    "stacked_decoder = keras.models.Sequential([\n",
    "    keras.layers.Dense(100, activation= 'selu', input_shape=[30]),\n",
    "    keras.layers.Dense(28*28, activation= 'sigmoid'),\n",
    "    keras.layers.Reshape([28,28])])\n",
    "\n",
    "stacked_ae=keras.models.Sequential([stacked_encoder, stacked_decoder])\n",
    "stacked_ae.compile(loss=\"binary_crossentropy\",\n",
    "                   optimizer=keras.optimizers.SGD(learning_rate=1.5), metrics=[rounded_accuracy])\n",
    "history=stacked_ae.fit(X_train, X_train, epochs=20, validation_data=(X_valid, X_valid))"
   ]
  },
  {
   "cell_type": "code",
   "execution_count": null,
   "id": "ed1789f2-9da2-40a9-b5f0-2c57cf7710a7",
   "metadata": {},
   "outputs": [],
   "source": [
    "def show_reconstructions(model, images=X_valid, n_images=5):\n",
    "    reconstructions=model.predict(images[:n_images])\n",
    "    fig=plt.figure(figsize=(n_images * 1.5, 3))\n",
    "    for image_index in range(n_images):\n",
    "        plt.subplot(2, n_images, 1+image_index)\n",
    "        plot_image(images[image_index])\n",
    "        plt.subplot(2, n_images, 1+n_images+image_index)\n",
    "        plot_image(reconstructions[image_index])"
   ]
  },
  {
   "cell_type": "code",
   "execution_count": null,
   "id": "4a534bd8-3f2e-459a-b3fe-4158663732d4",
   "metadata": {},
   "outputs": [],
   "source": [
    "show_reconstructions(stacked_ae)"
   ]
  },
  {
   "cell_type": "markdown",
   "id": "14e38bc4-6df9-4e07-a2d3-b95453d49c20",
   "metadata": {},
   "source": [
    "# Visualizing Fashion MNIST"
   ]
  },
  {
   "cell_type": "code",
   "execution_count": null,
   "id": "06400476-df3d-4e77-80e6-1c9d5f07cf31",
   "metadata": {},
   "outputs": [],
   "source": [
    "np.random.seed(42)\n",
    "\n",
    "from sklearn.manifold import TSNE\n",
    "\n",
    "X_valid_compressed=stacked_encoder.predict(X_valid)\n",
    "tsne=TSNE()\n",
    "X_valid_2D=tsne.fit_transform(X_valid_compressed)\n",
    "X_valid_2D=(X_valid_2D - X_valid_2D.min())/(X_valid_2D.max() - X_valid_2D.min())"
   ]
  },
  {
   "cell_type": "code",
   "execution_count": null,
   "id": "eae0a05b-bb76-4027-bef6-8e49b9b278ca",
   "metadata": {},
   "outputs": [],
   "source": [
    "plt.scatter(X_valid_2D[:,0], X_valid_2D[:,1], c=y_valid, s=10, cmap=\"tab10\")\n",
    "plt.axis('off')"
   ]
  },
  {
   "cell_type": "code",
   "execution_count": null,
   "id": "951ced6c-efe3-4628-9c0b-13a660b0259b",
   "metadata": {},
   "outputs": [],
   "source": [
    "plt.figure(figsize=(10,8))\n",
    "cmap=plt.com.tab10\n",
    "plt.scatter(X_valid_2D[:,0], X_valid_2D[:,1], c= y_valid, s=10, cmap=cmap)\n",
    "image_positions=np.array([[1.,1.]])\n",
    "for index, position in enumerate(X_valid_2D):\n",
    "    dist=np.sum((position - image_positions)** 2, axis=1)\n",
    "    if np.min(dist) > 0.02:\n",
    "        image_positions=np.r_[image_positions, [position]]\n",
    "        imagebox=mpl.offsetbox.AnnotationBbox(\n",
    "            mpl.offsetbox.OffsetImage(X_valid[index], cmap=\"binary\"),\n",
    "            position, bboxprops={'edgecolor':cmap(y_valid[index]), \"lw\":2})\n",
    "        plt.gca().add_artist(imagebox)\n",
    "plt.axis('off')\n"
   ]
  },
  {
   "cell_type": "markdown",
   "id": "086a4004-188f-43e7-b3d7-274cb31af09b",
   "metadata": {},
   "source": [
    "## Tying weights"
   ]
  },
  {
   "cell_type": "code",
   "execution_count": null,
   "id": "eb515d60-794b-46cb-974e-507fa44b413d",
   "metadata": {},
   "outputs": [],
   "source": []
  },
  {
   "cell_type": "code",
   "execution_count": null,
   "id": "275f6e7b-1c54-4d9c-b5ef-fb53ddbd08be",
   "metadata": {},
   "outputs": [],
   "source": []
  }
 ],
 "metadata": {
  "kernelspec": {
   "display_name": "Python 3 (ipykernel)",
   "language": "python",
   "name": "python3"
  },
  "language_info": {
   "codemirror_mode": {
    "name": "ipython",
    "version": 3
   },
   "file_extension": ".py",
   "mimetype": "text/x-python",
   "name": "python",
   "nbconvert_exporter": "python",
   "pygments_lexer": "ipython3",
   "version": "3.10.11"
  }
 },
 "nbformat": 4,
 "nbformat_minor": 5
}
