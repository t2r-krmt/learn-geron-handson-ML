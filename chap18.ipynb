{
 "cells": [
  {
   "cell_type": "code",
   "execution_count": 4,
   "id": "3c614617-3399-474d-a969-f9b023a39504",
   "metadata": {},
   "outputs": [],
   "source": [
    "import sys\n",
    "\n",
    "import sklearn\n",
    "\n",
    "import tensorflow as tf\n",
    "from tensorflow import keras\n",
    "\n",
    "import numpy as np\n",
    "import os\n",
    "\n",
    "np.random.seed(42)\n",
    "tf.random.set_seed(42)\n",
    "\n",
    "import matplotlib as mpl\n",
    "import matplotlib.pyplot as plt\n",
    "mpl.rc('axes', labelsize=14)\n",
    "mpl.rc('xtick', labelsize=12)\n",
    "mpl.rc('ytick', labelsize=12)\n",
    "\n",
    "import matplotlib.animation as animation"
   ]
  },
  {
   "cell_type": "markdown",
   "id": "c8451a32-fa62-4806-89ee-71329503ebd2",
   "metadata": {},
   "source": [
    "[handson-ml3](https://github.com/ageron/handson-ml3/blob/main/18_reinforcement_learning.ipynb)に沿って進める"
   ]
  },
  {
   "cell_type": "markdown",
   "id": "2ea51e60-1618-4bc1-ae00-f786d75324c0",
   "metadata": {},
   "source": [
    "# Introduction to OpenAI gym"
   ]
  },
  {
   "cell_type": "markdown",
   "id": "dde3dc74-50c4-4cd8-b266-e742669b9b88",
   "metadata": {},
   "source": [
    "[github](https://github.com/openai/gym)"
   ]
  },
  {
   "cell_type": "code",
   "execution_count": 5,
   "id": "c19daa89-8279-44b4-9248-e1eac39dbfc7",
   "metadata": {},
   "outputs": [],
   "source": [
    "import gym"
   ]
  },
  {
   "cell_type": "code",
   "execution_count": 6,
   "id": "0f1841ff-bc60-4639-b8c9-5ef81334b465",
   "metadata": {
    "tags": []
   },
   "outputs": [
    {
     "data": {
      "text/plain": [
       "['ALE/Adventure-ram-v5',\n",
       " 'ALE/Adventure-v5',\n",
       " 'ALE/AirRaid-ram-v5',\n",
       " 'ALE/AirRaid-v5',\n",
       " 'ALE/Alien-ram-v5',\n",
       " '...']"
      ]
     },
     "execution_count": 6,
     "metadata": {},
     "output_type": "execute_result"
    }
   ],
   "source": [
    "envs=gym.envs.registry\n",
    "sorted(envs.keys())[:5]+[\"...\"]"
   ]
  },
  {
   "cell_type": "code",
   "execution_count": 7,
   "id": "1982adbb-904a-48b9-800e-1f6650009573",
   "metadata": {},
   "outputs": [
    {
     "data": {
      "text/plain": [
       "EnvSpec(id='CartPole-v1', entry_point='gym.envs.classic_control.cartpole:CartPoleEnv', reward_threshold=475.0, nondeterministic=False, max_episode_steps=500, order_enforce=True, autoreset=False, disable_env_checker=False, apply_api_compatibility=False, kwargs={}, namespace=None, name='CartPole', version=1)"
      ]
     },
     "execution_count": 7,
     "metadata": {},
     "output_type": "execute_result"
    }
   ],
   "source": [
    "envs['CartPole-v1']"
   ]
  },
  {
   "cell_type": "code",
   "execution_count": 8,
   "id": "5ef1fd68-c74c-4206-a273-997c013b808a",
   "metadata": {},
   "outputs": [],
   "source": [
    "env=gym.make('CartPole-v1',render_mode='rgb_array')"
   ]
  },
  {
   "cell_type": "code",
   "execution_count": 9,
   "id": "ddca3e2e-91ba-4f57-81f9-db625aa6d0fd",
   "metadata": {},
   "outputs": [],
   "source": [
    "obs, info =env.reset(seed=42)"
   ]
  },
  {
   "cell_type": "code",
   "execution_count": 10,
   "id": "156e6acd-c8ac-4e92-a55f-e0777cfac5d9",
   "metadata": {},
   "outputs": [
    {
     "data": {
      "text/plain": [
       "array([ 0.0273956 , -0.00611216,  0.03585979,  0.0197368 ], dtype=float32)"
      ]
     },
     "execution_count": 10,
     "metadata": {},
     "output_type": "execute_result"
    }
   ],
   "source": [
    "obs"
   ]
  },
  {
   "cell_type": "code",
   "execution_count": 11,
   "id": "d790fab8-fee9-468e-bb49-e78a85bef893",
   "metadata": {},
   "outputs": [
    {
     "data": {
      "text/plain": [
       "{}"
      ]
     },
     "execution_count": 11,
     "metadata": {},
     "output_type": "execute_result"
    }
   ],
   "source": [
    "info"
   ]
  },
  {
   "cell_type": "code",
   "execution_count": 12,
   "id": "d1d40d84-1ae0-4077-8120-c12f1535165a",
   "metadata": {},
   "outputs": [],
   "source": [
    "try:\n",
    "    import pyvirtualdisplay\n",
    "    display= pyvirtualdisplay.Display(visible=0, size=(1400,900)).start()\n",
    "except ImportError:\n",
    "    pass"
   ]
  },
  {
   "cell_type": "code",
   "execution_count": 13,
   "id": "d2457807-8b98-4ed5-96d1-d9626be4aee3",
   "metadata": {},
   "outputs": [
    {
     "data": {
      "text/plain": [
       "(400, 600, 3)"
      ]
     },
     "execution_count": 13,
     "metadata": {},
     "output_type": "execute_result"
    }
   ],
   "source": [
    "img= env.render()\n",
    "img.shape"
   ]
  },
  {
   "cell_type": "code",
   "execution_count": 14,
   "id": "289777eb-fb29-42b2-87d9-6c1dd7d243d7",
   "metadata": {},
   "outputs": [],
   "source": [
    "def plot_environment(env, figsize=(5,4)):\n",
    "    plt.figure(figsize=figsize)\n",
    "    img=env.render()\n",
    "    plt.imshow(img)\n",
    "    plt.axis('off')\n",
    "    return img"
   ]
  },
  {
   "cell_type": "code",
   "execution_count": 15,
   "id": "d564b332-cd5e-4429-a04a-8d0541788a15",
   "metadata": {},
   "outputs": [
    {
     "data": {
      "image/png": "[encoded data removed]",
      "text/plain": [
       "<Figure size 360x288 with 1 Axes>"
      ]
     },
     "metadata": {
      "needs_background": "light"
     },
     "output_type": "display_data"
    }
   ],
   "source": [
    "plot_environment(env)\n",
    "plt.show()"
   ]
  },
  {
   "cell_type": "code",
   "execution_count": 16,
   "id": "fd18c9f3-23ec-4383-aa71-c05046833737",
   "metadata": {},
   "outputs": [
    {
     "data": {
      "text/plain": [
       "Discrete(2)"
      ]
     },
     "execution_count": 16,
     "metadata": {},
     "output_type": "execute_result"
    }
   ],
   "source": [
    "env.action_space"
   ]
  },
  {
   "cell_type": "code",
   "execution_count": 17,
   "id": "2e5cdd06-6e86-4101-879c-12745973bb18",
   "metadata": {},
   "outputs": [
    {
     "data": {
      "text/plain": [
       "array([ 0.02727336,  0.18847767,  0.03625453, -0.26141977], dtype=float32)"
      ]
     },
     "execution_count": 17,
     "metadata": {},
     "output_type": "execute_result"
    }
   ],
   "source": [
    "action=1\n",
    "obs, reward, done, truncated, info=env.step(action)\n",
    "obs"
   ]
  },
  {
   "cell_type": "code",
   "execution_count": 18,
   "id": "3ee3a5d5-a372-4e33-bacb-9979205a86fc",
   "metadata": {},
   "outputs": [
    {
     "data": {
      "image/png": "[encoded data removed]",
      "text/plain": [
       "<Figure size 360x288 with 1 Axes>"
      ]
     },
     "metadata": {
      "needs_background": "light"
     },
     "output_type": "display_data"
    }
   ],
   "source": [
    "plot_environment(env)\n",
    "plt.show()"
   ]
  },
  {
   "cell_type": "markdown",
   "id": "5ca52019-f366-4547-8008-8415e926fba7",
   "metadata": {},
   "source": [
    "reward:報酬、最終ステップに対していくらの報酬が得られたか"
   ]
  },
  {
   "cell_type": "code",
   "execution_count": 19,
   "id": "7c326e6e-138a-4e8c-808f-99e2441c370b",
   "metadata": {},
   "outputs": [
    {
     "data": {
      "text/plain": [
       "1.0"
      ]
     },
     "execution_count": 19,
     "metadata": {},
     "output_type": "execute_result"
    }
   ],
   "source": [
    "reward"
   ]
  },
  {
   "cell_type": "markdown",
   "id": "9acd9dad-ad17-4857-95c8-d6216d1ba66f",
   "metadata": {},
   "source": [
    "done:ゲームが終了したかどうか"
   ]
  },
  {
   "cell_type": "code",
   "execution_count": 20,
   "id": "7b5c1497-2b0f-45d0-a8be-ac241f35a9a9",
   "metadata": {},
   "outputs": [
    {
     "data": {
      "text/plain": [
       "False"
      ]
     },
     "execution_count": 20,
     "metadata": {},
     "output_type": "execute_result"
    }
   ],
   "source": [
    "done"
   ]
  },
  {
   "cell_type": "markdown",
   "id": "4cec9d24-cb0f-4a3c-93fe-979454d78ee8",
   "metadata": {},
   "source": [
    "truncated:環境を中断した時にTrueになる"
   ]
  },
  {
   "cell_type": "code",
   "execution_count": 21,
   "id": "f43472f9-af7c-40d1-81e5-e2631cc93d16",
   "metadata": {},
   "outputs": [
    {
     "data": {
      "text/plain": [
       "False"
      ]
     },
     "execution_count": 21,
     "metadata": {},
     "output_type": "execute_result"
    }
   ],
   "source": [
    "truncated"
   ]
  },
  {
   "cell_type": "markdown",
   "id": "8db651af-b3c2-4ab7-9464-f2fe0915d68d",
   "metadata": {},
   "source": [
    "info:環境特有の情報を辞書型で与える。デバッグや訓練に有用。"
   ]
  },
  {
   "cell_type": "code",
   "execution_count": 22,
   "id": "0b2d32e0-2f0c-4181-8605-8eae0cf6cd50",
   "metadata": {},
   "outputs": [
    {
     "data": {
      "text/plain": [
       "{}"
      ]
     },
     "execution_count": 22,
     "metadata": {},
     "output_type": "execute_result"
    }
   ],
   "source": [
    "info"
   ]
  },
  {
   "cell_type": "markdown",
   "id": "bfe1af5e-65b2-4f6b-9cae-fc5590a3c764",
   "metadata": {},
   "source": [
    "エピソードの最後まで達したら環境をリセットする必要がある。"
   ]
  },
  {
   "cell_type": "code",
   "execution_count": 23,
   "id": "18f73033-e1a9-4cda-9ecb-c92ebb662fd8",
   "metadata": {},
   "outputs": [],
   "source": [
    "if done:\n",
    "    obs, info=env.reset()"
   ]
  },
  {
   "cell_type": "markdown",
   "id": "7a1bfb35-592b-436d-ae2f-0c7c2e5f5cd0",
   "metadata": {},
   "source": [
    "# A simple hard-coded policy"
   ]
  },
  {
   "cell_type": "code",
   "execution_count": 24,
   "id": "eecfb2bc-0680-4f94-bb6f-453e6091cd19",
   "metadata": {},
   "outputs": [],
   "source": [
    "def basic_policy(obs):\n",
    "    angle=obs[2]\n",
    "    return 0 if angle <0 else 1\n",
    "\n",
    "totals=[]\n",
    "for episode in range(500):\n",
    "    episode_rewards=0\n",
    "    obs, info=env.reset(seed = episode)\n",
    "    for step in range(200):\n",
    "        action = basic_policy(obs)\n",
    "        obs, reward, done,truncated, info = env.step(action)\n",
    "        episode_rewards += reward\n",
    "        if done or truncated:\n",
    "            break\n",
    "    totals.append(episode_rewards)\n",
    "\n"
   ]
  },
  {
   "cell_type": "code",
   "execution_count": 25,
   "id": "c3b7d2e7-ec5f-411c-93d1-a2833b2d7793",
   "metadata": {},
   "outputs": [
    {
     "data": {
      "text/plain": [
       "(41.698, 8.389445512070509, 24.0, 63.0)"
      ]
     },
     "execution_count": 25,
     "metadata": {},
     "output_type": "execute_result"
    }
   ],
   "source": [
    "np.mean(totals), np.std(totals), min(totals), max(totals)"
   ]
  },
  {
   "cell_type": "markdown",
   "id": "b4b81706-de5f-42a6-a40d-e7d975fabdb7",
   "metadata": {},
   "source": [
    "[animation](https://github.com/ageron/handson-ml3/blob/a858c72c76d42285d73c7f3b21dc9f4302c4bd26//tools_matplotlib.ipynb#Animations)"
   ]
  },
  {
   "cell_type": "code",
   "execution_count": 26,
   "id": "32d1e1e1-64b4-44c7-84ad-e312452fdf59",
   "metadata": {},
   "outputs": [],
   "source": [
    "\n",
    "x = np.linspace(-1, 1, 100)\n",
    "y = np.sin(x**2*25)\n",
    "data = np.array([x, y])\n",
    "\n",
    "fig = plt.figure()\n",
    "line, = plt.plot([], [], \"r-\")  # start with an empty plot\n",
    "plt.axis([-1.1, 1.1, -1.1, 1.1])\n",
    "plt.plot([-0.5, 0.5], [0, 0], \"b-\", [0, 0], [-0.5, 0.5], \"b-\", 0, 0, \"ro\")\n",
    "plt.grid(True)\n",
    "plt.title(\"Marvelous animation\")\n",
    "\n",
    "# this function will be called at every iteration\n",
    "def update_line(num, data, line):\n",
    "    # we only plot the first `num` data points.\n",
    "    line.set_data(data[..., :num] + np.random.rand(2, num) / 25)\n",
    "    return line,\n",
    "\n",
    "line_ani = animation.FuncAnimation(fig, update_line, frames=50,\n",
    "                                   fargs=(data, line), interval=100)\n",
    "plt.close()  # call close() to avoid displaying the static plot"
   ]
  },
  {
   "cell_type": "code",
   "execution_count": 27,
   "id": "99c32b91-56e7-49b1-9a6e-44d4269e300e",
   "metadata": {},
   "outputs": [],
   "source": [
    "from IPython.display import HTML"
   ]
  },
  {
   "cell_type": "code",
   "execution_count": 28,
   "id": "ae80c05b-55ef-4b6e-b1f4-d5affa2be4f0",
   "metadata": {},
   "outputs": [],
   "source": [
    "HTML(line_ani.to_jshtml())\n",
    "mpl.rc('animation', html='jshtml')"
   ]
  },
  {
   "cell_type": "code",
   "execution_count": 29,
   "id": "a6531673-4fb3-4025-972e-7a1ac34badd4",
   "metadata": {},
   "outputs": [
    {
     "data": {
      "text/html": [
       "\n",
       "<link rel=\"stylesheet\"\n",
       "href=\"https://maxcdn.bootstrapcdn.com/font-awesome/4.4.0/css/font-awesome.min.css\">\n",
       "<script language=\"javascript\">\n",
       "  function isInternetExplorer() {\n",
       "    ua = navigator.userAgent;\n",
       "    /* MSIE used to detect old browsers and Trident used to newer ones*/\n",
       "    return ua.indexOf(\"MSIE \") > -1 || ua.indexOf(\"Trident/\") > -1;\n",
       "  }\n",
       "\n",
       "  /* Define the Animation class */\n",
       "  function Animation(frames, img_id, slider_id, interval, loop_select_id){\n",
       "    this.img_id = img_id;\n",
       "    this.slider_id = slider_id;\n",
       "    this.loop_select_id = loop_select_id;\n",
       "    this.interval = interval;\n",
       "    this.current_frame = 0;\n",
       "    this.direction = 0;\n",
       "    this.timer = null;\n",
       "    this.frames = new Array(frames.length);\n",
       "\n",
       "    for (var i=0; i<frames.length; i++)\n",
       "    {\n",
       "     this.frames[i] = new Image();\n",
       "     this.frames[i].src = frames[i];\n",
       "    }\n",
       "    var slider = document.getElementById(this.slider_id);\n",
       "    slider.max = this.frames.length - 1;\n",
       "    if (isInternetExplorer()) {\n",
       "        // switch from oninput to onchange because IE <= 11 does not conform\n",
       "        // with W3C specification. It ignores oninput and onchange behaves\n",
       "        // like oninput. In contrast, Microsoft Edge behaves correctly.\n",
       "        slider.setAttribute('onchange', slider.getAttribute('oninput'));\n",
       "        slider.setAttribute('oninput', null);\n",
       "    }\n",
       "    this.set_frame(this.current_frame);\n",
       "  }\n",
       "\n",
       "  Animation.prototype.get_loop_state = function(){\n",
       "    var button_group = document[this.loop_select_id].state;\n",
       "    for (var i = 0; i < button_group.length; i++) {\n",
       "        var button = button_group[i];\n",
       "        if (button.checked) {\n",
       "            return button.value;\n",
       "        }\n",
       "    }\n",
       "    return undefined;\n",
       "  }\n",
       "\n",
       "  Animation.prototype.set_frame = function(frame){\n",
       "    this.current_frame = frame;\n",
       "    document.getElementById(this.img_id).src =\n",
       "            this.frames[this.current_frame].src;\n",
       "    document.getElementById(this.slider_id).value = this.current_frame;\n",
       "  }\n",
       "\n",
       "  Animation.prototype.next_frame = function()\n",
       "  {\n",
       "    this.set_frame(Math.min(this.frames.length - 1, this.current_frame + 1));\n",
       "  }\n",
       "\n",
       "  Animation.prototype.previous_frame = function()\n",
       "  {\n",
       "    this.set_frame(Math.max(0, this.current_frame - 1));\n",
       "  }\n",
       "\n",
       "  Animation.prototype.first_frame = function()\n",
       "  {\n",
       "    this.set_frame(0);\n",
       "  }\n",
       "\n",
       "  Animation.prototype.last_frame = function()\n",
       "  {\n",
       "    this.set_frame(this.frames.length - 1);\n",
       "  }\n",
       "\n",
       "  Animation.prototype.slower = function()\n",
       "  {\n",
       "    this.interval /= 0.7;\n",
       "    if(this.direction > 0){this.play_animation();}\n",
       "    else if(this.direction < 0){this.reverse_animation();}\n",
       "  }\n",
       "\n",
       "  Animation.prototype.faster = function()\n",
       "  {\n",
       "    this.interval *= 0.7;\n",
       "    if(this.direction > 0){this.play_animation();}\n",
       "    else if(this.direction < 0){this.reverse_animation();}\n",
       "  }\n",
       "\n",
       "  Animation.prototype.anim_step_forward = function()\n",
       "  {\n",
       "    this.current_frame += 1;\n",
       "    if(this.current_frame < this.frames.length){\n",
       "      this.set_frame(this.current_frame);\n",
       "    }else{\n",
       "      var loop_state = this.get_loop_state();\n",
       "      if(loop_state == \"loop\"){\n",
       "        this.first_frame();\n",
       "      }else if(loop_state == \"reflect\"){\n",
       "        this.last_frame();\n",
       "        this.reverse_animation();\n",
       "      }else{\n",
       "        this.pause_animation();\n",
       "        this.last_frame();\n",
       "      }\n",
       "    }\n",
       "  }\n",
       "\n",
       "  Animation.prototype.anim_step_reverse = function()\n",
       "  {\n",
       "    this.current_frame -= 1;\n",
       "    if(this.current_frame >= 0){\n",
       "      this.set_frame(this.current_frame);\n",
       "    }else{\n",
       "      var loop_state = this.get_loop_state();\n",
       "      if(loop_state == \"loop\"){\n",
       "        this.last_frame();\n",
       "      }else if(loop_state == \"reflect\"){\n",
       "        this.first_frame();\n",
       "        this.play_animation();\n",
       "      }else{\n",
       "        this.pause_animation();\n",
       "        this.first_frame();\n",
       "      }\n",
       "    }\n",
       "  }\n",
       "\n",
       "  Animation.prototype.pause_animation = function()\n",
       "  {\n",
       "    this.direction = 0;\n",
       "    if (this.timer){\n",
       "      clearInterval(this.timer);\n",
       "      this.timer = null;\n",
       "    }\n",
       "  }\n",
       "\n",
       "  Animation.prototype.play_animation = function()\n",
       "  {\n",
       "    this.pause_animation();\n",
       "    this.direction = 1;\n",
       "    var t = this;\n",
       "    if (!this.timer) this.timer = setInterval(function() {\n",
       "        t.anim_step_forward();\n",
       "    }, this.interval);\n",
       "  }\n",
       "\n",
       "  Animation.prototype.reverse_animation = function()\n",
       "  {\n",
       "    this.pause_animation();\n",
       "    this.direction = -1;\n",
       "    var t = this;\n",
       "    if (!this.timer) this.timer = setInterval(function() {\n",
       "        t.anim_step_reverse();\n",
       "    }, this.interval);\n",
       "  }\n",
       "</script>\n",
       "\n",
       "<style>\n",
       ".animation {\n",
       "    display: inline-block;\n",
       "    text-align: center;\n",
       "}\n",
       "input[type=range].anim-slider {\n",
       "    width: 374px;\n",
       "    margin-left: auto;\n",
       "    margin-right: auto;\n",
       "}\n",
       ".anim-buttons {\n",
       "    margin: 8px 0px;\n",
       "}\n",
       ".anim-buttons button {\n",
       "    padding: 0;\n",
       "    width: 36px;\n",
       "}\n",
       ".anim-state label {\n",
       "    margin-right: 8px;\n",
       "}\n",
       ".anim-state input {\n",
       "    margin: 0;\n",
       "    vertical-align: middle;\n",
       "}\n",
       "</style>\n",
       "\n",
       "<div class=\"animation\">\n",
       "  <img id=\"_anim_img140f2a721c1c415eb81a5aca3663d160\">\n",
       "  <div class=\"anim-controls\">\n",
       "    <input id=\"_anim_slider140f2a721c1c415eb81a5aca3663d160\" type=\"range\" class=\"anim-slider\"\n",
       "           name=\"points\" min=\"0\" max=\"1\" step=\"1\" value=\"0\"\n",
       "           oninput=\"anim140f2a721c1c415eb81a5aca3663d160.set_frame(parseInt(this.value));\">\n",
       "    <div class=\"anim-buttons\">\n",
       "      <button title=\"Decrease speed\" aria-label=\"Decrease speed\" onclick=\"anim140f2a721c1c415eb81a5aca3663d160.slower()\">\n",
       "          <i class=\"fa fa-minus\"></i></button>\n",
       "      <button title=\"First frame\" aria-label=\"First frame\" onclick=\"anim140f2a721c1c415eb81a5aca3663d160.first_frame()\">\n",
       "        <i class=\"fa fa-fast-backward\"></i></button>\n",
       "      <button title=\"Previous frame\" aria-label=\"Previous frame\" onclick=\"anim140f2a721c1c415eb81a5aca3663d160.previous_frame()\">\n",
       "          <i class=\"fa fa-step-backward\"></i></button>\n",
       "      <button title=\"Play backwards\" aria-label=\"Play backwards\" onclick=\"anim140f2a721c1c415eb81a5aca3663d160.reverse_animation()\">\n",
       "          <i class=\"fa fa-play fa-flip-horizontal\"></i></button>\n",
       "      <button title=\"Pause\" aria-label=\"Pause\" onclick=\"anim140f2a721c1c415eb81a5aca3663d160.pause_animation()\">\n",
       "          <i class=\"fa fa-pause\"></i></button>\n",
       "      <button title=\"Play\" aria-label=\"Play\" onclick=\"anim140f2a721c1c415eb81a5aca3663d160.play_animation()\">\n",
       "          <i class=\"fa fa-play\"></i></button>\n",
       "      <button title=\"Next frame\" aria-label=\"Next frame\" onclick=\"anim140f2a721c1c415eb81a5aca3663d160.next_frame()\">\n",
       "          <i class=\"fa fa-step-forward\"></i></button>\n",
       "      <button title=\"Last frame\" aria-label=\"Last frame\" onclick=\"anim140f2a721c1c415eb81a5aca3663d160.last_frame()\">\n",
       "          <i class=\"fa fa-fast-forward\"></i></button>\n",
       "      <button title=\"Increase speed\" aria-label=\"Increase speed\" onclick=\"anim140f2a721c1c415eb81a5aca3663d160.faster()\">\n",
       "          <i class=\"fa fa-plus\"></i></button>\n",
       "    </div>\n",
       "    <form title=\"Repetition mode\" aria-label=\"Repetition mode\" action=\"#n\" name=\"_anim_loop_select140f2a721c1c415eb81a5aca3663d160\"\n",
       "          class=\"anim-state\">\n",
       "      <input type=\"radio\" name=\"state\" value=\"once\" id=\"_anim_radio1_140f2a721c1c415eb81a5aca3663d160\"\n",
       "             checked>\n",
       "      <label for=\"_anim_radio1_140f2a721c1c415eb81a5aca3663d160\">Once</label>\n",
       "      <input type=\"radio\" name=\"state\" value=\"loop\" id=\"_anim_radio2_140f2a721c1c415eb81a5aca3663d160\"\n",
       "             >\n",
       "      <label for=\"_anim_radio2_140f2a721c1c415eb81a5aca3663d160\">Loop</label>\n",
       "      <input type=\"radio\" name=\"state\" value=\"reflect\" id=\"_anim_radio3_140f2a721c1c415eb81a5aca3663d160\"\n",
       "             >\n",
       "      <label for=\"_anim_radio3_140f2a721c1c415eb81a5aca3663d160\">Reflect</label>\n",
       "    </form>\n",
       "  </div>\n",
       "</div>\n",
       "\n",
       "\n",
       "<script language=\"javascript\">\n",
       "  /* Instantiate the Animation class. */\n",
       "  /* The IDs given should match those used in the template above. */\n",
       "  (function() {\n",
       "    var img_id = \"_anim_img140f2a721c1c415eb81a5aca3663d160\";\n",
       "    var slider_id = \"_anim_slider140f2a721c1c415eb81a5aca3663d160\";\n",
       "    var loop_select_id = \"_anim_loop_select140f2a721c1c415eb81a5aca3663d160\";\n",
       "    var frames = new Array(1);\n",
       "    \n",
       "  frames[0] = \"data:image/png;base64,iVBORw0KGgoAAAANSUhEUgAAAbAAAAEgCAYAAADVKCZpAAAAOXRFWHRTb2Z0d2FyZQBNYXRwbG90\\\n",
       "bGliIHZlcnNpb24zLjUuMiwgaHR0cHM6Ly9tYXRwbG90bGliLm9yZy8qNh9FAAAACXBIWXMAAAsT\\\n",
       "AAALEwEAmpwYAAAIVklEQVR4nO3dv29dZx3H8e9zbSspKSQZ0hgJVFhQLDZm6MLaoXSFf6MDU6Wu\\\n",
       "iL+iA0Ji60SWCAkhWlS1GahAlF+1qpofbYLq1Kl9fQ6DO8VuuTe+POd+4tdrPL7K/Ubx1TvPuec8\\\n",
       "p43jWACQZjb1AADwOAQMgEgCBkAkAQMgkoABEEnAAIgkYABEEjAAIgkYAJEEDIBIAgZAJAEDIJKA\\\n",
       "ARBJwACIJGAARBIwACIJGACRBAyASAIGQCQBAyCSgAEQScAAiCRgAEQSMAAiCRgAkQQMgEgCBkAk\\\n",
       "AQMgkoABEEnAAIgkYABEEjAAIgkYAJEEDIBIm1MP0NE49QAAa6hNPcDjsgIDIJKAARBJwACIJGAA\\\n",
       "RBIwACIJGACRBAyASAIGQCQBAyCSgAEQScAAiCRgAEQSMAAiCRgAkQQMgEgCBkAkAQMgkoABEEnA\\\n",
       "AIgkYABEEjAAIgkYAJEEDIBIAgZAJAEDIJKAARBJwACIJGAARBIwACIJGACRBAyASAIGQCQBAyCS\\\n",
       "gAEQScAAiCRgAEQSMAAiCRgAkQQMgEgCBkAkAQMgkoABEEnAAIgkYABEEjAAIgkYAJEEDIBIAgZA\\\n",
       "JAEDIJKAARBJwACIJGAARBIwACIJGACRBAyASAIGQCQBAyCSgAEQScAAiCRgAEQSMAAiCRgAkQQM\\\n",
       "gEgCBkAkAQMgkoABEEnAAIgkYABEEjAAIgkYAJEEDIBIAgZAJAEDIJKAARBJwACIJGAARBIwACIJ\\\n",
       "GACRBAyASAIGQCQBAyCSgAEQScAAiCRgAEQSMAAiCRgAkQQMgEgCBkAkAQMgkoABEEnAAIi0OfUA\\\n",
       "cBEdPrhfD+/vnTq+deVaPXVte4KJII+AQWfjONa9v71V7/36Z6d+dmPnufrGcz+aYCrI4xQiTGA8\\\n",
       "nk89AsQTMJjAMD+aegSIJ2DQ3WgFBisgYNDbWDUMVmBwXgIG3VmBwSoIGEzAd2BwfgIGnY1VNViB\\\n",
       "wbkJGPQ2HNfD+x+cPt5mdenqM/3ngVACBp2N41iffvzhqeOtzeryV25MMBFkEjBYI21ja+oRIIaA\\\n",
       "wbpoVbNNAYNFCRisjVZtZntSWJSAwRqZOYUICxMwWBOttZptWIHBogQM1oiLOGBxAgZrZLZpBQaL\\\n",
       "EjDobByHOtmP41GtWtvoPQ7EEjDobDyen90vYCkCBp2d7ESvYHBeAgadDcO8xlHA4LwEDDqzAoPV\\\n",
       "EDDobDieV1mBwbkJGHQ2Hh8JGKyAgEFn4zB3AhFWQMCgs08+er+G+eGp45evbVezlRQsTMCgs/nB\\\n",
       "ftU4nDq+deVqtZkbmWFRAgZrYraxVa21qceAGAIGa+LkWWACBosSMFgTs43NKiswWJiAwZpoAgZL\\\n",
       "ETBYE7ONTScQYQkCBmvCCgyWI2DQ0ckmvmffxtxmW+UiDlicgEFnn7cTfZv5OMIyfGKgq/Gz3ejP\\\n",
       "5j4wWJyAQU/jeLIbPXBuAgYdjVU1DkdTjwFPBAGDnsYvPoUILE7AoCenEGFlBAy6sgKDVREw6Ggc\\\n",
       "xxoGAYNVEDDoaByHmj98cPoHrdXG1uX+A0EwAYOOhvlhHXy4e+r4bPNSXbnx7AQTQS4BgzXQWvvs\\\n",
       "eWDAogQM1kI72cwXWJiAwTpo7eSBlsDCBAzWQKuyAoMlCRisAyswWJqAwTpwEQcsTcBgLbiIA5Yl\\\n",
       "YNDTMJx5uLVWrfk4wjJ8YqCj4dijVGBVBAw6Go/nNY7j1GPAE0HAoCMrMFgdAYOOTp4FZgUGqyBg\\\n",
       "0NFoBQYrI2DQ0XA8twCDFREw6OhkBaZgsAoCBh0dPrh/5lWIm5efrtbaBBNBLrf+wznt7u7W7u7p\\\n",
       "h1SeZeP9N2s2nr6ZeX94qn77xu/qZFvfL7azs1PXr19fdkx44rQLdE/KhfmL0tcrr7xSL7/88kKv\\\n",
       "/fEPv1s/+N7OqeO/+NU79dOf/6aOh//9a/raa6/V888/v/Sc8Dlil/5WYNDZ0bBV73/6rfrk+Gpd\\\n",
       "3fxHbV/6ax0eHdfF+b8krIaAQUdH46W6+/H3699HX6uxWrXaqf/Mn6mHR29PPRrEcREHdPTnT75T\\\n",
       "/zr6eo01q6pWY23Uew+/Xe89eLZGZ7lhKQIGHc3HrXr0K4exZnVw1HxLC0sSMOjoqdl+PVqqWc2r\\\n",
       "He/rFyxJwKCjb37pbj17+fe10Q6raqyt9rBuXXm9rrW/TD0axLkwF3Hs7e1NPQJPqP39/YVf+8vX\\\n",
       "/1h/+PtP6qOjr9bB8HR9eeNevbH5z3rrTx8s/Gfcu3fP7zMrs729PfUIj+3CBOzVV1+degSeUHfv\\\n",
       "3l34tW+/u1dvv7tXVe889vvduXNHwFiZl156aeoRHtuFCVjyPxLr7eDgoG7fvt3t/V588UU3MkP5\\\n",
       "DgyAUAIGQCQBAyCSgAEQScAAiCRgAES6MJfRw//LrVu36oUXXuj2fjdv3uz2XrDOPNAS4GKLfaCl\\\n",
       "U4gARBIwACIJGACRBAyASAIGQCQBAyCSgAEQScAAiCRgAEQSMAAiCRgAkQQMgEgCBkAkAQMgkoAB\\\n",
       "EEnAAIgkYABEEjAAIgkYAJEEDIBIAgZAJAEDIJKAARBJwACIJGAARBIwACIJGACRBAyASAIGQCQB\\\n",
       "AyCSgAEQScAAiCRgAEQSMAAiCRgAkQQMgEgCBkAkAQMgkoABEEnAAIgkYABEEjAAIgkYAJEEDIBI\\\n",
       "AgZApM2pB+ioTT0AAKtjBQZAJAEDIJKAARBJwACIJGAARBIwACIJGACRBAyASAIGQCQBAyCSgAEQ\\\n",
       "ScAAiCRgAEQSMAAiCRgAkQQMgEgCBkAkAQMgkoABEEnAAIgkYABEEjAAIgkYAJEEDIBIAgZAJAED\\\n",
       "IJKAARBJwACIJGAARBIwACIJGACRBAyASAIGQCQBAyCSgAEQ6b+jRU/YJHzQWAAAAABJRU5ErkJg\\\n",
       "gg==\\\n",
       "\"\n",
       "\n",
       "\n",
       "    /* set a timeout to make sure all the above elements are created before\n",
       "       the object is initialized. */\n",
       "    setTimeout(function() {\n",
       "        anim140f2a721c1c415eb81a5aca3663d160 = new Animation(frames, img_id, slider_id, 40.0,\n",
       "                                 loop_select_id);\n",
       "    }, 0);\n",
       "  })()\n",
       "</script>\n"
      ],
      "text/plain": [
       "<matplotlib.animation.FuncAnimation at 0x7fa9a07b0310>"
      ]
     },
     "execution_count": 29,
     "metadata": {},
     "output_type": "execute_result"
    }
   ],
   "source": [
    "def update_scene(num, frames, patch):\n",
    "    patch.set_data(frames[num])\n",
    "    return patch,\n",
    "\n",
    "def plot_animation(frames, repeat=False, interval=40):\n",
    "    fig=plt.figure()\n",
    "    patch=plt.imshow(frames[0])\n",
    "    plt.axis('off')\n",
    "    anim = animation.FuncAnimation(\n",
    "        fig, update_scene, fargs=(frames, patch), \n",
    "        frames=len(frames), repeat=repeat, interval=interval)\n",
    "    plt.close()\n",
    "    return anim\n",
    "\n",
    "def show_one_episode(policy, n_max_steps=200, seed=42):\n",
    "    frames=[]\n",
    "    env=gym.make('CartPole-v1', render_mode='rgb_array')\n",
    "    np.random.seed(seed)\n",
    "    obs, info=env.reset(seed=seed)\n",
    "    for step in range(n_max_steps):\n",
    "        frames.append(env.render())\n",
    "        action=policy(obs)\n",
    "        obs, reward, done, truncated, info=env.step(action)\n",
    "        if done or truncated:\n",
    "            break\n",
    "        env.close()\n",
    "        return plot_animation(frames)\n",
    "\n",
    "show_one_episode(basic_policy)\n"
   ]
  },
  {
   "cell_type": "markdown",
   "id": "da0b79e7-4dba-4af8-bf61-efe4478bf707",
   "metadata": {},
   "source": [
    "# Neural Network Policies"
   ]
  },
  {
   "cell_type": "code",
   "execution_count": 30,
   "id": "d29e3ac7-5067-4ccc-b534-6c70eadb8f33",
   "metadata": {},
   "outputs": [],
   "source": [
    "tf.random.set_seed(42)\n",
    "\n",
    "model=tf.keras.Sequential([\n",
    "    tf.keras.layers.Dense(5, activation='relu'),\n",
    "    tf.keras.layers.Dense(1, activation='sigmoid'),\n",
    "])"
   ]
  },
  {
   "cell_type": "code",
   "execution_count": 32,
   "id": "5c3680de-fce3-4df4-a9d0-adc63c2fd43d",
   "metadata": {},
   "outputs": [
    {
     "data": {
      "text/html": [
       "\n",
       "<link rel=\"stylesheet\"\n",
       "href=\"https://maxcdn.bootstrapcdn.com/font-awesome/4.4.0/css/font-awesome.min.css\">\n",
       "<script language=\"javascript\">\n",
       "  function isInternetExplorer() {\n",
       "    ua = navigator.userAgent;\n",
       "    /* MSIE used to detect old browsers and Trident used to newer ones*/\n",
       "    return ua.indexOf(\"MSIE \") > -1 || ua.indexOf(\"Trident/\") > -1;\n",
       "  }\n",
       "\n",
       "  /* Define the Animation class */\n",
       "  function Animation(frames, img_id, slider_id, interval, loop_select_id){\n",
       "    this.img_id = img_id;\n",
       "    this.slider_id = slider_id;\n",
       "    this.loop_select_id = loop_select_id;\n",
       "    this.interval = interval;\n",
       "    this.current_frame = 0;\n",
       "    this.direction = 0;\n",
       "    this.timer = null;\n",
       "    this.frames = new Array(frames.length);\n",
       "\n",
       "    for (var i=0; i<frames.length; i++)\n",
       "    {\n",
       "     this.frames[i] = new Image();\n",
       "     this.frames[i].src = frames[i];\n",
       "    }\n",
       "    var slider = document.getElementById(this.slider_id);\n",
       "    slider.max = this.frames.length - 1;\n",
       "    if (isInternetExplorer()) {\n",
       "        // switch from oninput to onchange because IE <= 11 does not conform\n",
       "        // with W3C specification. It ignores oninput and onchange behaves\n",
       "        // like oninput. In contrast, Microsoft Edge behaves correctly.\n",
       "        slider.setAttribute('onchange', slider.getAttribute('oninput'));\n",
       "        slider.setAttribute('oninput', null);\n",
       "    }\n",
       "    this.set_frame(this.current_frame);\n",
       "  }\n",
       "\n",
       "  Animation.prototype.get_loop_state = function(){\n",
       "    var button_group = document[this.loop_select_id].state;\n",
       "    for (var i = 0; i < button_group.length; i++) {\n",
       "        var button = button_group[i];\n",
       "        if (button.checked) {\n",
       "            return button.value;\n",
       "        }\n",
       "    }\n",
       "    return undefined;\n",
       "  }\n",
       "\n",
       "  Animation.prototype.set_frame = function(frame){\n",
       "    this.current_frame = frame;\n",
       "    document.getElementById(this.img_id).src =\n",
       "            this.frames[this.current_frame].src;\n",
       "    document.getElementById(this.slider_id).value = this.current_frame;\n",
       "  }\n",
       "\n",
       "  Animation.prototype.next_frame = function()\n",
       "  {\n",
       "    this.set_frame(Math.min(this.frames.length - 1, this.current_frame + 1));\n",
       "  }\n",
       "\n",
       "  Animation.prototype.previous_frame = function()\n",
       "  {\n",
       "    this.set_frame(Math.max(0, this.current_frame - 1));\n",
       "  }\n",
       "\n",
       "  Animation.prototype.first_frame = function()\n",
       "  {\n",
       "    this.set_frame(0);\n",
       "  }\n",
       "\n",
       "  Animation.prototype.last_frame = function()\n",
       "  {\n",
       "    this.set_frame(this.frames.length - 1);\n",
       "  }\n",
       "\n",
       "  Animation.prototype.slower = function()\n",
       "  {\n",
       "    this.interval /= 0.7;\n",
       "    if(this.direction > 0){this.play_animation();}\n",
       "    else if(this.direction < 0){this.reverse_animation();}\n",
       "  }\n",
       "\n",
       "  Animation.prototype.faster = function()\n",
       "  {\n",
       "    this.interval *= 0.7;\n",
       "    if(this.direction > 0){this.play_animation();}\n",
       "    else if(this.direction < 0){this.reverse_animation();}\n",
       "  }\n",
       "\n",
       "  Animation.prototype.anim_step_forward = function()\n",
       "  {\n",
       "    this.current_frame += 1;\n",
       "    if(this.current_frame < this.frames.length){\n",
       "      this.set_frame(this.current_frame);\n",
       "    }else{\n",
       "      var loop_state = this.get_loop_state();\n",
       "      if(loop_state == \"loop\"){\n",
       "        this.first_frame();\n",
       "      }else if(loop_state == \"reflect\"){\n",
       "        this.last_frame();\n",
       "        this.reverse_animation();\n",
       "      }else{\n",
       "        this.pause_animation();\n",
       "        this.last_frame();\n",
       "      }\n",
       "    }\n",
       "  }\n",
       "\n",
       "  Animation.prototype.anim_step_reverse = function()\n",
       "  {\n",
       "    this.current_frame -= 1;\n",
       "    if(this.current_frame >= 0){\n",
       "      this.set_frame(this.current_frame);\n",
       "    }else{\n",
       "      var loop_state = this.get_loop_state();\n",
       "      if(loop_state == \"loop\"){\n",
       "        this.last_frame();\n",
       "      }else if(loop_state == \"reflect\"){\n",
       "        this.first_frame();\n",
       "        this.play_animation();\n",
       "      }else{\n",
       "        this.pause_animation();\n",
       "        this.first_frame();\n",
       "      }\n",
       "    }\n",
       "  }\n",
       "\n",
       "  Animation.prototype.pause_animation = function()\n",
       "  {\n",
       "    this.direction = 0;\n",
       "    if (this.timer){\n",
       "      clearInterval(this.timer);\n",
       "      this.timer = null;\n",
       "    }\n",
       "  }\n",
       "\n",
       "  Animation.prototype.play_animation = function()\n",
       "  {\n",
       "    this.pause_animation();\n",
       "    this.direction = 1;\n",
       "    var t = this;\n",
       "    if (!this.timer) this.timer = setInterval(function() {\n",
       "        t.anim_step_forward();\n",
       "    }, this.interval);\n",
       "  }\n",
       "\n",
       "  Animation.prototype.reverse_animation = function()\n",
       "  {\n",
       "    this.pause_animation();\n",
       "    this.direction = -1;\n",
       "    var t = this;\n",
       "    if (!this.timer) this.timer = setInterval(function() {\n",
       "        t.anim_step_reverse();\n",
       "    }, this.interval);\n",
       "  }\n",
       "</script>\n",
       "\n",
       "<style>\n",
       ".animation {\n",
       "    display: inline-block;\n",
       "    text-align: center;\n",
       "}\n",
       "input[type=range].anim-slider {\n",
       "    width: 374px;\n",
       "    margin-left: auto;\n",
       "    margin-right: auto;\n",
       "}\n",
       ".anim-buttons {\n",
       "    margin: 8px 0px;\n",
       "}\n",
       ".anim-buttons button {\n",
       "    padding: 0;\n",
       "    width: 36px;\n",
       "}\n",
       ".anim-state label {\n",
       "    margin-right: 8px;\n",
       "}\n",
       ".anim-state input {\n",
       "    margin: 0;\n",
       "    vertical-align: middle;\n",
       "}\n",
       "</style>\n",
       "\n",
       "<div class=\"animation\">\n",
       "  <img id=\"_anim_img8c27794a467f432781184bffd0961600\">\n",
       "  <div class=\"anim-controls\">\n",
       "    <input id=\"_anim_slider8c27794a467f432781184bffd0961600\" type=\"range\" class=\"anim-slider\"\n",
       "           name=\"points\" min=\"0\" max=\"1\" step=\"1\" value=\"0\"\n",
       "           oninput=\"anim8c27794a467f432781184bffd0961600.set_frame(parseInt(this.value));\">\n",
       "    <div class=\"anim-buttons\">\n",
       "      <button title=\"Decrease speed\" aria-label=\"Decrease speed\" onclick=\"anim8c27794a467f432781184bffd0961600.slower()\">\n",
       "          <i class=\"fa fa-minus\"></i></button>\n",
       "      <button title=\"First frame\" aria-label=\"First frame\" onclick=\"anim8c27794a467f432781184bffd0961600.first_frame()\">\n",
       "        <i class=\"fa fa-fast-backward\"></i></button>\n",
       "      <button title=\"Previous frame\" aria-label=\"Previous frame\" onclick=\"anim8c27794a467f432781184bffd0961600.previous_frame()\">\n",
       "          <i class=\"fa fa-step-backward\"></i></button>\n",
       "      <button title=\"Play backwards\" aria-label=\"Play backwards\" onclick=\"anim8c27794a467f432781184bffd0961600.reverse_animation()\">\n",
       "          <i class=\"fa fa-play fa-flip-horizontal\"></i></button>\n",
       "      <button title=\"Pause\" aria-label=\"Pause\" onclick=\"anim8c27794a467f432781184bffd0961600.pause_animation()\">\n",
       "          <i class=\"fa fa-pause\"></i></button>\n",
       "      <button title=\"Play\" aria-label=\"Play\" onclick=\"anim8c27794a467f432781184bffd0961600.play_animation()\">\n",
       "          <i class=\"fa fa-play\"></i></button>\n",
       "      <button title=\"Next frame\" aria-label=\"Next frame\" onclick=\"anim8c27794a467f432781184bffd0961600.next_frame()\">\n",
       "          <i class=\"fa fa-step-forward\"></i></button>\n",
       "      <button title=\"Last frame\" aria-label=\"Last frame\" onclick=\"anim8c27794a467f432781184bffd0961600.last_frame()\">\n",
       "          <i class=\"fa fa-fast-forward\"></i></button>\n",
       "      <button title=\"Increase speed\" aria-label=\"Increase speed\" onclick=\"anim8c27794a467f432781184bffd0961600.faster()\">\n",
       "          <i class=\"fa fa-plus\"></i></button>\n",
       "    </div>\n",
       "    <form title=\"Repetition mode\" aria-label=\"Repetition mode\" action=\"#n\" name=\"_anim_loop_select8c27794a467f432781184bffd0961600\"\n",
       "          class=\"anim-state\">\n",
       "      <input type=\"radio\" name=\"state\" value=\"once\" id=\"_anim_radio1_8c27794a467f432781184bffd0961600\"\n",
       "             checked>\n",
       "      <label for=\"_anim_radio1_8c27794a467f432781184bffd0961600\">Once</label>\n",
       "      <input type=\"radio\" name=\"state\" value=\"loop\" id=\"_anim_radio2_8c27794a467f432781184bffd0961600\"\n",
       "             >\n",
       "      <label for=\"_anim_radio2_8c27794a467f432781184bffd0961600\">Loop</label>\n",
       "      <input type=\"radio\" name=\"state\" value=\"reflect\" id=\"_anim_radio3_8c27794a467f432781184bffd0961600\"\n",
       "             >\n",
       "      <label for=\"_anim_radio3_8c27794a467f432781184bffd0961600\">Reflect</label>\n",
       "    </form>\n",
       "  </div>\n",
       "</div>\n",
       "\n",
       "\n",
       "<script language=\"javascript\">\n",
       "  /* Instantiate the Animation class. */\n",
       "  /* The IDs given should match those used in the template above. */\n",
       "  (function() {\n",
       "    var img_id = \"_anim_img8c27794a467f432781184bffd0961600\";\n",
       "    var slider_id = \"_anim_slider8c27794a467f432781184bffd0961600\";\n",
       "    var loop_select_id = \"_anim_loop_select8c27794a467f432781184bffd0961600\";\n",
       "    var frames = new Array(1);\n",
       "    \n",
       "  frames[0] = \"data:image/png;base64,iVBORw0KGgoAAAANSUhEUgAAAbAAAAEgCAYAAADVKCZpAAAAOXRFWHRTb2Z0d2FyZQBNYXRwbG90\\\n",
       "bGliIHZlcnNpb24zLjUuMiwgaHR0cHM6Ly9tYXRwbG90bGliLm9yZy8qNh9FAAAACXBIWXMAAAsT\\\n",
       "AAALEwEAmpwYAAAIVklEQVR4nO3dv29dZx3H8e9zbSspKSQZ0hgJVFhQLDZm6MLaoXSFf6MDU6Wu\\\n",
       "iL+iA0Ji60SWCAkhWlS1GahAlF+1qpofbYLq1Kl9fQ6DO8VuuTe+POd+4tdrPL7K/Ubx1TvPuec8\\\n",
       "p43jWACQZjb1AADwOAQMgEgCBkAkAQMgkoABEEnAAIgkYABEEjAAIgkYAJEEDIBIAgZAJAEDIJKA\\\n",
       "ARBJwACIJGAARBIwACIJGACRBAyASAIGQCQBAyCSgAEQScAAiCRgAEQSMAAiCRgAkQQMgEgCBkAk\\\n",
       "AQMgkoABEEnAAIgkYABEEjAAIgkYAJEEDIBIm1MP0NE49QAAa6hNPcDjsgIDIJKAARBJwACIJGAA\\\n",
       "RBIwACIJGACRBAyASAIGQCQBAyCSgAEQScAAiCRgAEQSMAAiCRgAkQQMgEgCBkAkAQMgkoABEEnA\\\n",
       "AIgkYABEEjAAIgkYAJEEDIBIAgZAJAEDIJKAARBJwACIJGAARBIwACIJGACRBAyASAIGQCQBAyCS\\\n",
       "gAEQScAAiCRgAEQSMAAiCRgAkQQMgEgCBkAkAQMgkoABEEnAAIgkYABEEjAAIgkYAJEEDIBIAgZA\\\n",
       "JAEDIJKAARBJwACIJGAARBIwACIJGACRBAyASAIGQCQBAyCSgAEQScAAiCRgAEQSMAAiCRgAkQQM\\\n",
       "gEgCBkAkAQMgkoABEEnAAIgkYABEEjAAIgkYAJEEDIBIAgZAJAEDIJKAARBJwACIJGAARBIwACIJ\\\n",
       "GACRBAyASAIGQCQBAyCSgAEQScAAiCRgAEQSMAAiCRgAkQQMgEgCBkAkAQMgkoABEEnAAIi0OfUA\\\n",
       "cBEdPrhfD+/vnTq+deVaPXVte4KJII+AQWfjONa9v71V7/36Z6d+dmPnufrGcz+aYCrI4xQiTGA8\\\n",
       "nk89AsQTMJjAMD+aegSIJ2DQ3WgFBisgYNDbWDUMVmBwXgIG3VmBwSoIGEzAd2BwfgIGnY1VNViB\\\n",
       "wbkJGPQ2HNfD+x+cPt5mdenqM/3ngVACBp2N41iffvzhqeOtzeryV25MMBFkEjBYI21ja+oRIIaA\\\n",
       "wbpoVbNNAYNFCRisjVZtZntSWJSAwRqZOYUICxMwWBOttZptWIHBogQM1oiLOGBxAgZrZLZpBQaL\\\n",
       "EjDobByHOtmP41GtWtvoPQ7EEjDobDyen90vYCkCBp2d7ESvYHBeAgadDcO8xlHA4LwEDDqzAoPV\\\n",
       "EDDobDieV1mBwbkJGHQ2Hh8JGKyAgEFn4zB3AhFWQMCgs08+er+G+eGp45evbVezlRQsTMCgs/nB\\\n",
       "ftU4nDq+deVqtZkbmWFRAgZrYraxVa21qceAGAIGa+LkWWACBosSMFgTs43NKiswWJiAwZpoAgZL\\\n",
       "ETBYE7ONTScQYQkCBmvCCgyWI2DQ0ckmvmffxtxmW+UiDlicgEFnn7cTfZv5OMIyfGKgq/Gz3ejP\\\n",
       "5j4wWJyAQU/jeLIbPXBuAgYdjVU1DkdTjwFPBAGDnsYvPoUILE7AoCenEGFlBAy6sgKDVREw6Ggc\\\n",
       "xxoGAYNVEDDoaByHmj98cPoHrdXG1uX+A0EwAYOOhvlhHXy4e+r4bPNSXbnx7AQTQS4BgzXQWvvs\\\n",
       "eWDAogQM1kI72cwXWJiAwTpo7eSBlsDCBAzWQKuyAoMlCRisAyswWJqAwTpwEQcsTcBgLbiIA5Yl\\\n",
       "YNDTMJx5uLVWrfk4wjJ8YqCj4dijVGBVBAw6Go/nNY7j1GPAE0HAoCMrMFgdAYOOTp4FZgUGqyBg\\\n",
       "0NFoBQYrI2DQ0XA8twCDFREw6OhkBaZgsAoCBh0dPrh/5lWIm5efrtbaBBNBLrf+wznt7u7W7u7p\\\n",
       "h1SeZeP9N2s2nr6ZeX94qn77xu/qZFvfL7azs1PXr19fdkx44rQLdE/KhfmL0tcrr7xSL7/88kKv\\\n",
       "/fEPv1s/+N7OqeO/+NU79dOf/6aOh//9a/raa6/V888/v/Sc8Dlil/5WYNDZ0bBV73/6rfrk+Gpd\\\n",
       "3fxHbV/6ax0eHdfF+b8krIaAQUdH46W6+/H3699HX6uxWrXaqf/Mn6mHR29PPRrEcREHdPTnT75T\\\n",
       "/zr6eo01q6pWY23Uew+/Xe89eLZGZ7lhKQIGHc3HrXr0K4exZnVw1HxLC0sSMOjoqdl+PVqqWc2r\\\n",
       "He/rFyxJwKCjb37pbj17+fe10Q6raqyt9rBuXXm9rrW/TD0axLkwF3Hs7e1NPQJPqP39/YVf+8vX\\\n",
       "/1h/+PtP6qOjr9bB8HR9eeNevbH5z3rrTx8s/Gfcu3fP7zMrs729PfUIj+3CBOzVV1+degSeUHfv\\\n",
       "3l34tW+/u1dvv7tXVe889vvduXNHwFiZl156aeoRHtuFCVjyPxLr7eDgoG7fvt3t/V588UU3MkP5\\\n",
       "DgyAUAIGQCQBAyCSgAEQScAAiCRgAES6MJfRw//LrVu36oUXXuj2fjdv3uz2XrDOPNAS4GKLfaCl\\\n",
       "U4gARBIwACIJGACRBAyASAIGQCQBAyCSgAEQScAAiCRgAEQSMAAiCRgAkQQMgEgCBkAkAQMgkoAB\\\n",
       "EEnAAIgkYABEEjAAIgkYAJEEDIBIAgZAJAEDIJKAARBJwACIJGAARBIwACIJGACRBAyASAIGQCQB\\\n",
       "AyCSgAEQScAAiCRgAEQSMAAiCRgAkQQMgEgCBkAkAQMgkoABEEnAAIgkYABEEjAAIgkYAJEEDIBI\\\n",
       "AgZApM2pB+ioTT0AAKtjBQZAJAEDIJKAARBJwACIJGAARBIwACIJGACRBAyASAIGQCQBAyCSgAEQ\\\n",
       "ScAAiCRgAEQSMAAiCRgAkQQMgEgCBkAkAQMgkoABEEnAAIgkYABEEjAAIgkYAJEEDIBIAgZAJAED\\\n",
       "IJKAARBJwACIJGAARBIwACIJGACRBAyASAIGQCQBAyCSgAEQ6b+jRU/YJHzQWAAAAABJRU5ErkJg\\\n",
       "gg==\\\n",
       "\"\n",
       "\n",
       "\n",
       "    /* set a timeout to make sure all the above elements are created before\n",
       "       the object is initialized. */\n",
       "    setTimeout(function() {\n",
       "        anim8c27794a467f432781184bffd0961600 = new Animation(frames, img_id, slider_id, 40.0,\n",
       "                                 loop_select_id);\n",
       "    }, 0);\n",
       "  })()\n",
       "</script>\n"
      ],
      "text/plain": [
       "<matplotlib.animation.FuncAnimation at 0x7fa9a02a4550>"
      ]
     },
     "execution_count": 32,
     "metadata": {},
     "output_type": "execute_result"
    }
   ],
   "source": [
    "def pg_policy(obs):\n",
    "    left_proba=model.predict(obs[np.newaxis], verbose=0)\n",
    "    return int(np.random.rand() > left_proba)\n",
    "\n",
    "np.random.seed(42)\n",
    "show_one_episode(pg_policy)"
   ]
  },
  {
   "cell_type": "markdown",
   "id": "7d3655ff-755f-4020-9b08-25fd8c6e725b",
   "metadata": {},
   "source": [
    "# Policy Gradients"
   ]
  },
  {
   "cell_type": "code",
   "execution_count": 33,
   "id": "7522aa25-3a75-405b-abac-a62cf4fae3c8",
   "metadata": {},
   "outputs": [],
   "source": [
    "def play_one_step(env, obs, model, loss_fn):\n",
    "    with tf.GradientTape() as tape:\n",
    "        left_proba = model(obs[np.newaxis])\n",
    "        action=(tf.random.uniform([1,1])> left_proba)\n",
    "        y_target=tf.constant([[1.]]) -tf.cast(action, tf.float32)\n",
    "        loss=tf.reduce_mean(loss_fn(y_target, left_proba))\n",
    "    \n",
    "    grads=tape.gradient(loss, model.trainable_variables)\n",
    "    obs, reward, done, truncated, info = env.step(int(action))\n",
    "    return obs, reward, done, truncated, grads"
   ]
  },
  {
   "cell_type": "code",
   "execution_count": 34,
   "id": "dd43007c-901d-443e-b21c-1bbe3506ca45",
   "metadata": {},
   "outputs": [],
   "source": [
    "def play_multiple_episodes(env, n_episodes, n_max_steps, model, loss_fn):\n",
    "    all_rewards=[]\n",
    "    all_grads=[]\n",
    "    for episode in range(n_episodes):\n",
    "        current_rewards=[]\n",
    "        current_grads=[]\n",
    "        obs, info =env.reset()\n",
    "        for step in range(n_max_steps):\n",
    "            obs, reward, done, truncated, grads=play_one_step(env, obs, model, loss_fn)\n",
    "            current_rewards.append(reward)\n",
    "            current_grads.append(grads)\n",
    "            if done or truncated:\n",
    "                break\n",
    "        \n",
    "        all_rewards.append(current_rewards)\n",
    "        all_grads.append(current_grads)\n",
    "    return all_rewards, all_grads\n",
    "    "
   ]
  },
  {
   "cell_type": "code",
   "execution_count": null,
   "id": "3be5f02b-0cfb-45f3-8254-6afee8c228ac",
   "metadata": {},
   "outputs": [],
   "source": []
  },
  {
   "cell_type": "code",
   "execution_count": null,
   "id": "e8baee5b-0d95-4871-82de-b8fb83b60a1e",
   "metadata": {},
   "outputs": [],
   "source": []
  },
  {
   "cell_type": "code",
   "execution_count": null,
   "id": "d53059c9-73b1-40f5-b53b-53a8cd8a826a",
   "metadata": {},
   "outputs": [],
   "source": []
  },
  {
   "cell_type": "code",
   "execution_count": null,
   "id": "49e204ce-468f-4714-88f1-28e3becda2fe",
   "metadata": {},
   "outputs": [],
   "source": []
  },
  {
   "cell_type": "code",
   "execution_count": null,
   "id": "1e95dabb-48dc-4fe5-9d49-15bc237b6063",
   "metadata": {},
   "outputs": [],
   "source": []
  }
 ],
 "metadata": {
  "kernelspec": {
   "display_name": "ml_tf",
   "language": "python",
   "name": "ml_tf"
  },
  "language_info": {
   "codemirror_mode": {
    "name": "ipython",
    "version": 3
   },
   "file_extension": ".py",
   "mimetype": "text/x-python",
   "name": "python",
   "nbconvert_exporter": "python",
   "pygments_lexer": "ipython3",
   "version": "3.10.5"
  }
 },
 "nbformat": 4,
 "nbformat_minor": 5
}
