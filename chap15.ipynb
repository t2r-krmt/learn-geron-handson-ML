{
 "cells": [
  {
   "cell_type": "code",
   "execution_count": null,
   "id": "bde83d9a-3096-4f35-b0ae-201bd878e8df",
   "metadata": {},
   "outputs": [],
   "source": [
    "import sys\n",
    "import sklearn\n",
    "import tensorflow as tf\n",
    "from tensorflow import keras\n",
    "\n",
    "import numpy as np\n",
    "import os\n",
    "from pathlib import Path\n",
    "\n",
    "np.random.seed(42)\n",
    "tf.random.set_seed(42)\n",
    "\n",
    "import matplotlib as mpl\n",
    "import matplotlib.pyplot as plt"
   ]
  },
  {
   "cell_type": "markdown",
   "id": "9b48ceed-d4cc-49b1-9758-8504540a4ec5",
   "metadata": {},
   "source": [
    "# Basic RNNs"
   ]
  },
  {
   "cell_type": "markdown",
   "id": "4daf9a7b-a322-4bec-9222-5b524f55beb0",
   "metadata": {},
   "source": [
    "## Generate the Dataset"
   ]
  },
  {
   "cell_type": "code",
   "execution_count": null,
   "id": "85c43c56-4513-4050-aca4-bf92c21fd0e3",
   "metadata": {},
   "outputs": [],
   "source": [
    "def generate_time_series(batch_size, n_steps):\n",
    "    freq1, freq2, offsets1, offsets2 = np.random.rand(4, batch_size, 1)\n",
    "    time = np.linspace(0,1,n_steps)\n",
    "    series = 0.5*np.sin((time-offsets1) * (freq1 * 10 +10))\n",
    "    series += 0.2 * np.sin((time-offsets2) *(freq2 *20+20))\n",
    "    series += 0.1 * (np.random.rand(batch_size, n_steps)-0.5)\n",
    "    return series[..., np.newaxis].astype(np.float32)"
   ]
  },
  {
   "cell_type": "code",
   "execution_count": null,
   "id": "9a640131-5b43-46e7-a9f0-2fff9e0024ff",
   "metadata": {},
   "outputs": [],
   "source": [
    "np.random.seed(42)\n",
    "\n",
    "n_steps=50\n",
    "series=generate_time_series(10000, n_steps+1)\n",
    "X_train, y_train = series[:7000,:n_steps], series[:7000,-1]\n",
    "X_valid, y_valid = series[7000:9000,:n_steps], series[7000:9000,-1]\n",
    "X_test, y_test = series[9000:,:n_steps], series[9000:,-1]\n"
   ]
  },
  {
   "cell_type": "code",
   "execution_count": null,
   "id": "992aaa7d-e97a-4510-8abf-70a800c6912d",
   "metadata": {},
   "outputs": [],
   "source": [
    "X_train.shape, y_train.shape"
   ]
  },
  {
   "cell_type": "code",
   "execution_count": null,
   "id": "355d66e3-ba23-45e3-a415-0fe7241fa935",
   "metadata": {},
   "outputs": [],
   "source": [
    "def plot_series(series, y=None, y_pred=None, x_label =\"$t$\", y_label = \"$x(t)$\", legend = True):\n",
    "    plt.plot(series, \".-\")\n",
    "    if y is not None:\n",
    "        plt.plot(n_steps, y, \"bo\", label = \"Target\")\n",
    "    if y_pred is not None:\n",
    "        plt.plot(n_steps, y_pred, \"rx\", markersize=10, label = \"Prediction\")\n",
    "    plt.grid(True)\n",
    "    if x_label:\n",
    "        plt.xlabel(x_label, fontsize =16)\n",
    "    if y_label:\n",
    "        plt.ylabel(y_label, fontsize = 16, rotation=0)\n",
    "    plt.hlines(0,0,100, linewidth =1)\n",
    "    plt.axis([0, n_steps+1, -1,1])\n",
    "    if legend and (y or y_pred):\n",
    "        plt.legend(fontsize= 14, loc = \"upper left\")\n",
    "\n",
    "fig, axes = plt.subplots(nrows=1, ncols=3, sharey =True, figsize=(12,4))\n",
    "for col in range(3):\n",
    "    plt.sca(axes[col])\n",
    "    plot_series(X_valid[col, :, 0], y_valid[col, 0],\n",
    "                y_label = (\"$x(t)$\" if col==0 else None), \n",
    "                legend = (col==0))\n"
   ]
  },
  {
   "cell_type": "markdown",
   "id": "2c404f2e-f539-4c7f-b071-6bb48590f9e2",
   "metadata": {},
   "source": [
    "## Computing Some Baselines"
   ]
  },
  {
   "cell_type": "code",
   "execution_count": null,
   "id": "53752862-eb0a-4d97-b266-1279d19ff0a8",
   "metadata": {},
   "outputs": [],
   "source": [
    "y_pred = X_valid[:, -1]\n",
    "np.mean(keras.losses.mean_squared_error(y_valid, y_pred))"
   ]
  },
  {
   "cell_type": "code",
   "execution_count": null,
   "id": "c8bb9aa8-12ba-4307-96c6-7072d151ee86",
   "metadata": {},
   "outputs": [],
   "source": [
    "plot_series(X_valid[0, :, 0], y_valid[0, 0], y_pred[0,0])"
   ]
  },
  {
   "cell_type": "code",
   "execution_count": null,
   "id": "74745011-a805-431b-8e3f-a3868688b5ea",
   "metadata": {},
   "outputs": [],
   "source": [
    "np.random.seed(42)\n",
    "tf.random.set_seed(42)\n",
    "\n",
    "model = keras.models.Sequential([keras.layers.Flatten(input_shape=[50,1]), \n",
    "                                 keras.layers.Dense(1)])\n",
    "model.compile(loss=\"mse\", optimizer='adam')\n",
    "history = model.fit(X_train,y_train, epochs=20,\n",
    "                   validation_data= (X_valid, y_valid))"
   ]
  },
  {
   "cell_type": "code",
   "execution_count": null,
   "id": "eefcdcdb-a262-4aa9-aae5-37ef4598b961",
   "metadata": {},
   "outputs": [],
   "source": [
    "model.evaluate(X_valid, y_valid)"
   ]
  },
  {
   "cell_type": "code",
   "execution_count": null,
   "id": "385d7d68-246d-4ba1-b834-de9b1cc822ee",
   "metadata": {},
   "outputs": [],
   "source": [
    "def plot_learning_curves(loss, val_loss):\n",
    "    plt.plot(np.arange(len(loss))+0.5, loss, \"b.-\", label=\"Training loss\")\n",
    "    plt.plot(np.arange(len(val_loss))+1, val_loss, \"r.-\", label=\"Validation loss\")\n",
    "    plt.gca().xaxis.set_major_locator(mpl.ticker.MaxNLocator(integer=True))\n",
    "    plt.axis([1,20, 0,0.05])\n",
    "    plt.legend(fontsize= 14)\n",
    "    plt.xlabel(\"Epochs\")\n",
    "    plt.ylabel(\"Loss\")\n",
    "    plt.grid(True)\n",
    "    \n",
    "plot_learning_curves(history.history[\"loss\"], history.history[\"val_loss\"])"
   ]
  },
  {
   "cell_type": "code",
   "execution_count": null,
   "id": "dbba296e-e54b-4bb4-8780-673884bb708b",
   "metadata": {},
   "outputs": [],
   "source": [
    "y_pred = model.predict(X_valid)\n",
    "plot_series(X_valid[0,:,0], y_valid[0,0], y_pred[0,0])"
   ]
  },
  {
   "cell_type": "markdown",
   "id": "8afe8c94-3372-4c71-85a4-4026eccbb75d",
   "metadata": {},
   "source": [
    "## Using a Simple RNN"
   ]
  },
  {
   "cell_type": "code",
   "execution_count": null,
   "id": "0291b7c0-7745-48ce-9eca-e860e92f1e3c",
   "metadata": {},
   "outputs": [],
   "source": [
    "np.random.seed(42)\n",
    "tf.random.set_seed(42)\n",
    "\n",
    "model = keras.models.Sequential([\n",
    "    keras.layers.SimpleRNN(1, input_shape= [None, 1])\n",
    "])\n",
    "\n",
    "optimizer= keras.optimizers.Adam(learning_rate= 0.005)\n",
    "model.compile(loss=\"mse\", optimizer = optimizer)\n",
    "history = model.fit(X_train, y_train, epochs =20,validation_data= (X_valid, y_valid))"
   ]
  },
  {
   "cell_type": "code",
   "execution_count": null,
   "id": "2d82f146-9652-4796-9fbc-8d987e03b8c2",
   "metadata": {},
   "outputs": [],
   "source": [
    "model.evaluate(X_valid, y_valid)"
   ]
  },
  {
   "cell_type": "code",
   "execution_count": null,
   "id": "99838597-03b0-4f2a-9be5-078156309732",
   "metadata": {},
   "outputs": [],
   "source": [
    "plot_learning_curves(history.history[\"loss\"], history.history[\"val_loss\"])"
   ]
  },
  {
   "cell_type": "code",
   "execution_count": null,
   "id": "c9013314-746d-44f1-b7f0-f5423575d19b",
   "metadata": {},
   "outputs": [],
   "source": [
    "y_pred=model.predict(X_valid)\n",
    "plot_series(X_valid[0,:,0], y_valid[0,0], y_pred[0,0])"
   ]
  },
  {
   "cell_type": "markdown",
   "id": "87af1d37-cf31-48ea-8f8a-066e59473975",
   "metadata": {},
   "source": [
    "## Deep RNNs"
   ]
  },
  {
   "cell_type": "code",
   "execution_count": null,
   "id": "8ba88983-3c1f-46ce-a1df-a6aee8025c5c",
   "metadata": {},
   "outputs": [],
   "source": [
    "np.random.seed(42)\n",
    "tf.random.set_seed(42)\n",
    "\n",
    "model = keras.models.Sequential([\n",
    "    keras.layers.SimpleRNN(20, return_sequences=True, input_shape= [None, 1]),\n",
    "    keras.layers.SimpleRNN(20, return_sequences=True),\n",
    "    keras.layers.SimpleRNN(1)\n",
    "])\n",
    "\n",
    "model.compile(loss=\"mse\", optimizer = 'adam')\n",
    "history = model.fit(X_train, y_train, epochs =20,validation_data= (X_valid, y_valid))"
   ]
  },
  {
   "cell_type": "code",
   "execution_count": null,
   "id": "42d45484-4b9d-4978-b9d5-7ab6407ae677",
   "metadata": {},
   "outputs": [],
   "source": [
    "model.evaluate(X_valid, y_valid)"
   ]
  },
  {
   "cell_type": "code",
   "execution_count": null,
   "id": "c97c6f58-49a5-4ea9-82bd-e7a220def716",
   "metadata": {},
   "outputs": [],
   "source": [
    "plot_learning_curves(history.history[\"loss\"], history.history[\"val_loss\"])"
   ]
  },
  {
   "cell_type": "code",
   "execution_count": null,
   "id": "bf95ed91-1d03-446d-8990-056febb945b6",
   "metadata": {},
   "outputs": [],
   "source": [
    "y_pred=model.predict(X_valid)\n",
    "plot_series(X_valid[0,:,0], y_valid[0,0], y_pred[0,0])"
   ]
  },
  {
   "cell_type": "code",
   "execution_count": null,
   "id": "82cc36a1-43a8-4054-bfca-341c72f64a07",
   "metadata": {},
   "outputs": [],
   "source": []
  },
  {
   "cell_type": "code",
   "execution_count": null,
   "id": "0d2780f9-2cfb-4de8-83c4-d44d7f74870c",
   "metadata": {},
   "outputs": [],
   "source": [
    "np.random.seed(42)\n",
    "tf.random.set_seed(42)\n",
    "\n",
    "model = keras.models.Sequential([\n",
    "    keras.layers.SimpleRNN(20, return_sequences=True, input_shape= [None, 1]),\n",
    "    keras.layers.SimpleRNN(20),\n",
    "    keras.layers.Dense(1)\n",
    "])\n",
    "\n",
    "model.compile(loss=\"mse\", optimizer = 'adam')\n",
    "history = model.fit(X_train, y_train, epochs =20,validation_data= (X_valid, y_valid))"
   ]
  },
  {
   "cell_type": "code",
   "execution_count": null,
   "id": "05ed45b3-53f5-4272-959b-795f395d0b8f",
   "metadata": {},
   "outputs": [],
   "source": [
    "model.evaluate(X_valid, y_valid)"
   ]
  },
  {
   "cell_type": "code",
   "execution_count": null,
   "id": "52a29e00-30a7-433d-985f-35a5390faf80",
   "metadata": {},
   "outputs": [],
   "source": [
    "plot_learning_curves(history.history[\"loss\"], history.history[\"val_loss\"])"
   ]
  },
  {
   "cell_type": "code",
   "execution_count": null,
   "id": "ca98881b-ea8f-46ae-b8a2-0a9a01a53cce",
   "metadata": {},
   "outputs": [],
   "source": [
    "y_pred=model.predict(X_valid)\n",
    "plot_series(X_valid[0,:,0], y_valid[0,0], y_pred[0,0])"
   ]
  },
  {
   "cell_type": "markdown",
   "id": "91f11ae5-1fae-4390-a9f3-055ee0d74740",
   "metadata": {},
   "source": [
    "## forecasting Several Steps Ahead"
   ]
  },
  {
   "cell_type": "code",
   "execution_count": null,
   "id": "d9831d72-0f8a-4be2-8f04-a3e2fd0cbbac",
   "metadata": {},
   "outputs": [],
   "source": [
    "np.random.seed(43)\n",
    "\n",
    "series = generate_time_series(1, n_steps +10)\n",
    "X_new, Y_new = series[:, :n_steps], series[:, n_steps:]\n",
    "X= X_new\n",
    "for step_ahead in range(10):\n",
    "    y_pred_one= model.predict(X[:, step_ahead:])[:, np.newaxis, :]\n",
    "    X= np.concatenate([X, y_pred_one], axis=1)\n",
    "\n",
    "Y_pred = X[:, n_steps:]"
   ]
  },
  {
   "cell_type": "code",
   "execution_count": null,
   "id": "46d4c874-3c06-407b-8f40-703e95d3f766",
   "metadata": {},
   "outputs": [],
   "source": [
    "Y_pred.shape"
   ]
  },
  {
   "cell_type": "code",
   "execution_count": null,
   "id": "445b0689-731c-45c5-83d4-3bb43c073428",
   "metadata": {},
   "outputs": [],
   "source": [
    "def plot_multiple_forecasts(X, Y, Y_pred):\n",
    "    n_steps =X.shape[1]\n",
    "    ahead=Y.shape[1]\n",
    "    plot_series(X[0,:,0])\n",
    "    plt.plot(np.arange(n_steps, n_steps+ahead), Y[0,:,0], \"bo-\", label = \"Actual\")\n",
    "    plt.plot(np.arange(n_steps,n_steps+ahead), Y_pred[0,:,0], \"rx-\", markersize=10, label = \"Forecast\")\n",
    "    plt.axis([0, n_steps+ahead, -1,1])\n",
    "    plt.legend(fontsize= 14)\n",
    "\n",
    "plot_multiple_forecasts(X_new, Y_new, Y_pred)\n"
   ]
  },
  {
   "cell_type": "code",
   "execution_count": null,
   "id": "7fb9731d-5ab3-446a-bb03-2e4a371b9190",
   "metadata": {},
   "outputs": [],
   "source": [
    "np.random.seed(42)\n",
    "\n",
    "n_steps= 50\n",
    "series = generate_time_series(10000, n_steps +10)\n",
    "X_train, Y_train = series[:7000, :n_steps], series[:7000, -10:,0]\n",
    "X_valid, Y_valid = series[7000:9000, :n_steps], series[7000:9000, -10:,0]\n",
    "X_test, Y_test = series[9000:, :n_steps], series[9000:, -10:,0]"
   ]
  },
  {
   "cell_type": "code",
   "execution_count": null,
   "id": "2b5ed859-80d8-44de-a395-a2c3fcf7331f",
   "metadata": {},
   "outputs": [],
   "source": [
    "X = X_valid\n",
    "for step_ahead in range(10):\n",
    "    y_pred_one = model.predict(X)[:, np.newaxis, :]\n",
    "    X= np.concatenate([X, y_pred_one], axis =1)\n",
    "    \n",
    "Y_pred =X[:, n_steps:, 0]"
   ]
  },
  {
   "cell_type": "code",
   "execution_count": null,
   "id": "1fa3bbae-7437-46cb-9912-72972f9ec4cb",
   "metadata": {},
   "outputs": [],
   "source": [
    "Y_pred.shape"
   ]
  },
  {
   "cell_type": "code",
   "execution_count": null,
   "id": "451c2ed2-65fd-47db-a1b9-a85f43c3de70",
   "metadata": {},
   "outputs": [],
   "source": [
    "np.mean(keras.metrics.mean_squared_error(Y_valid, Y_pred))"
   ]
  },
  {
   "cell_type": "code",
   "execution_count": null,
   "id": "7165a491-4c96-4ea5-b522-575e135f7977",
   "metadata": {},
   "outputs": [],
   "source": [
    "Y_naive_pred= np.tile(X_valid[:, -1],10)\n",
    "np.mean(keras.metrics.mean_squared_error(Y_valid, Y_naive_pred))"
   ]
  },
  {
   "cell_type": "code",
   "execution_count": null,
   "id": "b4b06664-171a-462c-a216-9a9a87eaf9b1",
   "metadata": {},
   "outputs": [],
   "source": [
    "np.random.seed(42)\n",
    "tf.random.set_seed(42)\n",
    "\n",
    "model = keras.models.Sequential([\n",
    "    keras.layers.SimpleRNN(20, input_shape= [50, 1]),\n",
    "    keras.layers.Dense(10)\n",
    "])\n",
    "\n",
    "model.compile(loss=\"mse\", optimizer = 'adam')\n",
    "history = model.fit(X_train, y_train, epochs =20,validation_data= (X_valid, y_valid))"
   ]
  },
  {
   "cell_type": "code",
   "execution_count": null,
   "id": "27cd88c0-2625-45eb-b62c-6e6c58909fbb",
   "metadata": {},
   "outputs": [],
   "source": []
  },
  {
   "cell_type": "code",
   "execution_count": null,
   "id": "6b6afcd4-e083-479d-9b06-3c1a59608864",
   "metadata": {},
   "outputs": [],
   "source": [
    "np.random.seed(42)\n",
    "tf.random.set_seed(42)\n",
    "\n",
    "model = keras.models.Sequential([\n",
    "    keras.layers.SimpleRNN(20, return_sequences=True, input_shape= [None, 1]),\n",
    "    keras.layers.SimpleRNN(20),\n",
    "    keras.layers.Dense(10)\n",
    "])\n",
    "\n",
    "model.compile(loss=\"mse\", optimizer = 'adam')\n",
    "history = model.fit(X_train, y_train, epochs =20,validation_data= (X_valid, y_valid))"
   ]
  },
  {
   "cell_type": "code",
   "execution_count": null,
   "id": "0dbd4436-f979-4f6d-a768-6b5c7f1ae9fa",
   "metadata": {},
   "outputs": [],
   "source": [
    "np.random.seed(43)\n",
    "\n",
    "series = generate_time_series(1, 50 +10)\n",
    "X_new, Y_new = series[:, :50,:], series[:, -10:,:]\n",
    "Y_pred = model.predict(X_new)[..., np.newaxis]"
   ]
  },
  {
   "cell_type": "code",
   "execution_count": null,
   "id": "ed733bf1-ff05-44bd-8caa-712c7ca0cf56",
   "metadata": {},
   "outputs": [],
   "source": [
    "plot_multiple_forecasts(X_new, Y_new, Y_pred)"
   ]
  },
  {
   "cell_type": "code",
   "execution_count": null,
   "id": "c0fc56b4-4789-4fe1-b2de-45e40cffce3f",
   "metadata": {},
   "outputs": [],
   "source": [
    "np.random.seed(42)\n",
    "\n",
    "n_steps= 50\n",
    "series = generate_time_series(10000, n_steps +10)\n",
    "X_train = series[:7000, :n_steps]\n",
    "X_valid = series[7000:9000, :n_steps]\n",
    "X_test = series[9000:, :n_steps]\n",
    "Y= np.empty((10000, n_steps, 10))\n",
    "for step_ahead in range(1, 10+1):\n",
    "    Y[..., step_ahead -1] = series[..., step_ahead:step_ahead + n_steps, 0]\n",
    "Y_train = Y[:7000]\n",
    "Y_valid = Y[7000:9000]\n",
    "Y_test = Y[9000:]\n"
   ]
  },
  {
   "cell_type": "code",
   "execution_count": null,
   "id": "9afe48fd-06ab-4b86-9400-c632323c36bd",
   "metadata": {},
   "outputs": [],
   "source": [
    "X_train.shape, Y_train.shape"
   ]
  },
  {
   "cell_type": "code",
   "execution_count": null,
   "id": "f7231c81-65c0-4b47-abc3-a7eceb50b60a",
   "metadata": {},
   "outputs": [],
   "source": [
    "np.random.seed(42)\n",
    "tf.random.set_seed(42)\n",
    "\n",
    "model = keras.models.Sequential([\n",
    "    keras.layers.SimpleRNN(20, return_sequences=True, input_shape= [None, 1]),\n",
    "    keras.layers.SimpleRNN(20),\n",
    "    keras.layers.TimeDistributesd(keras.layers.Dense(10))\n",
    "])\n",
    "\n",
    "def last_time_step_mse(Y_true, Y_pred):\n",
    "    return keras.metrics.mean_squared_error(Y_true[:, -1], Y_pred[:, -1])\n",
    "model.compile(loss=\"mse\", optimizer = keras.optimizers.Adam(learning_rate= 0.01), metrics =[last_time_step_mse])\n",
    "history = model.fit(X_train, y_train, epochs =20,validation_data= (X_valid, y_valid))"
   ]
  },
  {
   "cell_type": "code",
   "execution_count": null,
   "id": "6380c147-31f6-4965-8140-833a3b98c42a",
   "metadata": {},
   "outputs": [],
   "source": [
    "np.random.seed(43)\n",
    "\n",
    "series = generate_time_series(1, 50 +10)\n",
    "X_new, Y_new = series[:, :50,:], series[:, 50:,:]\n",
    "Y_pred = model.predict(X_new)[:,-1][..., np.newaxis]"
   ]
  },
  {
   "cell_type": "code",
   "execution_count": null,
   "id": "dc623657-04ed-4177-acab-fc36abbfa5b6",
   "metadata": {},
   "outputs": [],
   "source": [
    "plot_multiple_forecasts(X_new, Y_new, Y_pred)"
   ]
  },
  {
   "cell_type": "markdown",
   "id": "4eac2adc-9eec-431c-98d0-29de6a964e5e",
   "metadata": {},
   "source": [
    "# Deep RNN with Batch Norm"
   ]
  },
  {
   "cell_type": "code",
   "execution_count": null,
   "id": "86b93ce1-b73e-4093-a42f-dd5a2f5714d7",
   "metadata": {},
   "outputs": [],
   "source": []
  },
  {
   "cell_type": "code",
   "execution_count": null,
   "id": "31a97943-e059-4e4c-a829-e2c4730f6173",
   "metadata": {},
   "outputs": [],
   "source": []
  },
  {
   "cell_type": "code",
   "execution_count": null,
   "id": "ab8f373c-0457-4fe5-a517-27db138e97f6",
   "metadata": {},
   "outputs": [],
   "source": []
  }
 ],
 "metadata": {
  "kernelspec": {
   "display_name": "Python 3 (ipykernel)",
   "language": "python",
   "name": "python3"
  },
  "language_info": {
   "codemirror_mode": {
    "name": "ipython",
    "version": 3
   },
   "file_extension": ".py",
   "mimetype": "text/x-python",
   "name": "python",
   "nbconvert_exporter": "python",
   "pygments_lexer": "ipython3",
   "version": "3.10.11"
  }
 },
 "nbformat": 4,
 "nbformat_minor": 5
}
