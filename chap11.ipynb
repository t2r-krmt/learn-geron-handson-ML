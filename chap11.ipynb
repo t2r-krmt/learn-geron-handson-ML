{
 "cells": [
  {
   "cell_type": "code",
   "execution_count": 1,
   "id": "4603b703-919f-473b-8daa-1324a47b6f98",
   "metadata": {},
   "outputs": [],
   "source": [
    "import sys\n",
    "import sklearn\n",
    "import tensorflow as tf\n",
    "from tensorflow import keras\n",
    "\n",
    "%load_ext tensorboard\n",
    "\n",
    "import numpy as np\n",
    "import os\n",
    "import matplotlib as mpl\n",
    "import matplotlib.pyplot as plt"
   ]
  },
  {
   "cell_type": "markdown",
   "id": "ec56ca16-b37f-42c9-9271-2665a8f7c770",
   "metadata": {},
   "source": [
    "# The Vanishing/Exploding Gradients Problems"
   ]
  },
  {
   "cell_type": "code",
   "execution_count": 2,
   "id": "6a07268e-831c-44f8-928e-2880cc3cb321",
   "metadata": {},
   "outputs": [],
   "source": [
    "def logit(z):\n",
    "    return 1/(1 + np.exp(-z))"
   ]
  },
  {
   "cell_type": "code",
   "execution_count": 3,
   "id": "40d001e8-518b-43d6-80f6-7a2a4212cb38",
   "metadata": {},
   "outputs": [
    {
     "data": {
      "text/plain": [
       "[<matplotlib.lines.Line2D at 0x7f897b2b8340>]"
      ]
     },
     "execution_count": 3,
     "metadata": {},
     "output_type": "execute_result"
    },
    {
     "data": {
      "image/png": "[encoded data removed]",
      "text/plain": [
       "<Figure size 432x288 with 1 Axes>"
      ]
     },
     "metadata": {
      "needs_background": "light"
     },
     "output_type": "display_data"
    }
   ],
   "source": [
    "z= np.linspace(-5,5,200)\n",
    "\n",
    "plt.plot(z, logit(z))"
   ]
  },
  {
   "cell_type": "markdown",
   "id": "8c80ecc8-3e17-47d7-93b0-9d4417270cca",
   "metadata": {},
   "source": [
    "入力が大きくなると関数は０か1にサチり微分は限りなく0になる。その結果逆伝播が伝わらなくなる。"
   ]
  },
  {
   "cell_type": "markdown",
   "id": "b54b4e32-82ef-401b-a929-df90bedd400b",
   "metadata": {},
   "source": [
    "## Glorot(Xavier) and He Initialization"
   ]
  },
  {
   "cell_type": "code",
   "execution_count": 4,
   "id": "19cee862-98b7-4dcb-999e-0a76c8a8f439",
   "metadata": {},
   "outputs": [
    {
     "data": {
      "text/plain": [
       "['Constant',\n",
       " 'GlorotNormal',\n",
       " 'GlorotUniform',\n",
       " 'HeNormal',\n",
       " 'HeUniform',\n",
       " 'Identity',\n",
       " 'Initializer',\n",
       " 'LecunNormal',\n",
       " 'LecunUniform',\n",
       " 'Ones',\n",
       " 'Orthogonal',\n",
       " 'RandomNormal',\n",
       " 'RandomUniform',\n",
       " 'TruncatedNormal',\n",
       " 'VarianceScaling',\n",
       " 'Zeros',\n",
       " 'constant',\n",
       " 'deserialize',\n",
       " 'get',\n",
       " 'glorot_normal',\n",
       " 'glorot_uniform',\n",
       " 'he_normal',\n",
       " 'he_uniform',\n",
       " 'identity',\n",
       " 'lecun_normal',\n",
       " 'lecun_uniform',\n",
       " 'ones',\n",
       " 'orthogonal',\n",
       " 'random_normal',\n",
       " 'random_uniform',\n",
       " 'serialize',\n",
       " 'truncated_normal',\n",
       " 'variance_scaling',\n",
       " 'zeros']"
      ]
     },
     "execution_count": 4,
     "metadata": {},
     "output_type": "execute_result"
    }
   ],
   "source": [
    "[name for name in dir(keras.initializers) if not name.startswith('_')]"
   ]
  },
  {
   "cell_type": "markdown",
   "id": "a3bded3c-fa15-4e6f-91d2-ab061a5ddbd2",
   "metadata": {},
   "source": [
    "kerasはデフォルトで一様分布のGlorotの初期化を使う。  \n",
    "Glorotはtanhやsigmoid、softmax向き。  \n",
    "HeはReLU向き。次のようにしてHeの初期化を使う。"
   ]
  },
  {
   "cell_type": "code",
   "execution_count": 5,
   "id": "9f5a0d7f-7e73-493d-8b61-5f0c7acbaca1",
   "metadata": {},
   "outputs": [
    {
     "data": {
      "text/plain": [
       "<keras.layers.core.dense.Dense at 0x7f89791016f0>"
      ]
     },
     "execution_count": 5,
     "metadata": {},
     "output_type": "execute_result"
    }
   ],
   "source": [
    "keras.layers.Dense(10, activation='relu', kernel_initializer='he_normal')"
   ]
  },
  {
   "cell_type": "markdown",
   "id": "fc6593a8-2aac-4580-a36d-2e7857c55c81",
   "metadata": {},
   "source": [
    "Heの初期化で$fan_{in}$ではなく$fan_{avg}$を使いたい場合、次の[VarianceScaling](https://www.tensorflow.org/api_docs/python/tf/keras/initializers/VarianceScaling)を使う。"
   ]
  },
  {
   "cell_type": "code",
   "execution_count": 6,
   "id": "ef4630b5-6c17-4914-ae31-968670c9527f",
   "metadata": {},
   "outputs": [
    {
     "data": {
      "text/plain": [
       "<keras.layers.core.dense.Dense at 0x7f8979152e60>"
      ]
     },
     "execution_count": 6,
     "metadata": {},
     "output_type": "execute_result"
    }
   ],
   "source": [
    "he_avg_init =keras.initializers.VarianceScaling(scale=2., mode='fan_avg',\n",
    "                                         distribution='uniform')\n",
    "keras.layers.Dense(10,activation ='relu', kernel_initializer=he_avg_init)"
   ]
  },
  {
   "cell_type": "markdown",
   "id": "1aa6725f-1c74-4561-9b71-6c90e993ec60",
   "metadata": {},
   "source": [
    "## Nonsaturating Activation Functions"
   ]
  },
  {
   "cell_type": "markdown",
   "id": "acf8dad5-e91e-4abe-91f9-1557ff2e8a4d",
   "metadata": {},
   "source": [
    "### Leaky ReLU"
   ]
  },
  {
   "cell_type": "code",
   "execution_count": 7,
   "id": "ea04ee17-43ae-4711-acf8-1f5dd47975a1",
   "metadata": {},
   "outputs": [],
   "source": [
    "def leaky_relu(z, alpha =0.01):\n",
    "    return np.maximum(alpha*z, z)\n"
   ]
  },
  {
   "cell_type": "code",
   "execution_count": 8,
   "id": "66a9cb75-9d95-4d1a-977b-32a9e2737e95",
   "metadata": {},
   "outputs": [
    {
     "data": {
      "text/plain": [
       "[<matplotlib.lines.Line2D at 0x7f8978832320>]"
      ]
     },
     "execution_count": 8,
     "metadata": {},
     "output_type": "execute_result"
    },
    {
     "data": {
      "image/png": "[encoded data removed]",
      "text/plain": [
       "<Figure size 432x288 with 1 Axes>"
      ]
     },
     "metadata": {
      "needs_background": "light"
     },
     "output_type": "display_data"
    }
   ],
   "source": [
    "plt.plot(z, leaky_relu(z, 0.05))\n",
    "plt.plot([-5,5],[0,0],'k-')\n",
    "plt.plot([0,0],[-0.5,4.2],'k-')\n"
   ]
  },
  {
   "cell_type": "code",
   "execution_count": 9,
   "id": "c59772f5-f122-4a54-a24c-a7207a5ade75",
   "metadata": {},
   "outputs": [
    {
     "data": {
      "text/plain": [
       "['deserialize',\n",
       " 'elu',\n",
       " 'exponential',\n",
       " 'gelu',\n",
       " 'get',\n",
       " 'hard_sigmoid',\n",
       " 'linear',\n",
       " 'relu',\n",
       " 'selu',\n",
       " 'serialize',\n",
       " 'sigmoid',\n",
       " 'softmax',\n",
       " 'softplus',\n",
       " 'softsign',\n",
       " 'swish',\n",
       " 'tanh']"
      ]
     },
     "execution_count": 9,
     "metadata": {},
     "output_type": "execute_result"
    }
   ],
   "source": [
    "[m for m in dir(keras.activations) if not m.startswith('_')]"
   ]
  },
  {
   "cell_type": "code",
   "execution_count": 10,
   "id": "c0cd32c4-179b-4110-a6df-e33493d99a70",
   "metadata": {},
   "outputs": [
    {
     "data": {
      "text/plain": [
       "['LeakyReLU', 'PReLU', 'ReLU', 'ThresholdedReLU']"
      ]
     },
     "execution_count": 10,
     "metadata": {},
     "output_type": "execute_result"
    }
   ],
   "source": [
    "[m for m in dir(keras.layers) if 'relu' in m.lower()]"
   ]
  },
  {
   "cell_type": "code",
   "execution_count": 11,
   "id": "2c6ac558-1211-42cc-ab84-f5dab7ca0897",
   "metadata": {},
   "outputs": [],
   "source": [
    "(X_train_full, y_train_full), (X_test,y_test)=keras.datasets.fashion_mnist.load_data()\n",
    "X_train_full = X_train_full/255.0\n",
    "X_test = X_test/255.0\n",
    "X_valid, X_train = X_train_full[:5000], X_train_full[5000:]\n",
    "y_valid, y_train = y_train_full[:5000], y_train_full[5000:]\n"
   ]
  },
  {
   "cell_type": "code",
   "execution_count": 12,
   "id": "a39fe20f-3df8-4624-960c-276408787049",
   "metadata": {},
   "outputs": [
    {
     "name": "stderr",
     "output_type": "stream",
     "text": [
      "2022-09-21 04:47:53.651473: I tensorflow/stream_executor/cuda/cuda_gpu_executor.cc:975] successful NUMA node read from SysFS had negative value (-1), but there must be at least one NUMA node, so returning NUMA node zero\n",
      "2022-09-21 04:47:53.700314: I tensorflow/stream_executor/cuda/cuda_gpu_executor.cc:975] successful NUMA node read from SysFS had negative value (-1), but there must be at least one NUMA node, so returning NUMA node zero\n",
      "2022-09-21 04:47:53.700440: I tensorflow/stream_executor/cuda/cuda_gpu_executor.cc:975] successful NUMA node read from SysFS had negative value (-1), but there must be at least one NUMA node, so returning NUMA node zero\n",
      "2022-09-21 04:47:53.700900: I tensorflow/core/platform/cpu_feature_guard.cc:193] This TensorFlow binary is optimized with oneAPI Deep Neural Network Library (oneDNN) to use the following CPU instructions in performance-critical operations:  AVX2 FMA\n",
      "To enable them in other operations, rebuild TensorFlow with the appropriate compiler flags.\n",
      "2022-09-21 04:47:53.701573: I tensorflow/stream_executor/cuda/cuda_gpu_executor.cc:975] successful NUMA node read from SysFS had negative value (-1), but there must be at least one NUMA node, so returning NUMA node zero\n",
      "2022-09-21 04:47:53.701680: I tensorflow/stream_executor/cuda/cuda_gpu_executor.cc:975] successful NUMA node read from SysFS had negative value (-1), but there must be at least one NUMA node, so returning NUMA node zero\n",
      "2022-09-21 04:47:53.701772: I tensorflow/stream_executor/cuda/cuda_gpu_executor.cc:975] successful NUMA node read from SysFS had negative value (-1), but there must be at least one NUMA node, so returning NUMA node zero\n",
      "2022-09-21 04:47:54.159792: I tensorflow/stream_executor/cuda/cuda_gpu_executor.cc:975] successful NUMA node read from SysFS had negative value (-1), but there must be at least one NUMA node, so returning NUMA node zero\n",
      "2022-09-21 04:47:54.159919: I tensorflow/stream_executor/cuda/cuda_gpu_executor.cc:975] successful NUMA node read from SysFS had negative value (-1), but there must be at least one NUMA node, so returning NUMA node zero\n",
      "2022-09-21 04:47:54.160004: I tensorflow/stream_executor/cuda/cuda_gpu_executor.cc:975] successful NUMA node read from SysFS had negative value (-1), but there must be at least one NUMA node, so returning NUMA node zero\n",
      "2022-09-21 04:47:54.160077: I tensorflow/core/common_runtime/gpu/gpu_device.cc:1532] Created device /job:localhost/replica:0/task:0/device:GPU:0 with 10237 MB memory:  -> device: 0, name: NVIDIA GeForce RTX 3060, pci bus id: 0000:01:00.0, compute capability: 8.6\n"
     ]
    }
   ],
   "source": [
    "tf.random.set_seed(42)\n",
    "np.random.seed(42)\n",
    "\n",
    "model = keras.models.Sequential([\n",
    "    keras.layers.Flatten(input_shape=[28,28]),\n",
    "    keras.layers.Dense(300, kernel_initializer='he_normal'),\n",
    "    keras.layers.LeakyReLU(),\n",
    "    keras.layers.Dense(100, kernel_initializer='he_normal'),\n",
    "    keras.layers.LeakyReLU(),\n",
    "    keras.layers.Dense(10, activation='softmax'),\n",
    "])"
   ]
  },
  {
   "cell_type": "code",
   "execution_count": 13,
   "id": "a2571a1f-379b-4109-adca-feacd142b4ce",
   "metadata": {},
   "outputs": [],
   "source": [
    "model.compile(loss='sparse_categorical_crossentropy',\n",
    "              optimizer=keras.optimizers.SGD(learning_rate=1e-3),\n",
    "              metrics=['accuracy'])"
   ]
  },
  {
   "cell_type": "code",
   "execution_count": 14,
   "id": "9887e567-5792-41cd-8ecc-bcf4e1c7b28e",
   "metadata": {},
   "outputs": [
    {
     "name": "stdout",
     "output_type": "stream",
     "text": [
      "Epoch 1/10\n",
      " 156/1719 [=>............................] - ETA: 1s - loss: 2.0883 - accuracy: 0.2752"
     ]
    },
    {
     "name": "stderr",
     "output_type": "stream",
     "text": [
      "2022-09-21 04:47:55.612598: I tensorflow/stream_executor/cuda/cuda_blas.cc:1786] TensorFloat-32 will be used for the matrix multiplication. This will only be logged once.\n"
     ]
    },
    {
     "name": "stdout",
     "output_type": "stream",
     "text": [
      "1719/1719 [==============================] - 3s 1ms/step - loss: 1.2819 - accuracy: 0.6229 - val_loss: 0.8886 - val_accuracy: 0.7160\n",
      "Epoch 2/10\n",
      "1719/1719 [==============================] - 2s 967us/step - loss: 0.7955 - accuracy: 0.7361 - val_loss: 0.7130 - val_accuracy: 0.7656\n",
      "Epoch 3/10\n",
      "1719/1719 [==============================] - 2s 978us/step - loss: 0.6816 - accuracy: 0.7721 - val_loss: 0.6427 - val_accuracy: 0.7900\n",
      "Epoch 4/10\n",
      "1719/1719 [==============================] - 2s 960us/step - loss: 0.6217 - accuracy: 0.7944 - val_loss: 0.5900 - val_accuracy: 0.8064\n",
      "Epoch 5/10\n",
      "1719/1719 [==============================] - 2s 966us/step - loss: 0.5832 - accuracy: 0.8074 - val_loss: 0.5582 - val_accuracy: 0.8202\n",
      "Epoch 6/10\n",
      "1719/1719 [==============================] - 2s 997us/step - loss: 0.5553 - accuracy: 0.8157 - val_loss: 0.5350 - val_accuracy: 0.8238\n",
      "Epoch 7/10\n",
      "1719/1719 [==============================] - 2s 1ms/step - loss: 0.5339 - accuracy: 0.8224 - val_loss: 0.5157 - val_accuracy: 0.8304\n",
      "Epoch 8/10\n",
      "1719/1719 [==============================] - 2s 968us/step - loss: 0.5173 - accuracy: 0.8272 - val_loss: 0.5079 - val_accuracy: 0.8282\n",
      "Epoch 9/10\n",
      "1719/1719 [==============================] - 2s 972us/step - loss: 0.5040 - accuracy: 0.8289 - val_loss: 0.4895 - val_accuracy: 0.8388\n",
      "Epoch 10/10\n",
      "1719/1719 [==============================] - 2s 979us/step - loss: 0.4924 - accuracy: 0.8320 - val_loss: 0.4817 - val_accuracy: 0.8396\n"
     ]
    }
   ],
   "source": [
    "history=model.fit(X_train, y_train, epochs=10,\n",
    "                  validation_data=(X_valid, y_valid))"
   ]
  },
  {
   "cell_type": "code",
   "execution_count": 15,
   "id": "68f612ac-dd4a-4657-89a5-87cc68538d8f",
   "metadata": {},
   "outputs": [],
   "source": [
    "tf.random.set_seed(42)\n",
    "np.random.seed(42)\n",
    "\n",
    "model = keras.models.Sequential([\n",
    "    keras.layers.Flatten(input_shape=[28,28]),\n",
    "    keras.layers.Dense(300, kernel_initializer='he_normal'),\n",
    "    keras.layers.PReLU(),\n",
    "    keras.layers.Dense(100, kernel_initializer='he_normal'),\n",
    "    keras.layers.PReLU(),\n",
    "    keras.layers.Dense(10, activation='softmax'),\n",
    "])"
   ]
  },
  {
   "cell_type": "code",
   "execution_count": 16,
   "id": "8d9d86be-7151-4d10-8c86-9d7fcb6ff292",
   "metadata": {},
   "outputs": [],
   "source": [
    "model.compile(loss='sparse_categorical_crossentropy',\n",
    "              optimizer=keras.optimizers.SGD(learning_rate=1e-3),\n",
    "              metrics=['accuracy'])"
   ]
  },
  {
   "cell_type": "code",
   "execution_count": 17,
   "id": "a59fda36-5275-41f1-9a34-8190701e59e2",
   "metadata": {},
   "outputs": [
    {
     "name": "stdout",
     "output_type": "stream",
     "text": [
      "Epoch 1/10\n",
      "1719/1719 [==============================] - 2s 1ms/step - loss: 1.3461 - accuracy: 0.6209 - val_loss: 0.9254 - val_accuracy: 0.7186\n",
      "Epoch 2/10\n",
      "1719/1719 [==============================] - 2s 1ms/step - loss: 0.8197 - accuracy: 0.7355 - val_loss: 0.7306 - val_accuracy: 0.7630\n",
      "Epoch 3/10\n",
      "1719/1719 [==============================] - 2s 1ms/step - loss: 0.6966 - accuracy: 0.7694 - val_loss: 0.6565 - val_accuracy: 0.7878\n",
      "Epoch 4/10\n",
      "1719/1719 [==============================] - 2s 1ms/step - loss: 0.6331 - accuracy: 0.7911 - val_loss: 0.6004 - val_accuracy: 0.8046\n",
      "Epoch 5/10\n",
      "1719/1719 [==============================] - 2s 1ms/step - loss: 0.5917 - accuracy: 0.8057 - val_loss: 0.5656 - val_accuracy: 0.8182\n",
      "Epoch 6/10\n",
      "1719/1719 [==============================] - 2s 1ms/step - loss: 0.5618 - accuracy: 0.8137 - val_loss: 0.5407 - val_accuracy: 0.8240\n",
      "Epoch 7/10\n",
      "1719/1719 [==============================] - 2s 1ms/step - loss: 0.5390 - accuracy: 0.8207 - val_loss: 0.5197 - val_accuracy: 0.8316\n",
      "Epoch 8/10\n",
      "1719/1719 [==============================] - 2s 1ms/step - loss: 0.5213 - accuracy: 0.8257 - val_loss: 0.5114 - val_accuracy: 0.8306\n",
      "Epoch 9/10\n",
      "1719/1719 [==============================] - 2s 1ms/step - loss: 0.5071 - accuracy: 0.8287 - val_loss: 0.4918 - val_accuracy: 0.8374\n",
      "Epoch 10/10\n",
      "1719/1719 [==============================] - 2s 1ms/step - loss: 0.4946 - accuracy: 0.8315 - val_loss: 0.4827 - val_accuracy: 0.8396\n"
     ]
    }
   ],
   "source": [
    "history=model.fit(X_train, y_train, epochs=10,\n",
    "                  validation_data=(X_valid, y_valid))"
   ]
  },
  {
   "cell_type": "markdown",
   "id": "1b67133a-5997-4bb6-8424-291393c872f5",
   "metadata": {},
   "source": [
    "### ELU"
   ]
  },
  {
   "cell_type": "code",
   "execution_count": 18,
   "id": "4ab1df2d-8b87-4729-91a9-4c6962cf71ce",
   "metadata": {},
   "outputs": [],
   "source": [
    "def elu(z, alpha=1):\n",
    "    return np.where(z<0, alpha*(np.exp(z)-1),z)"
   ]
  },
  {
   "cell_type": "code",
   "execution_count": 19,
   "id": "912ea55d-f895-4bf5-a4cb-a5d7ffe85cae",
   "metadata": {},
   "outputs": [
    {
     "data": {
      "text/plain": [
       "(-5.0, 5.0, -2.2, 3.2)"
      ]
     },
     "execution_count": 19,
     "metadata": {},
     "output_type": "execute_result"
    },
    {
     "data": {
      "image/png": "[encoded data removed]",
      "text/plain": [
       "<Figure size 432x288 with 1 Axes>"
      ]
     },
     "metadata": {
      "needs_background": "light"
     },
     "output_type": "display_data"
    }
   ],
   "source": [
    "plt.plot(z, elu(z), linewidth = 2)\n",
    "plt.plot([-5,5],[0,0], 'k-')\n",
    "plt.plot([-5,5],[-1,-1], 'k--')\n",
    "plt.plot([0,0],[-2.2,3.2], 'k-')\n",
    "plt.axis([-5,5,-2.2, 3.2])"
   ]
  },
  {
   "cell_type": "code",
   "execution_count": 20,
   "id": "41bf3af2-abcd-4f0d-9911-89d943e6143c",
   "metadata": {},
   "outputs": [
    {
     "data": {
      "text/plain": [
       "<keras.layers.core.dense.Dense at 0x7f8973f97910>"
      ]
     },
     "execution_count": 20,
     "metadata": {},
     "output_type": "execute_result"
    }
   ],
   "source": [
    "keras.layers.Dense(10,activation='elu')"
   ]
  },
  {
   "cell_type": "markdown",
   "id": "01b31add-1991-479d-9837-89c0358a9d07",
   "metadata": {},
   "source": [
    "### SELU"
   ]
  },
  {
   "cell_type": "code",
   "execution_count": 21,
   "id": "e6c24ea5-4779-4058-8cf1-a24afa2d1806",
   "metadata": {},
   "outputs": [],
   "source": [
    "from scipy.special import erfc\n",
    "\n",
    "alpha_0_1=-np.sqrt(2/np.pi)/(erfc(1/np.sqrt(2))*np.exp(1/2)-1)\n",
    "scale_0_1 = (1 - erfc(1 / np.sqrt(2)) * np.sqrt(np.e)) * np.sqrt(2 * np.pi) * (2 * erfc(np.sqrt(2))*np.e**2 + np.pi*erfc(1/np.sqrt(2))**2*np.e - 2*(2+np.pi)*erfc(1/np.sqrt(2))*np.sqrt(np.e)+np.pi+2)**(-1/2)"
   ]
  },
  {
   "cell_type": "code",
   "execution_count": 22,
   "id": "6ab5d875-3166-4be6-8357-2bdae9e24895",
   "metadata": {},
   "outputs": [],
   "source": [
    "def selu(z, scale = scale_0_1, alpha = alpha_0_1):\n",
    "    return scale*elu(z, alpha)"
   ]
  },
  {
   "cell_type": "code",
   "execution_count": 23,
   "id": "37c6aeff-a8a0-4be5-95b3-b31655eea2ab",
   "metadata": {},
   "outputs": [
    {
     "data": {
      "text/plain": [
       "(-5.0, 5.0, -2.2, 3.2)"
      ]
     },
     "execution_count": 23,
     "metadata": {},
     "output_type": "execute_result"
    },
    {
     "data": {
      "image/png": "[encoded data removed]",
      "text/plain": [
       "<Figure size 432x288 with 1 Axes>"
      ]
     },
     "metadata": {
      "needs_background": "light"
     },
     "output_type": "display_data"
    }
   ],
   "source": [
    "plt.plot(z, selu(z), linewidth =2)\n",
    "plt.plot([-5,5],[0,0], 'k-')\n",
    "plt.plot([-5,5],[-1.758,-1.758], 'k--')\n",
    "plt.plot([0,0],[-2.2,3.2], 'k-')\n",
    "plt.axis([-5,5,-2.2, 3.2])"
   ]
  },
  {
   "cell_type": "code",
   "execution_count": 24,
   "id": "3d215c72-4f55-4127-90df-033b49434762",
   "metadata": {},
   "outputs": [
    {
     "name": "stdout",
     "output_type": "stream",
     "text": [
      "Layer 0:mean-0.00, std deviation 1.00\n",
      "Layer 100:mean0.02, std deviation 0.96\n",
      "Layer 200:mean0.01, std deviation 0.90\n",
      "Layer 300:mean-0.02, std deviation 0.92\n",
      "Layer 400:mean0.05, std deviation 0.89\n",
      "Layer 500:mean0.01, std deviation 0.93\n",
      "Layer 600:mean0.02, std deviation 0.92\n",
      "Layer 700:mean-0.02, std deviation 0.90\n",
      "Layer 800:mean0.05, std deviation 0.83\n",
      "Layer 900:mean0.02, std deviation 1.00\n"
     ]
    }
   ],
   "source": [
    "np.random.seed(42)\n",
    "Z=np.random.normal(size=(500,100))\n",
    "for layer in range(1000):\n",
    "    W = np.random.normal(size=(100,100), scale=np.sqrt(1/100))\n",
    "    Z=selu(np.dot(Z,W))\n",
    "    means=np.mean(Z, axis=0).mean()\n",
    "    stds = np.std(Z, axis=0).mean()\n",
    "    if layer %100==0:\n",
    "        print('Layer {}:mean{:.2f}, std deviation {:.2f}'.format(layer, means, stds))"
   ]
  },
  {
   "cell_type": "code",
   "execution_count": 25,
   "id": "a2b90f39-eca8-46a0-b981-40fa17540f8b",
   "metadata": {},
   "outputs": [
    {
     "data": {
      "text/plain": [
       "<keras.layers.core.dense.Dense at 0x7f89715f9390>"
      ]
     },
     "execution_count": 25,
     "metadata": {},
     "output_type": "execute_result"
    }
   ],
   "source": [
    "keras.layers.Dense(10, activation='selu',kernel_initializer='lecun_normal')"
   ]
  },
  {
   "cell_type": "code",
   "execution_count": 26,
   "id": "81ca2090-71af-44de-804d-68b992ea36e0",
   "metadata": {},
   "outputs": [],
   "source": [
    "tf.random.set_seed(42)\n",
    "np.random.seed(42)\n",
    "\n",
    "model = keras.models.Sequential()\n",
    "model.add(keras.layers.Flatten(input_shape=[28,28]))\n",
    "model.add(keras.layers.Dense(300, activation = 'selu', kernel_initializer='lecun_normal'))\n",
    "for layer in range(99):\n",
    "    model.add(keras.layers.Dense(100, activation = 'selu', kernel_initializer='lecun_normal'))\n",
    "model.add(keras.layers.Dense(10, activation='softmax'))\n"
   ]
  },
  {
   "cell_type": "code",
   "execution_count": 27,
   "id": "844d506f-7c41-4688-9479-a4abdc073c51",
   "metadata": {},
   "outputs": [],
   "source": [
    "model.compile(loss='sparse_categorical_crossentropy',\n",
    "              optimizer=keras.optimizers.SGD(learning_rate=1e-3),\n",
    "              metrics=['accuracy'])"
   ]
  },
  {
   "cell_type": "code",
   "execution_count": 28,
   "id": "00f06276-d79b-4b6c-8d14-1e804f24ac61",
   "metadata": {},
   "outputs": [],
   "source": [
    "pixel_means=X_train.mean(axis=0, keepdims=True)\n",
    "pixel_stds=X_train.std(axis=0, keepdims=True)\n",
    "X_train_scaled=(X_train-pixel_means)/pixel_stds\n",
    "X_valid_scaled=(X_valid-pixel_means)/pixel_stds\n",
    "X_test_scaled=(X_test-pixel_means)/pixel_stds"
   ]
  },
  {
   "cell_type": "code",
   "execution_count": 29,
   "id": "05be0790-8513-47ab-b754-90e025df12d8",
   "metadata": {},
   "outputs": [
    {
     "name": "stdout",
     "output_type": "stream",
     "text": [
      "Epoch 1/5\n",
      "1719/1719 [==============================] - 20s 11ms/step - loss: 1.5915 - accuracy: 0.3543 - val_loss: 1.4535 - val_accuracy: 0.3884\n",
      "Epoch 2/5\n",
      "1719/1719 [==============================] - 14s 8ms/step - loss: 1.2126 - accuracy: 0.5213 - val_loss: 0.8266 - val_accuracy: 0.6720\n",
      "Epoch 3/5\n",
      "1719/1719 [==============================] - 13s 7ms/step - loss: 0.7835 - accuracy: 0.7096 - val_loss: 0.7004 - val_accuracy: 0.7446\n",
      "Epoch 4/5\n",
      "1719/1719 [==============================] - 14s 8ms/step - loss: 0.6860 - accuracy: 0.7520 - val_loss: 0.6207 - val_accuracy: 0.7772\n",
      "Epoch 5/5\n",
      "1719/1719 [==============================] - 12s 7ms/step - loss: 0.6363 - accuracy: 0.7673 - val_loss: 0.5792 - val_accuracy: 0.7908\n"
     ]
    }
   ],
   "source": [
    "history=model.fit(X_train_scaled, y_train, epochs=5,\n",
    "                  validation_data=(X_valid_scaled, y_valid))"
   ]
  },
  {
   "cell_type": "code",
   "execution_count": 30,
   "id": "2cb68f0a-6606-4306-9efc-94af869fcfc1",
   "metadata": {},
   "outputs": [],
   "source": [
    "tf.random.set_seed(42)\n",
    "np.random.seed(42)\n",
    "\n",
    "model = keras.models.Sequential()\n",
    "model.add(keras.layers.Flatten(input_shape=[28,28]))\n",
    "model.add(keras.layers.Dense(300, activation = 'relu', kernel_initializer='he_normal'))\n",
    "for layer in range(99):\n",
    "    model.add(keras.layers.Dense(100, activation = 'relu', kernel_initializer='he_normal'))\n",
    "model.add(keras.layers.Dense(10, activation='softmax'))\n"
   ]
  },
  {
   "cell_type": "code",
   "execution_count": 31,
   "id": "48782577-6af2-43b2-a819-b9a8b00dcd6b",
   "metadata": {},
   "outputs": [],
   "source": [
    "model.compile(loss='sparse_categorical_crossentropy',\n",
    "              optimizer=keras.optimizers.SGD(learning_rate=1e-3),\n",
    "              metrics=['accuracy'])"
   ]
  },
  {
   "cell_type": "code",
   "execution_count": 32,
   "id": "e40c1f0b-45be-4f97-8933-1673a9820a45",
   "metadata": {},
   "outputs": [
    {
     "name": "stdout",
     "output_type": "stream",
     "text": [
      "Epoch 1/5\n",
      "1719/1719 [==============================] - 16s 9ms/step - loss: 1.8101 - accuracy: 0.2583 - val_loss: 1.3071 - val_accuracy: 0.4238\n",
      "Epoch 2/5\n",
      "1719/1719 [==============================] - 13s 8ms/step - loss: 1.2031 - accuracy: 0.4871 - val_loss: 1.2103 - val_accuracy: 0.5064\n",
      "Epoch 3/5\n",
      "1719/1719 [==============================] - 15s 9ms/step - loss: 0.9735 - accuracy: 0.5926 - val_loss: 1.0530 - val_accuracy: 0.5844\n",
      "Epoch 4/5\n",
      "1719/1719 [==============================] - 15s 9ms/step - loss: 0.8569 - accuracy: 0.6530 - val_loss: 1.7963 - val_accuracy: 0.3704\n",
      "Epoch 5/5\n",
      "1719/1719 [==============================] - 14s 8ms/step - loss: 0.8521 - accuracy: 0.6612 - val_loss: 0.8132 - val_accuracy: 0.6792\n"
     ]
    }
   ],
   "source": [
    "history=model.fit(X_train_scaled, y_train, epochs=5,\n",
    "                  validation_data=(X_valid_scaled, y_valid))"
   ]
  },
  {
   "cell_type": "markdown",
   "id": "fcb9c92c-74c7-4f7e-952c-3b6d5d95ed31",
   "metadata": {},
   "source": [
    "## Batch Normalization"
   ]
  },
  {
   "cell_type": "code",
   "execution_count": 33,
   "id": "017fdc7e-0e6b-4ec7-b939-fef147b65f1c",
   "metadata": {},
   "outputs": [],
   "source": [
    "model = keras.models.Sequential([\n",
    "    keras.layers.Flatten(input_shape=[28,28]),\n",
    "    keras.layers.BatchNormalization(),\n",
    "    keras.layers.Dense(300,activation='relu'),\n",
    "    keras.layers.BatchNormalization(),\n",
    "    keras.layers.Dense(100,activation='relu'),\n",
    "    keras.layers.BatchNormalization(),\n",
    "    keras.layers.Dense(10,activation='softmax')\n",
    "])"
   ]
  },
  {
   "cell_type": "code",
   "execution_count": 34,
   "id": "7f6783f7-ecb4-4d44-bd3d-7c907f3712f6",
   "metadata": {},
   "outputs": [
    {
     "name": "stdout",
     "output_type": "stream",
     "text": [
      "Model: \"sequential_4\"\n",
      "_________________________________________________________________\n",
      " Layer (type)                Output Shape              Param #   \n",
      "=================================================================\n",
      " flatten_4 (Flatten)         (None, 784)               0         \n",
      "                                                                 \n",
      " batch_normalization (BatchN  (None, 784)              3136      \n",
      " ormalization)                                                   \n",
      "                                                                 \n",
      " dense_212 (Dense)           (None, 300)               235500    \n",
      "                                                                 \n",
      " batch_normalization_1 (Batc  (None, 300)              1200      \n",
      " hNormalization)                                                 \n",
      "                                                                 \n",
      " dense_213 (Dense)           (None, 100)               30100     \n",
      "                                                                 \n",
      " batch_normalization_2 (Batc  (None, 100)              400       \n",
      " hNormalization)                                                 \n",
      "                                                                 \n",
      " dense_214 (Dense)           (None, 10)                1010      \n",
      "                                                                 \n",
      "=================================================================\n",
      "Total params: 271,346\n",
      "Trainable params: 268,978\n",
      "Non-trainable params: 2,368\n",
      "_________________________________________________________________\n"
     ]
    }
   ],
   "source": [
    "model.summary()"
   ]
  },
  {
   "cell_type": "code",
   "execution_count": 35,
   "id": "f655acd4-89c2-4fe4-9aca-a1a11e6ae924",
   "metadata": {},
   "outputs": [
    {
     "data": {
      "text/plain": [
       "[('batch_normalization/gamma:0', True),\n",
       " ('batch_normalization/beta:0', True),\n",
       " ('batch_normalization/moving_mean:0', False),\n",
       " ('batch_normalization/moving_variance:0', False)]"
      ]
     },
     "execution_count": 35,
     "metadata": {},
     "output_type": "execute_result"
    }
   ],
   "source": [
    "[(var.name, var.trainable) for var in model.layers[1].variables]"
   ]
  },
  {
   "cell_type": "code",
   "execution_count": 36,
   "id": "be9d658c-d7bf-4ba7-a4ea-80ee84f8c446",
   "metadata": {},
   "outputs": [],
   "source": [
    "model.compile(loss='sparse_categorical_crossentropy',\n",
    "             optimizer=keras.optimizers.SGD(learning_rate=1e-3),\n",
    "             metrics=['accuracy'])"
   ]
  },
  {
   "cell_type": "code",
   "execution_count": 37,
   "id": "77a81b3a-1775-4d54-8c8f-261dc5b681fa",
   "metadata": {},
   "outputs": [
    {
     "name": "stdout",
     "output_type": "stream",
     "text": [
      "Epoch 1/10\n",
      "1719/1719 [==============================] - 3s 2ms/step - loss: 0.8750 - accuracy: 0.7123 - val_loss: 0.5526 - val_accuracy: 0.8220\n",
      "Epoch 2/10\n",
      "1719/1719 [==============================] - 3s 2ms/step - loss: 0.5753 - accuracy: 0.8027 - val_loss: 0.4724 - val_accuracy: 0.8472\n",
      "Epoch 3/10\n",
      "1719/1719 [==============================] - 3s 2ms/step - loss: 0.5189 - accuracy: 0.8207 - val_loss: 0.4374 - val_accuracy: 0.8546\n",
      "Epoch 4/10\n",
      "1719/1719 [==============================] - 3s 2ms/step - loss: 0.4827 - accuracy: 0.8321 - val_loss: 0.4151 - val_accuracy: 0.8604\n",
      "Epoch 5/10\n",
      "1719/1719 [==============================] - 3s 2ms/step - loss: 0.4565 - accuracy: 0.8408 - val_loss: 0.3996 - val_accuracy: 0.8634\n",
      "Epoch 6/10\n",
      "1719/1719 [==============================] - 3s 2ms/step - loss: 0.4398 - accuracy: 0.8474 - val_loss: 0.3867 - val_accuracy: 0.8686\n",
      "Epoch 7/10\n",
      "1719/1719 [==============================] - 3s 2ms/step - loss: 0.4242 - accuracy: 0.8516 - val_loss: 0.3763 - val_accuracy: 0.8704\n",
      "Epoch 8/10\n",
      "1719/1719 [==============================] - 3s 2ms/step - loss: 0.4143 - accuracy: 0.8541 - val_loss: 0.3711 - val_accuracy: 0.8742\n",
      "Epoch 9/10\n",
      "1719/1719 [==============================] - 3s 2ms/step - loss: 0.4024 - accuracy: 0.8583 - val_loss: 0.3630 - val_accuracy: 0.8756\n",
      "Epoch 10/10\n",
      "1719/1719 [==============================] - 3s 2ms/step - loss: 0.3914 - accuracy: 0.8623 - val_loss: 0.3573 - val_accuracy: 0.8760\n"
     ]
    }
   ],
   "source": [
    "history = model.fit(X_train, y_train, epochs=10,\n",
    "                    validation_data=(X_valid, y_valid))"
   ]
  },
  {
   "cell_type": "markdown",
   "id": "cde2ba47-6f51-4f8b-8936-16bd0ff4cd39",
   "metadata": {},
   "source": [
    "バッチ正規化の論文著者は活性化関数の前でバッチ正規化を行うのが好ましいとしている。実際どちらがいいかはデータ次第。バイアス項が減るためパラメータを減らすことができる。隠れ層の活性化関数を外し、`use_bias=False`とする。"
   ]
  },
  {
   "cell_type": "code",
   "execution_count": 38,
   "id": "2dd7c394-c301-4354-a551-6e3a2cf79339",
   "metadata": {},
   "outputs": [],
   "source": [
    "model = keras.models.Sequential([\n",
    "    keras.layers.Flatten(input_shape=[28,28]),\n",
    "    keras.layers.BatchNormalization(),\n",
    "    keras.layers.Dense(300,use_bias=False),\n",
    "    keras.layers.BatchNormalization(),\n",
    "    keras.layers.Activation('relu'),\n",
    "    keras.layers.Dense(100,use_bias=False),\n",
    "    keras.layers.BatchNormalization(),\n",
    "    keras.layers.Activation('relu'),\n",
    "    keras.layers.Dense(10,activation='softmax')\n",
    "])"
   ]
  },
  {
   "cell_type": "code",
   "execution_count": 39,
   "id": "6be6a0ac-2cff-40f3-8ee4-0dd5981e9326",
   "metadata": {},
   "outputs": [],
   "source": [
    "model.compile(loss='sparse_categorical_crossentropy',\n",
    "             optimizer=keras.optimizers.SGD(learning_rate=1e-3),\n",
    "             metrics=['accuracy'])"
   ]
  },
  {
   "cell_type": "code",
   "execution_count": 40,
   "id": "a60b41c2-299b-48f4-97fe-97c2807bcf85",
   "metadata": {},
   "outputs": [
    {
     "name": "stdout",
     "output_type": "stream",
     "text": [
      "Epoch 1/10\n",
      "1719/1719 [==============================] - 3s 2ms/step - loss: 1.0317 - accuracy: 0.6757 - val_loss: 0.6767 - val_accuracy: 0.7812\n",
      "Epoch 2/10\n",
      "1719/1719 [==============================] - 3s 2ms/step - loss: 0.6790 - accuracy: 0.7793 - val_loss: 0.5565 - val_accuracy: 0.8180\n",
      "Epoch 3/10\n",
      "1719/1719 [==============================] - 3s 2ms/step - loss: 0.5960 - accuracy: 0.8036 - val_loss: 0.5007 - val_accuracy: 0.8362\n",
      "Epoch 4/10\n",
      "1719/1719 [==============================] - 3s 2ms/step - loss: 0.5447 - accuracy: 0.8189 - val_loss: 0.4666 - val_accuracy: 0.8452\n",
      "Epoch 5/10\n",
      "1719/1719 [==============================] - 3s 2ms/step - loss: 0.5109 - accuracy: 0.8280 - val_loss: 0.4434 - val_accuracy: 0.8534\n",
      "Epoch 6/10\n",
      "1719/1719 [==============================] - 3s 2ms/step - loss: 0.4898 - accuracy: 0.8336 - val_loss: 0.4263 - val_accuracy: 0.8546\n",
      "Epoch 7/10\n",
      "1719/1719 [==============================] - 3s 2ms/step - loss: 0.4712 - accuracy: 0.8396 - val_loss: 0.4130 - val_accuracy: 0.8568\n",
      "Epoch 8/10\n",
      "1719/1719 [==============================] - 3s 2ms/step - loss: 0.4560 - accuracy: 0.8440 - val_loss: 0.4035 - val_accuracy: 0.8610\n",
      "Epoch 9/10\n",
      "1719/1719 [==============================] - 3s 2ms/step - loss: 0.4441 - accuracy: 0.8476 - val_loss: 0.3943 - val_accuracy: 0.8642\n",
      "Epoch 10/10\n",
      "1719/1719 [==============================] - 3s 2ms/step - loss: 0.4332 - accuracy: 0.8506 - val_loss: 0.3874 - val_accuracy: 0.8662\n"
     ]
    }
   ],
   "source": [
    "history = model.fit(X_train, y_train, epochs=10,\n",
    "                    validation_data=(X_valid, y_valid))"
   ]
  },
  {
   "cell_type": "markdown",
   "id": "ebefe8e9-a643-4327-a48b-0749a7c7a19e",
   "metadata": {},
   "source": [
    "## Gradient Clipping"
   ]
  },
  {
   "cell_type": "code",
   "execution_count": 41,
   "id": "30c1b92a-464a-4058-814c-6c47f08a975b",
   "metadata": {},
   "outputs": [],
   "source": [
    "optimizer = keras.optimizers.SGD(clipvalue=1.0)"
   ]
  },
  {
   "cell_type": "code",
   "execution_count": 42,
   "id": "6aef1b76-5aba-4a9c-a44f-e286659e427b",
   "metadata": {},
   "outputs": [],
   "source": [
    "optimizer = keras.optimizers.SGD(clipnorm=1.0)"
   ]
  },
  {
   "cell_type": "markdown",
   "id": "72b5b12f-4a1f-47ff-9517-1e320a3666c8",
   "metadata": {},
   "source": [
    "# Reusing Pretrained Layers"
   ]
  },
  {
   "cell_type": "markdown",
   "id": "6423f244-cf0d-4d16-b35e-6ae38dac9e1a",
   "metadata": {},
   "source": [
    "## Reusing a Keras model"
   ]
  },
  {
   "cell_type": "code",
   "execution_count": 43,
   "id": "287f4a49-c02d-4cba-890b-3a3940dd4bce",
   "metadata": {},
   "outputs": [],
   "source": [
    "def split_dataset(X,y):\n",
    "    y_5_or_6=(y==5)|(y==6)\n",
    "    y_A=y[~y_5_or_6]\n",
    "    y_A[y_A>6]-=2\n",
    "    y_B = (y[y_5_or_6]==6).astype(np.float32)\n",
    "    return (X[~y_5_or_6], y_A), (X[y_5_or_6], y_B)\n",
    "\n",
    "(X_train_A, y_train_A),(X_train_B, y_train_B)=split_dataset(X_train, y_train) \n",
    "(X_valid_A, y_valid_A),(X_valid_B, y_valid_B)=split_dataset(X_valid, y_valid) \n",
    "(X_test_A, y_test_A),(X_test_B, y_test_B)=split_dataset(X_test, y_test)\n",
    "X_train_B=X_train_B[:200]\n",
    "y_train_B=y_train_B[:200]"
   ]
  },
  {
   "cell_type": "code",
   "execution_count": 44,
   "id": "38907433-61e3-43d7-adae-4ad13f9b25bc",
   "metadata": {},
   "outputs": [
    {
     "data": {
      "text/plain": [
       "(43986, 28, 28)"
      ]
     },
     "execution_count": 44,
     "metadata": {},
     "output_type": "execute_result"
    }
   ],
   "source": [
    "X_train_A.shape"
   ]
  },
  {
   "cell_type": "code",
   "execution_count": 45,
   "id": "cd80a450-7190-4168-81e1-2728700b8d11",
   "metadata": {},
   "outputs": [
    {
     "data": {
      "text/plain": [
       "(200, 28, 28)"
      ]
     },
     "execution_count": 45,
     "metadata": {},
     "output_type": "execute_result"
    }
   ],
   "source": [
    "X_train_B.shape"
   ]
  },
  {
   "cell_type": "code",
   "execution_count": 46,
   "id": "d6f93bde-fde5-47b1-b53c-c1c05fad3ddd",
   "metadata": {},
   "outputs": [
    {
     "data": {
      "text/plain": [
       "array([4, 0, 5, 7, 7, 7, 4, 4, 3, 4, 0, 1, 6, 3, 4, 3, 2, 6, 5, 3, 4, 5,\n",
       "       1, 3, 4, 2, 0, 6, 7, 1], dtype=uint8)"
      ]
     },
     "execution_count": 46,
     "metadata": {},
     "output_type": "execute_result"
    }
   ],
   "source": [
    "y_train_A[:30]"
   ]
  },
  {
   "cell_type": "code",
   "execution_count": 47,
   "id": "1c21f6d9-ae48-49c1-a524-d956331a6cf8",
   "metadata": {},
   "outputs": [
    {
     "data": {
      "text/plain": [
       "array([1., 1., 0., 0., 0., 0., 1., 1., 1., 0., 0., 1., 1., 0., 0., 0., 0.,\n",
       "       0., 0., 1., 1., 0., 0., 1., 1., 0., 1., 1., 1., 1.], dtype=float32)"
      ]
     },
     "execution_count": 47,
     "metadata": {},
     "output_type": "execute_result"
    }
   ],
   "source": [
    "y_train_B[:30]"
   ]
  },
  {
   "cell_type": "code",
   "execution_count": 48,
   "id": "2faa0eaa-be21-45d5-8c68-a25eb13145ee",
   "metadata": {},
   "outputs": [],
   "source": [
    "tf.random.set_seed(42)\n",
    "np.random.seed(42)"
   ]
  },
  {
   "cell_type": "code",
   "execution_count": 49,
   "id": "4090991c-9029-4d53-a0b7-8a3869e70dbd",
   "metadata": {},
   "outputs": [],
   "source": [
    "model_A=keras.models.Sequential()\n",
    "model_A.add(keras.layers.Flatten(input_shape=[28,28]))\n",
    "for n_hidden in (300, 100,50,50,50):\n",
    "    model_A.add(keras.layers.Dense(n_hidden, activation='selu'))\n",
    "model_A.add(keras.layers.Dense(8, activation='softmax'))\n"
   ]
  },
  {
   "cell_type": "code",
   "execution_count": 50,
   "id": "e2de3271-530e-41a4-9037-2453b098fbf7",
   "metadata": {},
   "outputs": [],
   "source": [
    "model_A.compile(loss='sparse_categorical_crossentropy',\n",
    "                optimizer=keras.optimizers.SGD(learning_rate=1e-3),\n",
    "                metrics=['accuracy'])"
   ]
  },
  {
   "cell_type": "code",
   "execution_count": 51,
   "id": "8c242d35-6153-4a4a-a40d-4631f959c819",
   "metadata": {},
   "outputs": [
    {
     "name": "stdout",
     "output_type": "stream",
     "text": [
      "Epoch 1/20\n",
      "1375/1375 [==============================] - 2s 1ms/step - loss: 0.5927 - accuracy: 0.8104 - val_loss: 0.3894 - val_accuracy: 0.8667\n",
      "Epoch 2/20\n",
      "1375/1375 [==============================] - 2s 1ms/step - loss: 0.3523 - accuracy: 0.8785 - val_loss: 0.3285 - val_accuracy: 0.8827\n",
      "Epoch 3/20\n",
      "1375/1375 [==============================] - 2s 1ms/step - loss: 0.3170 - accuracy: 0.8895 - val_loss: 0.3012 - val_accuracy: 0.8986\n",
      "Epoch 4/20\n",
      "1375/1375 [==============================] - 2s 1ms/step - loss: 0.2974 - accuracy: 0.8975 - val_loss: 0.2895 - val_accuracy: 0.9021\n",
      "Epoch 5/20\n",
      "1375/1375 [==============================] - 2s 1ms/step - loss: 0.2836 - accuracy: 0.9020 - val_loss: 0.2769 - val_accuracy: 0.9071\n",
      "Epoch 6/20\n",
      "1375/1375 [==============================] - 2s 1ms/step - loss: 0.2730 - accuracy: 0.9061 - val_loss: 0.2735 - val_accuracy: 0.9066\n",
      "Epoch 7/20\n",
      "1375/1375 [==============================] - 2s 1ms/step - loss: 0.2642 - accuracy: 0.9093 - val_loss: 0.2722 - val_accuracy: 0.9078\n",
      "Epoch 8/20\n",
      "1375/1375 [==============================] - 2s 1ms/step - loss: 0.2574 - accuracy: 0.9123 - val_loss: 0.2590 - val_accuracy: 0.9141\n",
      "Epoch 9/20\n",
      "1375/1375 [==============================] - 2s 1ms/step - loss: 0.2519 - accuracy: 0.9135 - val_loss: 0.2563 - val_accuracy: 0.9141\n",
      "Epoch 10/20\n",
      "1375/1375 [==============================] - 2s 1ms/step - loss: 0.2469 - accuracy: 0.9156 - val_loss: 0.2543 - val_accuracy: 0.9163\n",
      "Epoch 11/20\n",
      "1375/1375 [==============================] - 2s 1ms/step - loss: 0.2423 - accuracy: 0.9177 - val_loss: 0.2495 - val_accuracy: 0.9150\n",
      "Epoch 12/20\n",
      "1375/1375 [==============================] - 2s 1ms/step - loss: 0.2383 - accuracy: 0.9187 - val_loss: 0.2512 - val_accuracy: 0.9126\n",
      "Epoch 13/20\n",
      "1375/1375 [==============================] - 2s 1ms/step - loss: 0.2351 - accuracy: 0.9198 - val_loss: 0.2445 - val_accuracy: 0.9160\n",
      "Epoch 14/20\n",
      "1375/1375 [==============================] - 2s 1ms/step - loss: 0.2316 - accuracy: 0.9211 - val_loss: 0.2416 - val_accuracy: 0.9175\n",
      "Epoch 15/20\n",
      "1375/1375 [==============================] - 2s 1ms/step - loss: 0.2288 - accuracy: 0.9209 - val_loss: 0.2449 - val_accuracy: 0.9193\n",
      "Epoch 16/20\n",
      "1375/1375 [==============================] - 2s 1ms/step - loss: 0.2254 - accuracy: 0.9221 - val_loss: 0.2386 - val_accuracy: 0.9188\n",
      "Epoch 17/20\n",
      "1375/1375 [==============================] - 2s 1ms/step - loss: 0.2230 - accuracy: 0.9235 - val_loss: 0.2413 - val_accuracy: 0.9175\n",
      "Epoch 18/20\n",
      "1375/1375 [==============================] - 2s 1ms/step - loss: 0.2200 - accuracy: 0.9245 - val_loss: 0.2426 - val_accuracy: 0.9150\n",
      "Epoch 19/20\n",
      "1375/1375 [==============================] - 2s 1ms/step - loss: 0.2178 - accuracy: 0.9254 - val_loss: 0.2333 - val_accuracy: 0.9195\n",
      "Epoch 20/20\n",
      "1375/1375 [==============================] - 2s 1ms/step - loss: 0.2156 - accuracy: 0.9261 - val_loss: 0.2333 - val_accuracy: 0.9205\n"
     ]
    }
   ],
   "source": [
    "history=model_A.fit(X_train_A, y_train_A, epochs=20,\n",
    "                   validation_data=(X_valid_A, y_valid_A))"
   ]
  },
  {
   "cell_type": "code",
   "execution_count": 52,
   "id": "2be24f7a-4e5d-47d1-91f2-42578ca0e183",
   "metadata": {},
   "outputs": [],
   "source": [
    "model_A.save('my_model_A.h5')"
   ]
  },
  {
   "cell_type": "code",
   "execution_count": 53,
   "id": "2a867c59-5db6-404f-991c-618b1ac247eb",
   "metadata": {},
   "outputs": [],
   "source": [
    "model_B=keras.models.Sequential()\n",
    "model_B.add(keras.layers.Flatten(input_shape=[28,28]))\n",
    "for n_hidden in (300, 100,50,50,50):\n",
    "    model_B.add(keras.layers.Dense(n_hidden, activation='selu'))\n",
    "model_B.add(keras.layers.Dense(1, activation='sigmoid'))\n"
   ]
  },
  {
   "cell_type": "code",
   "execution_count": 54,
   "id": "e02515b4-f4bc-4ab6-bdd1-cb361bee2deb",
   "metadata": {},
   "outputs": [],
   "source": [
    "model_B.compile(loss='binary_crossentropy',\n",
    "                optimizer=keras.optimizers.SGD(learning_rate=1e-3),\n",
    "                metrics=['accuracy'])"
   ]
  },
  {
   "cell_type": "code",
   "execution_count": 55,
   "id": "c2430a39-8f18-43d5-aa8d-ac4e8b5ca2f6",
   "metadata": {},
   "outputs": [
    {
     "name": "stdout",
     "output_type": "stream",
     "text": [
      "Epoch 1/20\n",
      "7/7 [==============================] - 0s 21ms/step - loss: 0.9573 - accuracy: 0.4650 - val_loss: 0.6312 - val_accuracy: 0.6004\n",
      "Epoch 2/20\n",
      "7/7 [==============================] - 0s 7ms/step - loss: 0.5692 - accuracy: 0.7500 - val_loss: 0.4784 - val_accuracy: 0.8529\n",
      "Epoch 3/20\n",
      "7/7 [==============================] - 0s 7ms/step - loss: 0.4503 - accuracy: 0.8650 - val_loss: 0.4102 - val_accuracy: 0.8945\n",
      "Epoch 4/20\n",
      "7/7 [==============================] - 0s 7ms/step - loss: 0.3879 - accuracy: 0.8950 - val_loss: 0.3647 - val_accuracy: 0.9178\n",
      "Epoch 5/20\n",
      "7/7 [==============================] - 0s 7ms/step - loss: 0.3435 - accuracy: 0.9250 - val_loss: 0.3300 - val_accuracy: 0.9320\n",
      "Epoch 6/20\n",
      "7/7 [==============================] - 0s 7ms/step - loss: 0.3081 - accuracy: 0.9300 - val_loss: 0.3020 - val_accuracy: 0.9402\n",
      "Epoch 7/20\n",
      "7/7 [==============================] - 0s 7ms/step - loss: 0.2801 - accuracy: 0.9350 - val_loss: 0.2804 - val_accuracy: 0.9422\n",
      "Epoch 8/20\n",
      "7/7 [==============================] - 0s 7ms/step - loss: 0.2564 - accuracy: 0.9450 - val_loss: 0.2606 - val_accuracy: 0.9473\n",
      "Epoch 9/20\n",
      "7/7 [==============================] - 0s 7ms/step - loss: 0.2363 - accuracy: 0.9550 - val_loss: 0.2428 - val_accuracy: 0.9523\n",
      "Epoch 10/20\n",
      "7/7 [==============================] - 0s 7ms/step - loss: 0.2188 - accuracy: 0.9600 - val_loss: 0.2281 - val_accuracy: 0.9544\n",
      "Epoch 11/20\n",
      "7/7 [==============================] - 0s 7ms/step - loss: 0.2036 - accuracy: 0.9700 - val_loss: 0.2149 - val_accuracy: 0.9584\n",
      "Epoch 12/20\n",
      "7/7 [==============================] - 0s 7ms/step - loss: 0.1897 - accuracy: 0.9750 - val_loss: 0.2035 - val_accuracy: 0.9584\n",
      "Epoch 13/20\n",
      "7/7 [==============================] - 0s 7ms/step - loss: 0.1772 - accuracy: 0.9750 - val_loss: 0.1930 - val_accuracy: 0.9615\n",
      "Epoch 14/20\n",
      "7/7 [==============================] - 0s 7ms/step - loss: 0.1668 - accuracy: 0.9800 - val_loss: 0.1837 - val_accuracy: 0.9635\n",
      "Epoch 15/20\n",
      "7/7 [==============================] - 0s 7ms/step - loss: 0.1570 - accuracy: 0.9900 - val_loss: 0.1746 - val_accuracy: 0.9686\n",
      "Epoch 16/20\n",
      "7/7 [==============================] - 0s 7ms/step - loss: 0.1481 - accuracy: 0.9900 - val_loss: 0.1674 - val_accuracy: 0.9686\n",
      "Epoch 17/20\n",
      "7/7 [==============================] - 0s 7ms/step - loss: 0.1405 - accuracy: 0.9900 - val_loss: 0.1603 - val_accuracy: 0.9706\n",
      "Epoch 18/20\n",
      "7/7 [==============================] - 0s 7ms/step - loss: 0.1333 - accuracy: 0.9900 - val_loss: 0.1539 - val_accuracy: 0.9706\n",
      "Epoch 19/20\n",
      "7/7 [==============================] - 0s 7ms/step - loss: 0.1268 - accuracy: 0.9900 - val_loss: 0.1482 - val_accuracy: 0.9716\n",
      "Epoch 20/20\n",
      "7/7 [==============================] - 0s 7ms/step - loss: 0.1208 - accuracy: 0.9900 - val_loss: 0.1431 - val_accuracy: 0.9716\n"
     ]
    }
   ],
   "source": [
    "history=model_B.fit(X_train_B, y_train_B, epochs=20,\n",
    "                   validation_data=(X_valid_B, y_valid_B))"
   ]
  },
  {
   "cell_type": "code",
   "execution_count": 56,
   "id": "87f7ca14-4ebb-40fb-872b-90150ebd5e48",
   "metadata": {},
   "outputs": [
    {
     "name": "stdout",
     "output_type": "stream",
     "text": [
      "Model: \"sequential_7\"\n",
      "_________________________________________________________________\n",
      " Layer (type)                Output Shape              Param #   \n",
      "=================================================================\n",
      " flatten_7 (Flatten)         (None, 784)               0         \n",
      "                                                                 \n",
      " dense_224 (Dense)           (None, 300)               235500    \n",
      "                                                                 \n",
      " dense_225 (Dense)           (None, 100)               30100     \n",
      "                                                                 \n",
      " dense_226 (Dense)           (None, 50)                5050      \n",
      "                                                                 \n",
      " dense_227 (Dense)           (None, 50)                2550      \n",
      "                                                                 \n",
      " dense_228 (Dense)           (None, 50)                2550      \n",
      "                                                                 \n",
      " dense_229 (Dense)           (None, 1)                 51        \n",
      "                                                                 \n",
      "=================================================================\n",
      "Total params: 275,801\n",
      "Trainable params: 275,801\n",
      "Non-trainable params: 0\n",
      "_________________________________________________________________\n"
     ]
    }
   ],
   "source": [
    "model_B.summary()"
   ]
  },
  {
   "cell_type": "code",
   "execution_count": 57,
   "id": "c6f28e5a-9d92-41d9-89d5-1888f3af2495",
   "metadata": {},
   "outputs": [],
   "source": [
    "model_A=keras.models.load_model('my_model_A.h5')\n",
    "model_B_on_A=keras.models.Sequential(model_A.layers[:-1])\n",
    "model_B_on_A.add(keras.layers.Dense(1, activation='sigmoid'))"
   ]
  },
  {
   "cell_type": "markdown",
   "id": "9e8cbdff-d8c6-4073-ae27-63ec0ee3a126",
   "metadata": {},
   "source": [
    "`model_B_on_A`と`model_A`は層を共有しており片方を訓練するともう片方も更新する。それを避けるために、`model_A`をコピーする。"
   ]
  },
  {
   "cell_type": "code",
   "execution_count": 58,
   "id": "1d099569-4b2f-44c4-bedd-3043a4a9844f",
   "metadata": {},
   "outputs": [],
   "source": [
    "model_A_clone=keras.models.clone_model(model_A)\n",
    "model_A_clone.set_weights(model_A.get_weights())\n",
    "model_B_on_A=keras.models.Sequential(model_A_clone.layers[:-1])\n",
    "model_B_on_A.add(keras.layers.Dense(1, activation='sigmoid'))"
   ]
  },
  {
   "cell_type": "code",
   "execution_count": 59,
   "id": "512ba6c5-2cb3-44f7-b5c0-a0c75a25b011",
   "metadata": {},
   "outputs": [],
   "source": [
    "for layer in model_B_on_A.layers[:-1]:\n",
    "    layer.trainable = False\n",
    "\n",
    "model_B_on_A.compile(loss='binary_crossentropy',\n",
    "                     optimizer=keras.optimizers.SGD(learning_rate=1e-3),\n",
    "                     metrics=['accuracy'])"
   ]
  },
  {
   "cell_type": "code",
   "execution_count": 60,
   "id": "ba237e1f-956e-45a8-9acd-5898de058713",
   "metadata": {},
   "outputs": [
    {
     "name": "stdout",
     "output_type": "stream",
     "text": [
      "Epoch 1/4\n",
      "7/7 [==============================] - 0s 21ms/step - loss: 0.2650 - accuracy: 0.9400 - val_loss: 0.2790 - val_accuracy: 0.9280\n",
      "Epoch 2/4\n",
      "7/7 [==============================] - 0s 7ms/step - loss: 0.2553 - accuracy: 0.9400 - val_loss: 0.2694 - val_accuracy: 0.9310\n",
      "Epoch 3/4\n",
      "7/7 [==============================] - 0s 7ms/step - loss: 0.2460 - accuracy: 0.9400 - val_loss: 0.2607 - val_accuracy: 0.9341\n",
      "Epoch 4/4\n",
      "7/7 [==============================] - 0s 7ms/step - loss: 0.2374 - accuracy: 0.9400 - val_loss: 0.2525 - val_accuracy: 0.9371\n",
      "Epoch 1/16\n",
      "7/7 [==============================] - 0s 21ms/step - loss: 0.2125 - accuracy: 0.9450 - val_loss: 0.2043 - val_accuracy: 0.9645\n",
      "Epoch 2/16\n",
      "7/7 [==============================] - 0s 7ms/step - loss: 0.1699 - accuracy: 0.9550 - val_loss: 0.1719 - val_accuracy: 0.9716\n",
      "Epoch 3/16\n",
      "7/7 [==============================] - 0s 7ms/step - loss: 0.1408 - accuracy: 0.9650 - val_loss: 0.1491 - val_accuracy: 0.9807\n",
      "Epoch 4/16\n",
      "7/7 [==============================] - 0s 7ms/step - loss: 0.1198 - accuracy: 0.9800 - val_loss: 0.1325 - val_accuracy: 0.9817\n",
      "Epoch 5/16\n",
      "7/7 [==============================] - 0s 7ms/step - loss: 0.1046 - accuracy: 0.9900 - val_loss: 0.1200 - val_accuracy: 0.9848\n",
      "Epoch 6/16\n",
      "7/7 [==============================] - 0s 7ms/step - loss: 0.0929 - accuracy: 0.9950 - val_loss: 0.1101 - val_accuracy: 0.9858\n",
      "Epoch 7/16\n",
      "7/7 [==============================] - 0s 7ms/step - loss: 0.0837 - accuracy: 0.9950 - val_loss: 0.1020 - val_accuracy: 0.9858\n",
      "Epoch 8/16\n",
      "7/7 [==============================] - 0s 7ms/step - loss: 0.0761 - accuracy: 0.9950 - val_loss: 0.0952 - val_accuracy: 0.9868\n",
      "Epoch 9/16\n",
      "7/7 [==============================] - 0s 7ms/step - loss: 0.0697 - accuracy: 0.9950 - val_loss: 0.0892 - val_accuracy: 0.9868\n",
      "Epoch 10/16\n",
      "7/7 [==============================] - 0s 7ms/step - loss: 0.0640 - accuracy: 0.9950 - val_loss: 0.0844 - val_accuracy: 0.9888\n",
      "Epoch 11/16\n",
      "7/7 [==============================] - 0s 7ms/step - loss: 0.0595 - accuracy: 1.0000 - val_loss: 0.0800 - val_accuracy: 0.9888\n",
      "Epoch 12/16\n",
      "7/7 [==============================] - 0s 7ms/step - loss: 0.0553 - accuracy: 1.0000 - val_loss: 0.0762 - val_accuracy: 0.9878\n",
      "Epoch 13/16\n",
      "7/7 [==============================] - 0s 7ms/step - loss: 0.0517 - accuracy: 1.0000 - val_loss: 0.0728 - val_accuracy: 0.9878\n",
      "Epoch 14/16\n",
      "7/7 [==============================] - 0s 7ms/step - loss: 0.0485 - accuracy: 1.0000 - val_loss: 0.0700 - val_accuracy: 0.9878\n",
      "Epoch 15/16\n",
      "7/7 [==============================] - 0s 7ms/step - loss: 0.0458 - accuracy: 1.0000 - val_loss: 0.0676 - val_accuracy: 0.9878\n",
      "Epoch 16/16\n",
      "7/7 [==============================] - 0s 7ms/step - loss: 0.0435 - accuracy: 1.0000 - val_loss: 0.0652 - val_accuracy: 0.9878\n"
     ]
    }
   ],
   "source": [
    "history=model_B_on_A.fit(X_train_B, y_train_B,epochs=4,\n",
    "                         validation_data=(X_valid_B, y_valid_B))\n",
    "\n",
    "for layer in model_B_on_A.layers[:-1]:\n",
    "    layer.trainable=True\n",
    "\n",
    "model_B_on_A.compile(loss='binary_crossentropy',\n",
    "                     optimizer=keras.optimizers.SGD(learning_rate=1e-3),\n",
    "                     metrics=['accuracy'])\n",
    "history=model_B_on_A.fit(X_train_B, y_train_B,epochs=16,\n",
    "                         validation_data=(X_valid_B, y_valid_B))"
   ]
  },
  {
   "cell_type": "code",
   "execution_count": 61,
   "id": "42602cae-f95a-4287-882f-a73df4098cda",
   "metadata": {},
   "outputs": [
    {
     "name": "stdout",
     "output_type": "stream",
     "text": [
      "63/63 [==============================] - 0s 881us/step - loss: 0.1408 - accuracy: 0.9705\n"
     ]
    },
    {
     "data": {
      "text/plain": [
       "[0.14082810282707214, 0.9704999923706055]"
      ]
     },
     "execution_count": 61,
     "metadata": {},
     "output_type": "execute_result"
    }
   ],
   "source": [
    "model_B.evaluate(X_test_B, y_test_B)"
   ]
  },
  {
   "cell_type": "code",
   "execution_count": 62,
   "id": "33f53020-cdac-49ac-8e64-3ab62a05d966",
   "metadata": {},
   "outputs": [
    {
     "name": "stdout",
     "output_type": "stream",
     "text": [
      "63/63 [==============================] - 0s 887us/step - loss: 0.0561 - accuracy: 0.9940\n"
     ]
    },
    {
     "data": {
      "text/plain": [
       "[0.05611100420355797, 0.9940000176429749]"
      ]
     },
     "execution_count": 62,
     "metadata": {},
     "output_type": "execute_result"
    }
   ],
   "source": [
    "model_B_on_A.evaluate(X_test_B, y_test_B)"
   ]
  },
  {
   "cell_type": "markdown",
   "id": "6d84ae78-fe33-4aca-93c1-cb30a1d1ef22",
   "metadata": {},
   "source": [
    "accuracyが0.9705から0.994に改善（４.９倍）"
   ]
  },
  {
   "cell_type": "markdown",
   "id": "dbbdfc17-06ad-47ff-a532-7cef07023339",
   "metadata": {},
   "source": [
    "# Faster Optimizers"
   ]
  },
  {
   "cell_type": "markdown",
   "id": "38d279a4-2f30-48ed-a498-1041216d5710",
   "metadata": {},
   "source": [
    "## Momentum"
   ]
  },
  {
   "cell_type": "code",
   "execution_count": 63,
   "id": "9ad4f743-0124-4f9e-8e1e-9f5b5018ce09",
   "metadata": {},
   "outputs": [],
   "source": [
    "optimizer=keras.optimizers.SGD(learning_rate=0.001, momentum=0.9)"
   ]
  },
  {
   "cell_type": "markdown",
   "id": "49af7094-a77f-448d-a9bf-f3bc5d316069",
   "metadata": {},
   "source": [
    "## Nesterov"
   ]
  },
  {
   "cell_type": "code",
   "execution_count": 64,
   "id": "b76e64d0-2bbb-4d79-843c-0c181b59a2a5",
   "metadata": {},
   "outputs": [],
   "source": [
    "optimizer=keras.optimizers.SGD(learning_rate=0.001, momentum=0.9, nesterov =True)"
   ]
  },
  {
   "cell_type": "markdown",
   "id": "9780ef48-af9b-4dbb-866d-be2e825f6571",
   "metadata": {},
   "source": [
    "## AdaGrad"
   ]
  },
  {
   "cell_type": "code",
   "execution_count": 65,
   "id": "88658216-1446-4a01-b2d9-a193a5175316",
   "metadata": {},
   "outputs": [],
   "source": [
    "optimizer=keras.optimizers.Adagrad(learning_rate=0.001)"
   ]
  },
  {
   "cell_type": "markdown",
   "id": "30dda6b8-7f65-450c-8168-5d50a83ccfdf",
   "metadata": {},
   "source": [
    "## RMSProp"
   ]
  },
  {
   "cell_type": "code",
   "execution_count": 66,
   "id": "fa0cea75-4526-453c-bbd0-0d631e2cb4aa",
   "metadata": {},
   "outputs": [],
   "source": [
    "optimizer=keras.optimizers.RMSprop(learning_rate=0.001, rho=0.9)"
   ]
  },
  {
   "cell_type": "markdown",
   "id": "5d6397be-ff9b-44d0-8339-964279eb062f",
   "metadata": {},
   "source": [
    "## Adam and Nadam"
   ]
  },
  {
   "cell_type": "code",
   "execution_count": 67,
   "id": "9c3cf373-81dd-44ba-99fb-63f8e6521d35",
   "metadata": {},
   "outputs": [],
   "source": [
    "optimizer=keras.optimizers.Adam(learning_rate=0.001, beta_1=0.9, beta_2=0.999)"
   ]
  },
  {
   "cell_type": "code",
   "execution_count": 68,
   "id": "533eef0d-9b77-4a38-9a63-6016513bfc4b",
   "metadata": {},
   "outputs": [],
   "source": [
    "optimizer=keras.optimizers.Adamax(learning_rate=0.001, beta_1=0.9, beta_2=0.999)"
   ]
  },
  {
   "cell_type": "code",
   "execution_count": 69,
   "id": "ce511636-1772-4398-9509-8f5371d988b5",
   "metadata": {},
   "outputs": [],
   "source": [
    "optimizer=keras.optimizers.Nadam(learning_rate=0.001, beta_1=0.9, beta_2=0.999)"
   ]
  },
  {
   "cell_type": "markdown",
   "id": "db051d0a-1cda-4799-8af9-89d7554f101d",
   "metadata": {},
   "source": [
    "## Learning Rate Scheduling"
   ]
  },
  {
   "cell_type": "markdown",
   "id": "e095ed35-be9a-4e31-aa06-dfa86ad21a69",
   "metadata": {},
   "source": [
    "## power scheduling\n",
    "lr = lr0/(1+steps/s)**c"
   ]
  },
  {
   "cell_type": "code",
   "execution_count": 70,
   "id": "6630b4ea-4557-4d3c-8d64-d73a19b6df19",
   "metadata": {},
   "outputs": [],
   "source": [
    "optimizer=keras.optimizers.SGD(learning_rate=0.001, decay = 1e-4)"
   ]
  },
  {
   "cell_type": "code",
   "execution_count": 71,
   "id": "153241fe-fd09-4602-8016-08b69ce66221",
   "metadata": {},
   "outputs": [],
   "source": [
    "model = keras.models.Sequential([\n",
    "    keras.layers.Flatten(input_shape=[28,28]),\n",
    "    keras.layers.Dense(300,activation='selu', kernel_initializer='lecun_normal'),\n",
    "    keras.layers.Dense(100,activation='selu', kernel_initializer='lecun_normal'),\n",
    "    keras.layers.Dense(10,activation='softmax')\n",
    "])\n",
    "\n",
    "model.compile(loss='sparse_categorical_crossentropy',\n",
    "             optimizer=optimizer,\n",
    "             metrics=['accuracy'])"
   ]
  },
  {
   "cell_type": "code",
   "execution_count": 72,
   "id": "6c273a56-eafe-4cc3-a5cf-eda2dc583174",
   "metadata": {},
   "outputs": [
    {
     "name": "stdout",
     "output_type": "stream",
     "text": [
      "Epoch 1/25\n",
      "1719/1719 [==============================] - 2s 1ms/step - loss: 0.7195 - accuracy: 0.7512 - val_loss: 0.5453 - val_accuracy: 0.8172\n",
      "Epoch 2/25\n",
      "1719/1719 [==============================] - 2s 1ms/step - loss: 0.5151 - accuracy: 0.8219 - val_loss: 0.4893 - val_accuracy: 0.8348\n",
      "Epoch 3/25\n",
      "1719/1719 [==============================] - 2s 1ms/step - loss: 0.4758 - accuracy: 0.8351 - val_loss: 0.4672 - val_accuracy: 0.8426\n",
      "Epoch 4/25\n",
      "1719/1719 [==============================] - 2s 1ms/step - loss: 0.4542 - accuracy: 0.8420 - val_loss: 0.4498 - val_accuracy: 0.8512\n",
      "Epoch 5/25\n",
      "1719/1719 [==============================] - 2s 987us/step - loss: 0.4398 - accuracy: 0.8482 - val_loss: 0.4405 - val_accuracy: 0.8530\n",
      "Epoch 6/25\n",
      "1719/1719 [==============================] - 2s 1ms/step - loss: 0.4290 - accuracy: 0.8508 - val_loss: 0.4332 - val_accuracy: 0.8566\n",
      "Epoch 7/25\n",
      "1719/1719 [==============================] - 2s 1ms/step - loss: 0.4206 - accuracy: 0.8548 - val_loss: 0.4263 - val_accuracy: 0.8576\n",
      "Epoch 8/25\n",
      "1719/1719 [==============================] - 2s 1ms/step - loss: 0.4138 - accuracy: 0.8564 - val_loss: 0.4230 - val_accuracy: 0.8614\n",
      "Epoch 9/25\n",
      "1719/1719 [==============================] - 2s 1ms/step - loss: 0.4081 - accuracy: 0.8582 - val_loss: 0.4183 - val_accuracy: 0.8608\n",
      "Epoch 10/25\n",
      "1719/1719 [==============================] - 2s 1ms/step - loss: 0.4031 - accuracy: 0.8605 - val_loss: 0.4151 - val_accuracy: 0.8610\n",
      "Epoch 11/25\n",
      "1719/1719 [==============================] - 2s 1ms/step - loss: 0.3989 - accuracy: 0.8613 - val_loss: 0.4121 - val_accuracy: 0.8614\n",
      "Epoch 12/25\n",
      "1719/1719 [==============================] - 2s 1ms/step - loss: 0.3952 - accuracy: 0.8621 - val_loss: 0.4103 - val_accuracy: 0.8624\n",
      "Epoch 13/25\n",
      "1719/1719 [==============================] - 2s 1ms/step - loss: 0.3918 - accuracy: 0.8634 - val_loss: 0.4073 - val_accuracy: 0.8650\n",
      "Epoch 14/25\n",
      "1719/1719 [==============================] - 2s 1000us/step - loss: 0.3889 - accuracy: 0.8645 - val_loss: 0.4062 - val_accuracy: 0.8644\n",
      "Epoch 15/25\n",
      "1719/1719 [==============================] - 2s 1ms/step - loss: 0.3861 - accuracy: 0.8651 - val_loss: 0.4046 - val_accuracy: 0.8652\n",
      "Epoch 16/25\n",
      "1719/1719 [==============================] - 2s 1ms/step - loss: 0.3836 - accuracy: 0.8658 - val_loss: 0.4031 - val_accuracy: 0.8652\n",
      "Epoch 17/25\n",
      "1719/1719 [==============================] - 2s 1ms/step - loss: 0.3813 - accuracy: 0.8669 - val_loss: 0.4012 - val_accuracy: 0.8666\n",
      "Epoch 18/25\n",
      "1719/1719 [==============================] - 2s 997us/step - loss: 0.3792 - accuracy: 0.8674 - val_loss: 0.3995 - val_accuracy: 0.8654\n",
      "Epoch 19/25\n",
      "1719/1719 [==============================] - 2s 1ms/step - loss: 0.3772 - accuracy: 0.8678 - val_loss: 0.3985 - val_accuracy: 0.8658\n",
      "Epoch 20/25\n",
      "1719/1719 [==============================] - 2s 993us/step - loss: 0.3754 - accuracy: 0.8688 - val_loss: 0.3974 - val_accuracy: 0.8678\n",
      "Epoch 21/25\n",
      "1719/1719 [==============================] - 2s 988us/step - loss: 0.3736 - accuracy: 0.8695 - val_loss: 0.3967 - val_accuracy: 0.8666\n",
      "Epoch 22/25\n",
      "1719/1719 [==============================] - 2s 1ms/step - loss: 0.3720 - accuracy: 0.8699 - val_loss: 0.3951 - val_accuracy: 0.8680\n",
      "Epoch 23/25\n",
      "1719/1719 [==============================] - 2s 990us/step - loss: 0.3705 - accuracy: 0.8699 - val_loss: 0.3950 - val_accuracy: 0.8664\n",
      "Epoch 24/25\n",
      "1719/1719 [==============================] - 2s 1ms/step - loss: 0.3691 - accuracy: 0.8709 - val_loss: 0.3932 - val_accuracy: 0.8676\n",
      "Epoch 25/25\n",
      "1719/1719 [==============================] - 2s 1ms/step - loss: 0.3678 - accuracy: 0.8713 - val_loss: 0.3926 - val_accuracy: 0.8696\n"
     ]
    }
   ],
   "source": [
    "n_epochs=25\n",
    "history = model.fit(X_train_scaled, y_train, epochs=n_epochs,\n",
    "                    validation_data=(X_valid_scaled, y_valid))"
   ]
  },
  {
   "cell_type": "code",
   "execution_count": 73,
   "id": "332536d6-4076-4c46-89d6-a58a468744bf",
   "metadata": {},
   "outputs": [
    {
     "data": {
      "image/png": "[encoded data removed]",
      "text/plain": [
       "<Figure size 432x288 with 1 Axes>"
      ]
     },
     "metadata": {
      "needs_background": "light"
     },
     "output_type": "display_data"
    }
   ],
   "source": [
    "import math\n",
    "\n",
    "learning_rate =0.01\n",
    "decay=1e-4\n",
    "batch_size=32\n",
    "n_steps_per_epoch=math.ceil(len(X_train)/batch_size)\n",
    "epochs=np.arange(n_epochs)\n",
    "lrs=learning_rate/(1+decay*epochs*n_steps_per_epoch)\n",
    "\n",
    "plt.plot(epochs,lrs, 'o-')\n",
    "plt.axis([0, n_epochs -1, 0, 0.01])\n",
    "plt.xlabel('Epoch')\n",
    "plt.ylabel('Learning Rate')\n",
    "plt.title('Power Scheduling', fontsize=14)\n",
    "plt.grid(True)"
   ]
  },
  {
   "cell_type": "markdown",
   "id": "470ea44f-c308-4faa-a3fe-72864841ecfa",
   "metadata": {},
   "source": [
    "## Exponential Scheduling\n",
    "\n",
    "$lr=lr0 \\cdot 0.1^{epoch/s}$"
   ]
  },
  {
   "cell_type": "code",
   "execution_count": 74,
   "id": "83c23cb3-41b7-4e51-b844-9dcfb17a5003",
   "metadata": {},
   "outputs": [],
   "source": [
    "def exponential_decay_fn(epoch):\n",
    "    return 0.01*0.1**(epoch/20)"
   ]
  },
  {
   "cell_type": "code",
   "execution_count": 75,
   "id": "d76e67d1-03d5-4b18-b01e-393ace41def4",
   "metadata": {},
   "outputs": [],
   "source": [
    "def exponential_decay(lr0,s):\n",
    "    def exponential_decay_fn(epoch):\n",
    "        return lr0 * 0.1 **(epoch/s)\n",
    "    return exponential_decay_fn\n",
    "\n",
    "exponential_decay_fn=exponential_decay(lr0=0.01, s=20)"
   ]
  },
  {
   "cell_type": "code",
   "execution_count": 76,
   "id": "15f2a2e0-f971-4be2-8cba-bad0cc7a90bc",
   "metadata": {},
   "outputs": [],
   "source": [
    "model = keras.models.Sequential([\n",
    "    keras.layers.Flatten(input_shape=[28,28]),\n",
    "    keras.layers.Dense(300,activation='selu', kernel_initializer='lecun_normal'),\n",
    "    keras.layers.Dense(100,activation='selu', kernel_initializer='lecun_normal'),\n",
    "    keras.layers.Dense(10,activation='softmax')\n",
    "])\n",
    "\n",
    "model.compile(loss='sparse_categorical_crossentropy',\n",
    "             optimizer='nadam',\n",
    "             metrics=['accuracy'])\n",
    "n_epochs=25"
   ]
  },
  {
   "cell_type": "code",
   "execution_count": 77,
   "id": "3edc4df9-3660-4bf2-8f25-ab3a8a732976",
   "metadata": {},
   "outputs": [
    {
     "name": "stdout",
     "output_type": "stream",
     "text": [
      "Epoch 1/25\n",
      "1719/1719 [==============================] - 3s 1ms/step - loss: 0.8235 - accuracy: 0.7635 - val_loss: 0.8386 - val_accuracy: 0.7696 - lr: 0.0100\n",
      "Epoch 2/25\n",
      "1719/1719 [==============================] - 2s 1ms/step - loss: 0.6903 - accuracy: 0.7983 - val_loss: 0.6754 - val_accuracy: 0.7904 - lr: 0.0089\n",
      "Epoch 3/25\n",
      "1719/1719 [==============================] - 2s 1ms/step - loss: 0.6355 - accuracy: 0.8096 - val_loss: 0.6516 - val_accuracy: 0.7946 - lr: 0.0079\n",
      "Epoch 4/25\n",
      "1719/1719 [==============================] - 2s 1ms/step - loss: 0.5515 - accuracy: 0.8305 - val_loss: 0.5215 - val_accuracy: 0.8436 - lr: 0.0071\n",
      "Epoch 5/25\n",
      "1719/1719 [==============================] - 2s 1ms/step - loss: 0.4936 - accuracy: 0.8444 - val_loss: 0.5337 - val_accuracy: 0.8520 - lr: 0.0063\n",
      "Epoch 6/25\n",
      "1719/1719 [==============================] - 2s 1ms/step - loss: 0.4446 - accuracy: 0.8596 - val_loss: 0.5463 - val_accuracy: 0.8546 - lr: 0.0056\n",
      "Epoch 7/25\n",
      "1719/1719 [==============================] - 2s 1ms/step - loss: 0.4251 - accuracy: 0.8667 - val_loss: 0.5369 - val_accuracy: 0.8616 - lr: 0.0050\n",
      "Epoch 8/25\n",
      "1719/1719 [==============================] - 3s 1ms/step - loss: 0.3955 - accuracy: 0.8736 - val_loss: 0.5281 - val_accuracy: 0.8404 - lr: 0.0045\n",
      "Epoch 9/25\n",
      "1719/1719 [==============================] - 2s 1ms/step - loss: 0.3597 - accuracy: 0.8820 - val_loss: 0.5027 - val_accuracy: 0.8636 - lr: 0.0040\n",
      "Epoch 10/25\n",
      "1719/1719 [==============================] - 2s 1ms/step - loss: 0.3441 - accuracy: 0.8892 - val_loss: 0.4628 - val_accuracy: 0.8768 - lr: 0.0035\n",
      "Epoch 11/25\n",
      "1719/1719 [==============================] - 2s 1ms/step - loss: 0.3082 - accuracy: 0.8968 - val_loss: 0.4404 - val_accuracy: 0.8756 - lr: 0.0032\n",
      "Epoch 12/25\n",
      "1719/1719 [==============================] - 2s 1ms/step - loss: 0.2955 - accuracy: 0.9015 - val_loss: 0.4459 - val_accuracy: 0.8656 - lr: 0.0028\n",
      "Epoch 13/25\n",
      "1719/1719 [==============================] - 2s 1ms/step - loss: 0.2668 - accuracy: 0.9087 - val_loss: 0.4237 - val_accuracy: 0.8838 - lr: 0.0025\n",
      "Epoch 14/25\n",
      "1719/1719 [==============================] - 2s 1ms/step - loss: 0.2469 - accuracy: 0.9146 - val_loss: 0.4194 - val_accuracy: 0.8818 - lr: 0.0022\n",
      "Epoch 15/25\n",
      "1719/1719 [==============================] - 2s 1ms/step - loss: 0.2358 - accuracy: 0.9192 - val_loss: 0.4145 - val_accuracy: 0.8868 - lr: 0.0020\n",
      "Epoch 16/25\n",
      "1719/1719 [==============================] - 2s 1ms/step - loss: 0.2157 - accuracy: 0.9254 - val_loss: 0.4347 - val_accuracy: 0.8872 - lr: 0.0018\n",
      "Epoch 17/25\n",
      "1719/1719 [==============================] - 2s 1ms/step - loss: 0.2008 - accuracy: 0.9302 - val_loss: 0.4643 - val_accuracy: 0.8826 - lr: 0.0016\n",
      "Epoch 18/25\n",
      "1719/1719 [==============================] - 2s 1ms/step - loss: 0.1850 - accuracy: 0.9365 - val_loss: 0.4383 - val_accuracy: 0.8854 - lr: 0.0014\n",
      "Epoch 19/25\n",
      "1719/1719 [==============================] - 2s 1ms/step - loss: 0.1735 - accuracy: 0.9402 - val_loss: 0.4655 - val_accuracy: 0.8912 - lr: 0.0013\n",
      "Epoch 20/25\n",
      "1719/1719 [==============================] - 2s 1ms/step - loss: 0.1612 - accuracy: 0.9448 - val_loss: 0.4879 - val_accuracy: 0.8872 - lr: 0.0011\n",
      "Epoch 21/25\n",
      "1719/1719 [==============================] - 3s 1ms/step - loss: 0.1514 - accuracy: 0.9482 - val_loss: 0.4903 - val_accuracy: 0.8864 - lr: 0.0010\n",
      "Epoch 22/25\n",
      "1719/1719 [==============================] - 3s 1ms/step - loss: 0.1431 - accuracy: 0.9520 - val_loss: 0.5041 - val_accuracy: 0.8922 - lr: 8.9125e-04\n",
      "Epoch 23/25\n",
      "1719/1719 [==============================] - 3s 1ms/step - loss: 0.1330 - accuracy: 0.9553 - val_loss: 0.5041 - val_accuracy: 0.8914 - lr: 7.9433e-04\n",
      "Epoch 24/25\n",
      "1719/1719 [==============================] - 3s 1ms/step - loss: 0.1259 - accuracy: 0.9583 - val_loss: 0.5345 - val_accuracy: 0.8864 - lr: 7.0795e-04\n",
      "Epoch 25/25\n",
      "1719/1719 [==============================] - 2s 1ms/step - loss: 0.1185 - accuracy: 0.9613 - val_loss: 0.5693 - val_accuracy: 0.8892 - lr: 6.3096e-04\n"
     ]
    }
   ],
   "source": [
    "lr_scheduler=keras.callbacks.LearningRateScheduler(exponential_decay_fn)\n",
    "history= model.fit(X_train_scaled, y_train, epochs=n_epochs,\n",
    "                   validation_data=(X_valid_scaled, y_valid),\n",
    "                   callbacks=[lr_scheduler])"
   ]
  },
  {
   "cell_type": "code",
   "execution_count": 78,
   "id": "1b07b95a-ff93-4cb9-9c81-a60eb3e791b4",
   "metadata": {},
   "outputs": [
    {
     "data": {
      "image/png": "[encoded data removed]",
      "text/plain": [
       "<Figure size 432x288 with 1 Axes>"
      ]
     },
     "metadata": {
      "needs_background": "light"
     },
     "output_type": "display_data"
    }
   ],
   "source": [
    "plt.plot(history.epoch,history.history['lr'],'o-')\n",
    "plt.axis([0, n_epochs -1, 0, 0.011])\n",
    "plt.xlabel('Epoch')\n",
    "plt.ylabel('Learning Rate')\n",
    "plt.title('Exponential Scheduling', fontsize=14)\n",
    "plt.grid(True)"
   ]
  },
  {
   "cell_type": "code",
   "execution_count": 79,
   "id": "8bee34c7-cec6-4b4a-921f-d4cf36d8699c",
   "metadata": {},
   "outputs": [],
   "source": [
    "def exponential_decay_fn(epoch, lr):\n",
    "    return lr*0.1**(1/20)"
   ]
  },
  {
   "cell_type": "code",
   "execution_count": 80,
   "id": "0d5501b8-1e41-4f22-a7c7-4468037a09d2",
   "metadata": {},
   "outputs": [
    {
     "name": "stdout",
     "output_type": "stream",
     "text": [
      "Epoch 1/25\n",
      "1719/1719 [==============================] - 3s 2ms/step - loss: 0.8047 - accuracy: 0.7669 - val_loss: 0.7556 - val_accuracy: 0.7318 - lr: 0.0089\n",
      "Epoch 2/25\n",
      "1719/1719 [==============================] - 3s 2ms/step - loss: 0.6529 - accuracy: 0.8020 - val_loss: 0.6254 - val_accuracy: 0.8270 - lr: 0.0079\n",
      "Epoch 3/25\n",
      "1719/1719 [==============================] - 3s 2ms/step - loss: 0.5650 - accuracy: 0.8241 - val_loss: 0.7338 - val_accuracy: 0.8034 - lr: 0.0071\n",
      "Epoch 4/25\n",
      "1719/1719 [==============================] - 3s 2ms/step - loss: 0.5329 - accuracy: 0.8390 - val_loss: 0.4811 - val_accuracy: 0.8548 - lr: 0.0063\n",
      "Epoch 5/25\n",
      "1719/1719 [==============================] - 3s 2ms/step - loss: 0.4630 - accuracy: 0.8531 - val_loss: 0.5461 - val_accuracy: 0.8476 - lr: 0.0056\n",
      "Epoch 6/25\n",
      "1719/1719 [==============================] - 3s 2ms/step - loss: 0.4078 - accuracy: 0.8682 - val_loss: 0.4611 - val_accuracy: 0.8652 - lr: 0.0050\n",
      "Epoch 7/25\n",
      "1719/1719 [==============================] - 3s 2ms/step - loss: 0.3968 - accuracy: 0.8728 - val_loss: 0.4929 - val_accuracy: 0.8688 - lr: 0.0045\n",
      "Epoch 8/25\n",
      "1719/1719 [==============================] - 3s 2ms/step - loss: 0.3613 - accuracy: 0.8811 - val_loss: 0.5069 - val_accuracy: 0.8540 - lr: 0.0040\n",
      "Epoch 9/25\n",
      "1719/1719 [==============================] - 3s 2ms/step - loss: 0.3332 - accuracy: 0.8889 - val_loss: 0.4537 - val_accuracy: 0.8652 - lr: 0.0035\n",
      "Epoch 10/25\n",
      "1719/1719 [==============================] - 3s 2ms/step - loss: 0.3105 - accuracy: 0.8971 - val_loss: 0.4165 - val_accuracy: 0.8828 - lr: 0.0032\n",
      "Epoch 11/25\n",
      "1719/1719 [==============================] - 3s 2ms/step - loss: 0.2864 - accuracy: 0.9037 - val_loss: 0.4175 - val_accuracy: 0.8776 - lr: 0.0028\n",
      "Epoch 12/25\n",
      "1719/1719 [==============================] - 3s 2ms/step - loss: 0.2698 - accuracy: 0.9083 - val_loss: 0.4383 - val_accuracy: 0.8762 - lr: 0.0025\n",
      "Epoch 13/25\n",
      "1719/1719 [==============================] - 3s 2ms/step - loss: 0.2496 - accuracy: 0.9138 - val_loss: 0.4209 - val_accuracy: 0.8856 - lr: 0.0022\n",
      "Epoch 14/25\n",
      "1719/1719 [==============================] - 3s 2ms/step - loss: 0.2274 - accuracy: 0.9221 - val_loss: 0.4474 - val_accuracy: 0.8844 - lr: 0.0020\n",
      "Epoch 15/25\n",
      "1719/1719 [==============================] - 3s 2ms/step - loss: 0.2164 - accuracy: 0.9258 - val_loss: 0.4530 - val_accuracy: 0.8766 - lr: 0.0018\n",
      "Epoch 16/25\n",
      "1719/1719 [==============================] - 3s 2ms/step - loss: 0.1960 - accuracy: 0.9328 - val_loss: 0.4489 - val_accuracy: 0.8828 - lr: 0.0016\n",
      "Epoch 17/25\n",
      "1719/1719 [==============================] - 3s 2ms/step - loss: 0.1835 - accuracy: 0.9370 - val_loss: 0.4916 - val_accuracy: 0.8808 - lr: 0.0014\n",
      "Epoch 18/25\n",
      "1719/1719 [==============================] - 3s 2ms/step - loss: 0.1700 - accuracy: 0.9422 - val_loss: 0.4860 - val_accuracy: 0.8812 - lr: 0.0013\n",
      "Epoch 19/25\n",
      "1719/1719 [==============================] - 3s 2ms/step - loss: 0.1579 - accuracy: 0.9474 - val_loss: 0.5122 - val_accuracy: 0.8880 - lr: 0.0011\n",
      "Epoch 20/25\n",
      "1719/1719 [==============================] - 3s 2ms/step - loss: 0.1461 - accuracy: 0.9504 - val_loss: 0.5026 - val_accuracy: 0.8874 - lr: 9.9967e-04\n",
      "Epoch 21/25\n",
      "1719/1719 [==============================] - 3s 2ms/step - loss: 0.1359 - accuracy: 0.9559 - val_loss: 0.5244 - val_accuracy: 0.8870 - lr: 8.9094e-04\n",
      "Epoch 22/25\n",
      "1719/1719 [==============================] - 3s 2ms/step - loss: 0.1266 - accuracy: 0.9588 - val_loss: 0.5720 - val_accuracy: 0.8894 - lr: 7.9404e-04\n",
      "Epoch 23/25\n",
      "1719/1719 [==============================] - 3s 2ms/step - loss: 0.1170 - accuracy: 0.9625 - val_loss: 0.5829 - val_accuracy: 0.8890 - lr: 7.0767e-04\n",
      "Epoch 24/25\n",
      "1719/1719 [==============================] - 3s 2ms/step - loss: 0.1095 - accuracy: 0.9652 - val_loss: 0.6155 - val_accuracy: 0.8872 - lr: 6.3071e-04\n",
      "Epoch 25/25\n",
      "1719/1719 [==============================] - 3s 2ms/step - loss: 0.1029 - accuracy: 0.9679 - val_loss: 0.6042 - val_accuracy: 0.8878 - lr: 5.6211e-04\n"
     ]
    }
   ],
   "source": [
    "K =keras.backend\n",
    "\n",
    "class ExponentialDecay(keras.callbacks.Callback):\n",
    "    def __init__(self, s=40000):\n",
    "        super().__init__()\n",
    "        self.s=s\n",
    "    \n",
    "    def on_batch_begin(self, batch, logs=None):\n",
    "        lr=K.get_value(self.model.optimizer.learning_rate)\n",
    "        K.set_value(self.model.optimizer.learning_rate, lr*0.1**(1/self.s))\n",
    "    \n",
    "    def on_epoch_end(self, epoch, logs=None):\n",
    "        logs=logs or {}\n",
    "        logs['lr'] = K.get_value(self.model.optimizer.learning_rate)\n",
    "        \n",
    "model=keras.models.Sequential([\n",
    "    keras.layers.Flatten(input_shape=[28,28]),\n",
    "    keras.layers.Dense(300, activation='selu', kernel_initializer='lecun_normal'),\n",
    "    keras.layers.Dense(100, activation='selu', kernel_initializer='lecun_normal'),\n",
    "    keras.layers.Dense(10, activation='softmax')\n",
    "])\n",
    "\n",
    "lr0=0.01\n",
    "optimizer=keras.optimizers.Nadam(learning_rate=lr0)\n",
    "model.compile(loss='sparse_categorical_crossentropy', optimizer = optimizer, metrics=['accuracy'])\n",
    "n_epochs=25\n",
    "\n",
    "s= 20*len(X_train)//32\n",
    "exp_decay=ExponentialDecay(s)\n",
    "history=model.fit(X_train_scaled, y_train, epochs=n_epochs,\n",
    "                 validation_data=(X_valid_scaled, y_valid), \n",
    "                 callbacks=[exp_decay])"
   ]
  },
  {
   "cell_type": "code",
   "execution_count": 81,
   "id": "e286d942-c3b0-4a8a-9e4c-bcbc8f4f092d",
   "metadata": {},
   "outputs": [],
   "source": [
    "n_steps=n_epochs*len(X_train)//32\n",
    "steps=np.arange(n_steps)\n",
    "lrs=lr0*0.1**(steps/s)"
   ]
  },
  {
   "cell_type": "code",
   "execution_count": 82,
   "id": "044dd065-a444-4396-a948-6bf042c1fd9a",
   "metadata": {},
   "outputs": [
    {
     "data": {
      "image/png": "[encoded data removed]",
      "text/plain": [
       "<Figure size 432x288 with 1 Axes>"
      ]
     },
     "metadata": {
      "needs_background": "light"
     },
     "output_type": "display_data"
    }
   ],
   "source": [
    "plt.plot(steps,lrs,'-',linewidth=2)\n",
    "plt.axis([0, n_steps -1, 0, lr0*1.1])\n",
    "plt.xlabel('Batch')\n",
    "plt.ylabel('Learning Rate')\n",
    "plt.title('Exponential Scheduling (per batch)', fontsize=14)\n",
    "plt.grid(True)"
   ]
  },
  {
   "cell_type": "markdown",
   "id": "8a3c94fa-a72b-406e-93a0-a3312601a9cf",
   "metadata": {},
   "source": [
    "## Piecewise Constant Scheduling"
   ]
  },
  {
   "cell_type": "code",
   "execution_count": 83,
   "id": "d0b95a24-b849-403e-9826-9b9241cf8ba6",
   "metadata": {},
   "outputs": [],
   "source": [
    "def piecewise_constant__fn(epoch):\n",
    "    if epoch < 5:\n",
    "        return 0.01\n",
    "    elif epoch < 15:\n",
    "        return 0.005\n",
    "    else:\n",
    "        return 0.001"
   ]
  },
  {
   "cell_type": "code",
   "execution_count": 84,
   "id": "b6640486-e174-4626-9f6d-193f1d06154c",
   "metadata": {},
   "outputs": [],
   "source": [
    "def piecewise_constant(boundaries,values):\n",
    "    boundaries= np.array([0] + boundaries)\n",
    "    values = np.array(values)\n",
    "    def piecewise_constant_fn(epoch):\n",
    "        return values[np.argmax(boundaries > epoch) -1]\n",
    "    return piecewise_constant_fn\n",
    "\n",
    "piecewise_constant_fn=piecewise_constant([5,15],[0.01, 0.005, 0.001])"
   ]
  },
  {
   "cell_type": "code",
   "execution_count": 85,
   "id": "95af1643-2963-48ff-ab5a-38d2e0c35f9d",
   "metadata": {},
   "outputs": [
    {
     "name": "stdout",
     "output_type": "stream",
     "text": [
      "Epoch 1/25\n",
      "1719/1719 [==============================] - 3s 2ms/step - loss: 0.8385 - accuracy: 0.7582 - val_loss: 1.2867 - val_accuracy: 0.6984 - lr: 0.0100\n",
      "Epoch 2/25\n",
      "1719/1719 [==============================] - 3s 1ms/step - loss: 0.7873 - accuracy: 0.7707 - val_loss: 0.6102 - val_accuracy: 0.8074 - lr: 0.0100\n",
      "Epoch 3/25\n",
      "1719/1719 [==============================] - 2s 1ms/step - loss: 0.8302 - accuracy: 0.7614 - val_loss: 1.4091 - val_accuracy: 0.6286 - lr: 0.0100\n",
      "Epoch 4/25\n",
      "1719/1719 [==============================] - 3s 1ms/step - loss: 0.8570 - accuracy: 0.7605 - val_loss: 0.7889 - val_accuracy: 0.8056 - lr: 0.0100\n",
      "Epoch 5/25\n",
      "1719/1719 [==============================] - 3s 2ms/step - loss: 0.8797 - accuracy: 0.7564 - val_loss: 1.0440 - val_accuracy: 0.7488 - lr: 0.0100\n",
      "Epoch 6/25\n",
      "1719/1719 [==============================] - 3s 1ms/step - loss: 0.5261 - accuracy: 0.8473 - val_loss: 0.9034 - val_accuracy: 0.8458 - lr: 0.0050\n",
      "Epoch 7/25\n",
      "1719/1719 [==============================] - 3s 1ms/step - loss: 0.5050 - accuracy: 0.8539 - val_loss: 0.5114 - val_accuracy: 0.8622 - lr: 0.0050\n",
      "Epoch 8/25\n",
      "1719/1719 [==============================] - 3s 2ms/step - loss: 0.4805 - accuracy: 0.8608 - val_loss: 0.6092 - val_accuracy: 0.8244 - lr: 0.0050\n",
      "Epoch 9/25\n",
      "1719/1719 [==============================] - 3s 2ms/step - loss: 0.4512 - accuracy: 0.8657 - val_loss: 0.6687 - val_accuracy: 0.8452 - lr: 0.0050\n",
      "Epoch 10/25\n",
      "1719/1719 [==============================] - 3s 2ms/step - loss: 0.4554 - accuracy: 0.8668 - val_loss: 0.5641 - val_accuracy: 0.8588 - lr: 0.0050\n",
      "Epoch 11/25\n",
      "1719/1719 [==============================] - 3s 1ms/step - loss: 0.4536 - accuracy: 0.8686 - val_loss: 0.5471 - val_accuracy: 0.8616 - lr: 0.0050\n",
      "Epoch 12/25\n",
      "1719/1719 [==============================] - 3s 1ms/step - loss: 0.4323 - accuracy: 0.8754 - val_loss: 0.5992 - val_accuracy: 0.8564 - lr: 0.0050\n",
      "Epoch 13/25\n",
      "1719/1719 [==============================] - 3s 1ms/step - loss: 0.4455 - accuracy: 0.8743 - val_loss: 0.5354 - val_accuracy: 0.8678 - lr: 0.0050\n",
      "Epoch 14/25\n",
      "1719/1719 [==============================] - 2s 1ms/step - loss: 0.4204 - accuracy: 0.8790 - val_loss: 0.5540 - val_accuracy: 0.8670 - lr: 0.0050\n",
      "Epoch 15/25\n",
      "1719/1719 [==============================] - 3s 2ms/step - loss: 0.4111 - accuracy: 0.8807 - val_loss: 0.7467 - val_accuracy: 0.8436 - lr: 0.0050\n",
      "Epoch 16/25\n",
      "1719/1719 [==============================] - 3s 2ms/step - loss: 0.2897 - accuracy: 0.9099 - val_loss: 0.4698 - val_accuracy: 0.8858 - lr: 0.0010\n",
      "Epoch 17/25\n",
      "1719/1719 [==============================] - 3s 2ms/step - loss: 0.2589 - accuracy: 0.9179 - val_loss: 0.5017 - val_accuracy: 0.8836 - lr: 0.0010\n",
      "Epoch 18/25\n",
      "1719/1719 [==============================] - 3s 2ms/step - loss: 0.2498 - accuracy: 0.9203 - val_loss: 0.4932 - val_accuracy: 0.8880 - lr: 0.0010\n",
      "Epoch 19/25\n",
      "1719/1719 [==============================] - 3s 2ms/step - loss: 0.2331 - accuracy: 0.9252 - val_loss: 0.5232 - val_accuracy: 0.8866 - lr: 0.0010\n",
      "Epoch 20/25\n",
      "1719/1719 [==============================] - 3s 1ms/step - loss: 0.2247 - accuracy: 0.9277 - val_loss: 0.5099 - val_accuracy: 0.8872 - lr: 0.0010\n",
      "Epoch 21/25\n",
      "1719/1719 [==============================] - 3s 1ms/step - loss: 0.2158 - accuracy: 0.9315 - val_loss: 0.5669 - val_accuracy: 0.8860 - lr: 0.0010\n",
      "Epoch 22/25\n",
      "1719/1719 [==============================] - 3s 1ms/step - loss: 0.2102 - accuracy: 0.9336 - val_loss: 0.5329 - val_accuracy: 0.8910 - lr: 0.0010\n",
      "Epoch 23/25\n",
      "1719/1719 [==============================] - 3s 1ms/step - loss: 0.2047 - accuracy: 0.9357 - val_loss: 0.5435 - val_accuracy: 0.8854 - lr: 0.0010\n",
      "Epoch 24/25\n",
      "1719/1719 [==============================] - 3s 2ms/step - loss: 0.1976 - accuracy: 0.9390 - val_loss: 0.5356 - val_accuracy: 0.8890 - lr: 0.0010\n",
      "Epoch 25/25\n",
      "1719/1719 [==============================] - 3s 1ms/step - loss: 0.1905 - accuracy: 0.9407 - val_loss: 0.5854 - val_accuracy: 0.8852 - lr: 0.0010\n"
     ]
    }
   ],
   "source": [
    "lr_scheduler=keras.callbacks.LearningRateScheduler(piecewise_constant_fn)\n",
    "\n",
    "model = keras.models.Sequential([\n",
    "    keras.layers.Flatten(input_shape=[28,28]),\n",
    "    keras.layers.Dense(300,activation='selu', kernel_initializer='lecun_normal'),\n",
    "    keras.layers.Dense(100,activation='selu', kernel_initializer='lecun_normal'),\n",
    "    keras.layers.Dense(10,activation='softmax')\n",
    "])\n",
    "\n",
    "model.compile(loss='sparse_categorical_crossentropy',\n",
    "             optimizer='nadam',\n",
    "             metrics=['accuracy'])\n",
    "n_epochs=25\n",
    "\n",
    "history= model.fit(X_train_scaled, y_train, epochs=n_epochs,\n",
    "                   validation_data=(X_valid_scaled, y_valid),\n",
    "                   callbacks=[lr_scheduler])"
   ]
  },
  {
   "cell_type": "code",
   "execution_count": 86,
   "id": "c8839498-faf1-41dc-9b04-e083c520516a",
   "metadata": {},
   "outputs": [
    {
     "data": {
      "image/png": "[encoded data removed]",
      "text/plain": [
       "<Figure size 432x288 with 1 Axes>"
      ]
     },
     "metadata": {
      "needs_background": "light"
     },
     "output_type": "display_data"
    }
   ],
   "source": [
    "plt.plot(history.epoch,[piecewise_constant_fn(epoch) for epoch in history.epoch],'o-')\n",
    "plt.axis([0, n_epochs -1, 0, 0.011])\n",
    "plt.xlabel('Epoch')\n",
    "plt.ylabel('Learning Rate')\n",
    "plt.title('Piecewise Scheduling', fontsize=14)\n",
    "plt.grid(True)"
   ]
  },
  {
   "cell_type": "markdown",
   "id": "64a1bce3-539c-4393-bc0a-ff413bb4aadb",
   "metadata": {},
   "source": [
    "## Performance Scheduling"
   ]
  },
  {
   "cell_type": "code",
   "execution_count": 87,
   "id": "5f0eeb11-7b61-44f9-988e-9dff5564a2be",
   "metadata": {},
   "outputs": [],
   "source": [
    "tf.random.set_seed(42)\n",
    "np.random.seed(42)"
   ]
  },
  {
   "cell_type": "code",
   "execution_count": 88,
   "id": "9de76c6b-ccef-4bc6-a1d1-30e97b4c9ea5",
   "metadata": {},
   "outputs": [
    {
     "name": "stdout",
     "output_type": "stream",
     "text": [
      "Epoch 1/25\n",
      "1719/1719 [==============================] - 2s 1ms/step - loss: 0.5904 - accuracy: 0.8072 - val_loss: 0.5027 - val_accuracy: 0.8476 - lr: 0.0200\n",
      "Epoch 2/25\n",
      "1719/1719 [==============================] - 2s 1ms/step - loss: 0.4989 - accuracy: 0.8396 - val_loss: 0.5883 - val_accuracy: 0.8380 - lr: 0.0200\n",
      "Epoch 3/25\n",
      "1719/1719 [==============================] - 2s 1ms/step - loss: 0.5173 - accuracy: 0.8398 - val_loss: 0.5380 - val_accuracy: 0.8550 - lr: 0.0200\n",
      "Epoch 4/25\n",
      "1719/1719 [==============================] - 2s 1ms/step - loss: 0.5085 - accuracy: 0.8468 - val_loss: 0.4357 - val_accuracy: 0.8622 - lr: 0.0200\n",
      "Epoch 5/25\n",
      "1719/1719 [==============================] - 2s 1ms/step - loss: 0.5091 - accuracy: 0.8501 - val_loss: 0.6331 - val_accuracy: 0.8314 - lr: 0.0200\n",
      "Epoch 6/25\n",
      "1719/1719 [==============================] - 2s 1ms/step - loss: 0.5119 - accuracy: 0.8516 - val_loss: 0.6458 - val_accuracy: 0.8396 - lr: 0.0200\n",
      "Epoch 7/25\n",
      "1719/1719 [==============================] - 2s 1ms/step - loss: 0.5396 - accuracy: 0.8505 - val_loss: 0.5559 - val_accuracy: 0.8384 - lr: 0.0200\n",
      "Epoch 8/25\n",
      "1719/1719 [==============================] - 2s 1ms/step - loss: 0.5259 - accuracy: 0.8537 - val_loss: 0.6173 - val_accuracy: 0.8302 - lr: 0.0200\n",
      "Epoch 9/25\n",
      "1719/1719 [==============================] - 2s 1ms/step - loss: 0.5183 - accuracy: 0.8594 - val_loss: 0.6354 - val_accuracy: 0.8354 - lr: 0.0200\n",
      "Epoch 10/25\n",
      "1719/1719 [==============================] - 2s 1ms/step - loss: 0.2926 - accuracy: 0.8994 - val_loss: 0.4082 - val_accuracy: 0.8812 - lr: 0.0100\n",
      "Epoch 11/25\n",
      "1719/1719 [==============================] - 2s 995us/step - loss: 0.2431 - accuracy: 0.9108 - val_loss: 0.4112 - val_accuracy: 0.8826 - lr: 0.0100\n",
      "Epoch 12/25\n",
      "1719/1719 [==============================] - 2s 1ms/step - loss: 0.2272 - accuracy: 0.9175 - val_loss: 0.4810 - val_accuracy: 0.8732 - lr: 0.0100\n",
      "Epoch 13/25\n",
      "1719/1719 [==============================] - 2s 1ms/step - loss: 0.2096 - accuracy: 0.9232 - val_loss: 0.4038 - val_accuracy: 0.8918 - lr: 0.0100\n",
      "Epoch 14/25\n",
      "1719/1719 [==============================] - 2s 1ms/step - loss: 0.1963 - accuracy: 0.9280 - val_loss: 0.4579 - val_accuracy: 0.8784 - lr: 0.0100\n",
      "Epoch 15/25\n",
      "1719/1719 [==============================] - 2s 1ms/step - loss: 0.1884 - accuracy: 0.9299 - val_loss: 0.4659 - val_accuracy: 0.8814 - lr: 0.0100\n",
      "Epoch 16/25\n",
      "1719/1719 [==============================] - 2s 1ms/step - loss: 0.1781 - accuracy: 0.9328 - val_loss: 0.4704 - val_accuracy: 0.8884 - lr: 0.0100\n",
      "Epoch 17/25\n",
      "1719/1719 [==============================] - 2s 1ms/step - loss: 0.1681 - accuracy: 0.9368 - val_loss: 0.4687 - val_accuracy: 0.8814 - lr: 0.0100\n",
      "Epoch 18/25\n",
      "1719/1719 [==============================] - 2s 1ms/step - loss: 0.1587 - accuracy: 0.9400 - val_loss: 0.5034 - val_accuracy: 0.8856 - lr: 0.0100\n",
      "Epoch 19/25\n",
      "1719/1719 [==============================] - 2s 1ms/step - loss: 0.1075 - accuracy: 0.9578 - val_loss: 0.4795 - val_accuracy: 0.8968 - lr: 0.0050\n",
      "Epoch 20/25\n",
      "1719/1719 [==============================] - 2s 1ms/step - loss: 0.0948 - accuracy: 0.9633 - val_loss: 0.4812 - val_accuracy: 0.8956 - lr: 0.0050\n",
      "Epoch 21/25\n",
      "1719/1719 [==============================] - 2s 1ms/step - loss: 0.0860 - accuracy: 0.9668 - val_loss: 0.4973 - val_accuracy: 0.8978 - lr: 0.0050\n",
      "Epoch 22/25\n",
      "1719/1719 [==============================] - 2s 1ms/step - loss: 0.0805 - accuracy: 0.9685 - val_loss: 0.5264 - val_accuracy: 0.8928 - lr: 0.0050\n",
      "Epoch 23/25\n",
      "1719/1719 [==============================] - 2s 1ms/step - loss: 0.0754 - accuracy: 0.9717 - val_loss: 0.5409 - val_accuracy: 0.8950 - lr: 0.0050\n",
      "Epoch 24/25\n",
      "1719/1719 [==============================] - 2s 1ms/step - loss: 0.0587 - accuracy: 0.9781 - val_loss: 0.5442 - val_accuracy: 0.8958 - lr: 0.0025\n",
      "Epoch 25/25\n",
      "1719/1719 [==============================] - 2s 1ms/step - loss: 0.0540 - accuracy: 0.9800 - val_loss: 0.5600 - val_accuracy: 0.8958 - lr: 0.0025\n"
     ]
    }
   ],
   "source": [
    "lr_scheduler=keras.callbacks.ReduceLROnPlateau(factor=0.5, patience=5)\n",
    "\n",
    "model = keras.models.Sequential([\n",
    "    keras.layers.Flatten(input_shape=[28,28]),\n",
    "    keras.layers.Dense(300,activation='selu', kernel_initializer='lecun_normal'),\n",
    "    keras.layers.Dense(100,activation='selu', kernel_initializer='lecun_normal'),\n",
    "    keras.layers.Dense(10,activation='softmax')\n",
    "])\n",
    "optimizer =keras.optimizers.SGD(learning_rate=0.02, momentum=0.9)\n",
    "model.compile(loss='sparse_categorical_crossentropy',\n",
    "             optimizer=optimizer,\n",
    "             metrics=['accuracy'])\n",
    "n_epochs=25\n",
    "\n",
    "history= model.fit(X_train_scaled, y_train, epochs=n_epochs,\n",
    "                   validation_data=(X_valid_scaled, y_valid),\n",
    "                   callbacks=[lr_scheduler])"
   ]
  },
  {
   "cell_type": "code",
   "execution_count": 89,
   "id": "c8229979-62ee-4f77-98ba-dbc8f6045a6a",
   "metadata": {},
   "outputs": [
    {
     "data": {
      "text/plain": [
       "Text(0.5, 1.0, 'Reduce LR on Plateau')"
      ]
     },
     "execution_count": 89,
     "metadata": {},
     "output_type": "execute_result"
    },
    {
     "data": {
      "image/png": "[encoded data removed]",
      "text/plain": [
       "<Figure size 432x288 with 2 Axes>"
      ]
     },
     "metadata": {
      "needs_background": "light"
     },
     "output_type": "display_data"
    }
   ],
   "source": [
    "plt.plot(history.epoch,history.history['lr'],'bo-')\n",
    "plt.xlabel('Epoch')\n",
    "plt.ylabel('Learning Rate', color ='b')\n",
    "plt.tick_params('y', colors='b')\n",
    "plt.gca().set_xlim(0,n_epochs-1)\n",
    "plt.grid(True)\n",
    "\n",
    "ax2= plt.gca().twinx()\n",
    "ax2.plot(history.epoch, history.history['val_loss'], 'r^-')\n",
    "ax2.set_ylabel('Validation Loss', color='r')\n",
    "ax2.tick_params('y', colors='r')\n",
    "\n",
    "plt.title('Reduce LR on Plateau', fontsize=14)"
   ]
  },
  {
   "cell_type": "markdown",
   "id": "7f735131-4f2c-4ec9-8f17-d03fafe56e7c",
   "metadata": {},
   "source": [
    "## tf.keras schedulers"
   ]
  },
  {
   "cell_type": "code",
   "execution_count": 90,
   "id": "484cfcc4-3224-4c87-aa24-e102febcc07c",
   "metadata": {},
   "outputs": [
    {
     "name": "stdout",
     "output_type": "stream",
     "text": [
      "Epoch 1/25\n",
      "1719/1719 [==============================] - 2s 1ms/step - loss: 0.4893 - accuracy: 0.8276 - val_loss: 0.4093 - val_accuracy: 0.8604\n",
      "Epoch 2/25\n",
      "1719/1719 [==============================] - 2s 1ms/step - loss: 0.3819 - accuracy: 0.8649 - val_loss: 0.3743 - val_accuracy: 0.8694\n",
      "Epoch 3/25\n",
      "1719/1719 [==============================] - 2s 1ms/step - loss: 0.3487 - accuracy: 0.8762 - val_loss: 0.3734 - val_accuracy: 0.8690\n",
      "Epoch 4/25\n",
      "1719/1719 [==============================] - 2s 993us/step - loss: 0.3264 - accuracy: 0.8838 - val_loss: 0.3499 - val_accuracy: 0.8798\n",
      "Epoch 5/25\n",
      "1719/1719 [==============================] - 2s 1ms/step - loss: 0.3105 - accuracy: 0.8896 - val_loss: 0.3435 - val_accuracy: 0.8800\n",
      "Epoch 6/25\n",
      "1719/1719 [==============================] - 2s 1ms/step - loss: 0.2960 - accuracy: 0.8952 - val_loss: 0.3415 - val_accuracy: 0.8822\n",
      "Epoch 7/25\n",
      "1719/1719 [==============================] - 2s 1ms/step - loss: 0.2855 - accuracy: 0.8987 - val_loss: 0.3358 - val_accuracy: 0.8808\n",
      "Epoch 8/25\n",
      "1719/1719 [==============================] - 2s 1ms/step - loss: 0.2762 - accuracy: 0.9018 - val_loss: 0.3368 - val_accuracy: 0.8810\n",
      "Epoch 9/25\n",
      "1719/1719 [==============================] - 2s 1ms/step - loss: 0.2679 - accuracy: 0.9054 - val_loss: 0.3267 - val_accuracy: 0.8844\n",
      "Epoch 10/25\n",
      "1719/1719 [==============================] - 2s 1ms/step - loss: 0.2609 - accuracy: 0.9067 - val_loss: 0.3243 - val_accuracy: 0.8854\n",
      "Epoch 11/25\n",
      "1719/1719 [==============================] - 2s 1ms/step - loss: 0.2553 - accuracy: 0.9089 - val_loss: 0.3253 - val_accuracy: 0.8854\n",
      "Epoch 12/25\n",
      "1719/1719 [==============================] - 2s 1ms/step - loss: 0.2498 - accuracy: 0.9126 - val_loss: 0.3303 - val_accuracy: 0.8810\n",
      "Epoch 13/25\n",
      "1719/1719 [==============================] - 2s 1ms/step - loss: 0.2451 - accuracy: 0.9137 - val_loss: 0.3223 - val_accuracy: 0.8864\n",
      "Epoch 14/25\n",
      "1719/1719 [==============================] - 2s 1ms/step - loss: 0.2417 - accuracy: 0.9151 - val_loss: 0.3226 - val_accuracy: 0.8854\n",
      "Epoch 15/25\n",
      "1719/1719 [==============================] - 2s 987us/step - loss: 0.2377 - accuracy: 0.9169 - val_loss: 0.3214 - val_accuracy: 0.8870\n",
      "Epoch 16/25\n",
      "1719/1719 [==============================] - 2s 1ms/step - loss: 0.2345 - accuracy: 0.9175 - val_loss: 0.3191 - val_accuracy: 0.8884\n",
      "Epoch 17/25\n",
      "1719/1719 [==============================] - 2s 1ms/step - loss: 0.2318 - accuracy: 0.9188 - val_loss: 0.3204 - val_accuracy: 0.8898\n",
      "Epoch 18/25\n",
      "1719/1719 [==============================] - 2s 1ms/step - loss: 0.2293 - accuracy: 0.9194 - val_loss: 0.3174 - val_accuracy: 0.8898\n",
      "Epoch 19/25\n",
      "1719/1719 [==============================] - 2s 1ms/step - loss: 0.2271 - accuracy: 0.9211 - val_loss: 0.3204 - val_accuracy: 0.8888\n",
      "Epoch 20/25\n",
      "1719/1719 [==============================] - 2s 1ms/step - loss: 0.2252 - accuracy: 0.9215 - val_loss: 0.3176 - val_accuracy: 0.8886\n",
      "Epoch 21/25\n",
      "1719/1719 [==============================] - 2s 1ms/step - loss: 0.2231 - accuracy: 0.9227 - val_loss: 0.3186 - val_accuracy: 0.8900\n",
      "Epoch 22/25\n",
      "1719/1719 [==============================] - 2s 1ms/step - loss: 0.2218 - accuracy: 0.9222 - val_loss: 0.3170 - val_accuracy: 0.8896\n",
      "Epoch 23/25\n",
      "1719/1719 [==============================] - 2s 1ms/step - loss: 0.2203 - accuracy: 0.9230 - val_loss: 0.3177 - val_accuracy: 0.8886\n",
      "Epoch 24/25\n",
      "1719/1719 [==============================] - 2s 1ms/step - loss: 0.2190 - accuracy: 0.9241 - val_loss: 0.3173 - val_accuracy: 0.8898\n",
      "Epoch 25/25\n",
      "1719/1719 [==============================] - 2s 1ms/step - loss: 0.2181 - accuracy: 0.9239 - val_loss: 0.3171 - val_accuracy: 0.8896\n"
     ]
    }
   ],
   "source": [
    "model = keras.models.Sequential([\n",
    "    keras.layers.Flatten(input_shape=[28,28]),\n",
    "    keras.layers.Dense(300,activation='selu', kernel_initializer='lecun_normal'),\n",
    "    keras.layers.Dense(100,activation='selu', kernel_initializer='lecun_normal'),\n",
    "    keras.layers.Dense(10,activation='softmax')\n",
    "])\n",
    "s=20*len(X_train)//32\n",
    "learning_rate=keras.optimizers.schedules.ExponentialDecay(0.01, s, 0.1)\n",
    "optimizer =keras.optimizers.SGD(learning_rate)\n",
    "model.compile(loss='sparse_categorical_crossentropy',\n",
    "             optimizer=optimizer,\n",
    "             metrics=['accuracy'])\n",
    "n_epochs=25\n",
    "\n",
    "history= model.fit(X_train_scaled, y_train, epochs=n_epochs,\n",
    "                   validation_data=(X_valid_scaled, y_valid))"
   ]
  },
  {
   "cell_type": "code",
   "execution_count": 91,
   "id": "11531762-7f50-45bf-9eae-68a85462cef7",
   "metadata": {},
   "outputs": [],
   "source": [
    "learning_rate=keras.optimizers.schedules.PiecewiseConstantDecay(\n",
    "    boundaries =[5.*n_steps_per_epoch, 15.*n_steps_per_epoch],\n",
    "    values=[0.01,0.005,0.001])"
   ]
  },
  {
   "cell_type": "markdown",
   "id": "a17acab0-0ae8-4d2e-a4d5-dbd13bb1b3e6",
   "metadata": {},
   "source": [
    "## 1Cycle scheduling"
   ]
  },
  {
   "cell_type": "code",
   "execution_count": 92,
   "id": "46eed0a5-7829-496b-9d01-78add6cd8aa9",
   "metadata": {},
   "outputs": [],
   "source": [
    "K = keras.backend\n",
    "\n",
    "class ExponentialLearningRate(keras.callbacks.Callback):\n",
    "    def __init__(self, factor):\n",
    "        self.factor=factor\n",
    "        self.rates=[]\n",
    "        self.losses =[]\n",
    "    def on_batch_end(self, batch, logs):\n",
    "        self.rates.append(K.get_value(self.model.optimizer.learning_rate))\n",
    "        self.losses.append(logs['loss'])\n",
    "        K.set_value(self.model.optimizer.learning_rate, self.model.optimizer.learning_rate * self.factor)\n",
    "        \n",
    "def find_learning_rate(model, X, y, epochs=1, batch_size=32, min_rate=10**-5, max_rate=10):\n",
    "    init_weights=model.get_weights()\n",
    "    iterations=math.ceil(len(X)/batch_size)*epochs\n",
    "    factor=np.exp(np.log(max_rate/min_rate)/iterations)\n",
    "    init_lr=K.get_value(model.optimizer.learning_rate)\n",
    "    K.set_value(model.optimizer.learning_rate,min_rate)\n",
    "    exp_lr=ExponentialLearningRate(factor)\n",
    "    history=model.fit(X,y,epochs=epochs, batch_size=batch_size,callbacks=[exp_lr])\n",
    "    K.set_value(model.optimizer.learning_rate, init_lr)\n",
    "    model.set_weights(init_weights)\n",
    "    return exp_lr.rates, exp_lr.losses\n",
    "\n",
    "def plot_lr_vs_loss(rates, losses):\n",
    "    plt.plot(rates, losses)\n",
    "    plt.gca().set_xscale('log')\n",
    "    plt.hlines(min(losses), min(rates), max(rates))\n",
    "    plt.axis([min(rates), max(rates), min(losses), (losses[0]+min(losses))/2])\n",
    "    plt.xlabel('Learning rate')\n",
    "    plt.ylabel('Loss')\n"
   ]
  },
  {
   "cell_type": "code",
   "execution_count": 93,
   "id": "4a31a6ab-acef-49b6-8300-e3f9afe0e735",
   "metadata": {},
   "outputs": [],
   "source": [
    "tf.random.set_seed(42)\n",
    "np.random.seed(42)\n",
    "\n",
    "model=keras.models.Sequential([\n",
    "    keras.layers.Flatten(input_shape=[28,28]),\n",
    "    keras.layers.Dense(300,activation='selu', kernel_initializer='lecun_normal'),\n",
    "    keras.layers.Dense(100,activation='selu', kernel_initializer='lecun_normal'),\n",
    "    keras.layers.Dense(10,activation='softmax')\n",
    "])\n",
    "model.compile(loss='sparse_categorical_crossentropy',\n",
    "             optimizer=keras.optimizers.SGD(learning_rate=1e-3),\n",
    "             metrics=['accuracy'])"
   ]
  },
  {
   "cell_type": "code",
   "execution_count": 94,
   "id": "6ee5fd78-73ff-4aed-973d-9f72bdcda1e0",
   "metadata": {},
   "outputs": [
    {
     "name": "stdout",
     "output_type": "stream",
     "text": [
      "430/430 [==============================] - 1s 1ms/step - loss: nan - accuracy: 0.3878\n"
     ]
    },
    {
     "data": {
      "image/png": "[encoded data removed]",
      "text/plain": [
       "<Figure size 432x288 with 1 Axes>"
      ]
     },
     "metadata": {
      "needs_background": "light"
     },
     "output_type": "display_data"
    }
   ],
   "source": [
    "batch_size=128\n",
    "rates, losses=find_learning_rate(model, X_train_scaled, y_train, epochs=1, batch_size=batch_size)\n",
    "plot_lr_vs_loss(rates, losses)"
   ]
  },
  {
   "cell_type": "code",
   "execution_count": 95,
   "id": "56956add-82f6-4864-9196-a6d878bcc08d",
   "metadata": {},
   "outputs": [],
   "source": [
    "class OneCycleScheduler(keras.callbacks.Callback):\n",
    "    def __init__(self, iterations,max_rate,start_rate=None,\n",
    "                last_iterations=None, last_rate=None):\n",
    "        self.iterations=iterations\n",
    "        self.max_rate=max_rate\n",
    "        self.start_rate=start_rate or max_rate/10\n",
    "        self.last_iterations=last_iterations or iterations//10 +1\n",
    "        self.half_iteration=(iterations -self.last_iterations)//2\n",
    "        self.last_rate=last_rate or self.start_rate/1000\n",
    "        self.iteration=0\n",
    "    def _interpolate(self, iter1, iter2, rate1, rate2):\n",
    "        return ((rate2 - rate1)*(self.iteration -iter1)/(iter2 -iter1)+rate1)\n",
    "    def on_batch_begin(self, batch,logs):\n",
    "        if self.iteration < self.half_iteration:\n",
    "            rate=self._interpolate(0,self.half_iteration, self.start_rate, self.max_rate)\n",
    "        elif self.iteration <2 * self.half_iteration:\n",
    "            rate = self._interpolate(self.half_iteration,2 *self.half_iteration, self.max_rate, self.start_rate)\n",
    "        else:\n",
    "            rate=self._interpolate(2*self.half_iteration, self.iterations, self.start_rate, self.last_rate)\n",
    "        self.iteration +=1\n",
    "        K.set_value(self.model.optimizer.learning_rate, rate)"
   ]
  },
  {
   "cell_type": "code",
   "execution_count": 96,
   "id": "709707d4-9674-4c39-b384-11cdf018ee33",
   "metadata": {},
   "outputs": [
    {
     "name": "stdout",
     "output_type": "stream",
     "text": [
      "Epoch 1/25\n",
      "430/430 [==============================] - 1s 2ms/step - loss: 0.6572 - accuracy: 0.7739 - val_loss: 0.4871 - val_accuracy: 0.8340\n",
      "Epoch 2/25\n",
      "430/430 [==============================] - 1s 1ms/step - loss: 0.4581 - accuracy: 0.8396 - val_loss: 0.4275 - val_accuracy: 0.8526\n",
      "Epoch 3/25\n",
      "430/430 [==============================] - 1s 1ms/step - loss: 0.4122 - accuracy: 0.8546 - val_loss: 0.4115 - val_accuracy: 0.8580\n",
      "Epoch 4/25\n",
      "430/430 [==============================] - 1s 1ms/step - loss: 0.3837 - accuracy: 0.8641 - val_loss: 0.3870 - val_accuracy: 0.8680\n",
      "Epoch 5/25\n",
      "430/430 [==============================] - 1s 1ms/step - loss: 0.3640 - accuracy: 0.8717 - val_loss: 0.3763 - val_accuracy: 0.8682\n",
      "Epoch 6/25\n",
      "430/430 [==============================] - 1s 1ms/step - loss: 0.3457 - accuracy: 0.8772 - val_loss: 0.3739 - val_accuracy: 0.8708\n",
      "Epoch 7/25\n",
      "430/430 [==============================] - 1s 1ms/step - loss: 0.3331 - accuracy: 0.8810 - val_loss: 0.3633 - val_accuracy: 0.8716\n",
      "Epoch 8/25\n",
      "430/430 [==============================] - 1s 1ms/step - loss: 0.3185 - accuracy: 0.8858 - val_loss: 0.3957 - val_accuracy: 0.8604\n",
      "Epoch 9/25\n",
      "430/430 [==============================] - 1s 1ms/step - loss: 0.3067 - accuracy: 0.8891 - val_loss: 0.3480 - val_accuracy: 0.8764\n",
      "Epoch 10/25\n",
      "430/430 [==============================] - 1s 1ms/step - loss: 0.2946 - accuracy: 0.8923 - val_loss: 0.3395 - val_accuracy: 0.8798\n",
      "Epoch 11/25\n",
      "430/430 [==============================] - 1s 1ms/step - loss: 0.2841 - accuracy: 0.8964 - val_loss: 0.3454 - val_accuracy: 0.8812\n",
      "Epoch 12/25\n",
      "430/430 [==============================] - 1s 1ms/step - loss: 0.2712 - accuracy: 0.9025 - val_loss: 0.3647 - val_accuracy: 0.8688\n",
      "Epoch 13/25\n",
      "430/430 [==============================] - 1s 1ms/step - loss: 0.2539 - accuracy: 0.9077 - val_loss: 0.3352 - val_accuracy: 0.8840\n",
      "Epoch 14/25\n",
      "430/430 [==============================] - 1s 1ms/step - loss: 0.2407 - accuracy: 0.9134 - val_loss: 0.3460 - val_accuracy: 0.8816\n",
      "Epoch 15/25\n",
      "430/430 [==============================] - 1s 1ms/step - loss: 0.2281 - accuracy: 0.9182 - val_loss: 0.3265 - val_accuracy: 0.8844\n",
      "Epoch 16/25\n",
      "430/430 [==============================] - 1s 1ms/step - loss: 0.2161 - accuracy: 0.9231 - val_loss: 0.3290 - val_accuracy: 0.8836\n",
      "Epoch 17/25\n",
      "430/430 [==============================] - 1s 1ms/step - loss: 0.2064 - accuracy: 0.9266 - val_loss: 0.3348 - val_accuracy: 0.8860\n",
      "Epoch 18/25\n",
      "430/430 [==============================] - 1s 1ms/step - loss: 0.1980 - accuracy: 0.9299 - val_loss: 0.3236 - val_accuracy: 0.8896\n",
      "Epoch 19/25\n",
      "430/430 [==============================] - 1s 1ms/step - loss: 0.1893 - accuracy: 0.9336 - val_loss: 0.3234 - val_accuracy: 0.8898\n",
      "Epoch 20/25\n",
      "430/430 [==============================] - 1s 1ms/step - loss: 0.1822 - accuracy: 0.9365 - val_loss: 0.3221 - val_accuracy: 0.8932\n",
      "Epoch 21/25\n",
      "430/430 [==============================] - 1s 1ms/step - loss: 0.1753 - accuracy: 0.9404 - val_loss: 0.3216 - val_accuracy: 0.8912\n",
      "Epoch 22/25\n",
      "430/430 [==============================] - 1s 1ms/step - loss: 0.1701 - accuracy: 0.9421 - val_loss: 0.3178 - val_accuracy: 0.8962\n",
      "Epoch 23/25\n",
      "430/430 [==============================] - 1s 1ms/step - loss: 0.1655 - accuracy: 0.9437 - val_loss: 0.3181 - val_accuracy: 0.8950\n",
      "Epoch 24/25\n",
      "430/430 [==============================] - 1s 1ms/step - loss: 0.1626 - accuracy: 0.9456 - val_loss: 0.3173 - val_accuracy: 0.8940\n",
      "Epoch 25/25\n",
      "430/430 [==============================] - 1s 1ms/step - loss: 0.1609 - accuracy: 0.9462 - val_loss: 0.3166 - val_accuracy: 0.8944\n"
     ]
    }
   ],
   "source": [
    "n_epochs=25\n",
    "onecycle=OneCycleScheduler(math.ceil(len(X_train)/batch_size)*n_epochs, max_rate=0.05)\n",
    "history= model.fit(X_train_scaled, y_train, epochs =n_epochs, batch_size=batch_size,\n",
    "                  validation_data =(X_valid_scaled, y_valid),\n",
    "                  callbacks=[onecycle])"
   ]
  },
  {
   "cell_type": "markdown",
   "id": "d13c9d16-a84d-4ba7-ae7c-c30092386d83",
   "metadata": {},
   "source": [
    "# Avoiding Overfitting Through Regualrization\n",
    "\n",
    "## $\\ell_1$ and $\\ell_2$ regularization"
   ]
  },
  {
   "cell_type": "code",
   "execution_count": 97,
   "id": "c2612259-5fac-42d8-89bd-360b54c2d0e4",
   "metadata": {},
   "outputs": [],
   "source": [
    "layer=keras.layers.Dense(100,activation='elu',\n",
    "                         kernel_initializer='he_normal',\n",
    "                         kernel_regularizer=keras.regularizers.l2(0.01))"
   ]
  },
  {
   "cell_type": "code",
   "execution_count": 98,
   "id": "41443365-4b3c-414c-a33c-41af249e23e1",
   "metadata": {},
   "outputs": [
    {
     "name": "stdout",
     "output_type": "stream",
     "text": [
      "Epoch 1/2\n",
      "1719/1719 [==============================] - 3s 2ms/step - loss: 1.5956 - accuracy: 0.8124 - val_loss: 0.7169 - val_accuracy: 0.8340\n",
      "Epoch 2/2\n",
      "1719/1719 [==============================] - 3s 2ms/step - loss: 0.7197 - accuracy: 0.8274 - val_loss: 0.6850 - val_accuracy: 0.8376\n"
     ]
    }
   ],
   "source": [
    "model=keras.models.Sequential([\n",
    "    keras.layers.Flatten(input_shape=[28,28]),\n",
    "    keras.layers.Dense(300,activation='elu', kernel_initializer='he_normal',kernel_regularizer=keras.regularizers.l2(0.01)),\n",
    "    keras.layers.Dense(100,activation='elu', kernel_initializer='he_normal',kernel_regularizer=keras.regularizers.l2(0.01)),\n",
    "    keras.layers.Dense(10,activation='softmax',kernel_regularizer=keras.regularizers.l2(0.01))\n",
    "])\n",
    "model.compile(loss='sparse_categorical_crossentropy',\n",
    "             optimizer='nadam',\n",
    "             metrics=['accuracy'])\n",
    "n_epochs =2\n",
    "history=model.fit(X_train_scaled, y_train, epochs=n_epochs,validation_data=(X_valid_scaled, y_valid))"
   ]
  },
  {
   "cell_type": "code",
   "execution_count": 99,
   "id": "798e9d87-e083-4662-b27c-558508c7f399",
   "metadata": {},
   "outputs": [
    {
     "name": "stdout",
     "output_type": "stream",
     "text": [
      "Epoch 1/2\n",
      "1719/1719 [==============================] - 3s 2ms/step - loss: 1.6313 - accuracy: 0.8113 - val_loss: 0.7218 - val_accuracy: 0.8310\n",
      "Epoch 2/2\n",
      "1719/1719 [==============================] - 3s 2ms/step - loss: 0.7187 - accuracy: 0.8273 - val_loss: 0.6826 - val_accuracy: 0.8380\n"
     ]
    }
   ],
   "source": [
    "from functools import partial\n",
    "\n",
    "RegularizedDense=partial(keras.layers.Dense, activation='elu',\n",
    "                        kernel_initializer='he_normal',\n",
    "                        kernel_regularizer=keras.regularizers.l2(0.01))\n",
    "\n",
    "model=keras.models.Sequential([\n",
    "    keras.layers.Flatten(input_shape=[28,28]),\n",
    "    RegularizedDense(300),\n",
    "    RegularizedDense(100),\n",
    "    RegularizedDense(10,activation='softmax')\n",
    "])\n",
    "model.compile(loss='sparse_categorical_crossentropy',\n",
    "             optimizer='nadam',\n",
    "             metrics=['accuracy'])\n",
    "n_epochs =2\n",
    "history=model.fit(X_train_scaled, y_train, epochs=n_epochs,validation_data=(X_valid_scaled, y_valid))"
   ]
  },
  {
   "cell_type": "markdown",
   "id": "0ddf44c0-d6f7-48b6-b190-080670478487",
   "metadata": {},
   "source": [
    "## Dropout"
   ]
  },
  {
   "cell_type": "code",
   "execution_count": 100,
   "id": "30116cce-c948-46ec-8bc9-20f2e546e06a",
   "metadata": {},
   "outputs": [
    {
     "name": "stdout",
     "output_type": "stream",
     "text": [
      "Epoch 1/2\n",
      "1719/1719 [==============================] - 3s 2ms/step - loss: 0.5838 - accuracy: 0.7997 - val_loss: 0.3713 - val_accuracy: 0.8636\n",
      "Epoch 2/2\n",
      "1719/1719 [==============================] - 3s 2ms/step - loss: 0.4212 - accuracy: 0.8447 - val_loss: 0.3400 - val_accuracy: 0.8728\n"
     ]
    }
   ],
   "source": [
    "model=keras.models.Sequential([\n",
    "    keras.layers.Flatten(input_shape=[28,28]),\n",
    "    keras.layers.Dropout(rate=0.2),\n",
    "    keras.layers.Dense(300,activation='elu', kernel_initializer='he_normal'),\n",
    "    keras.layers.Dropout(rate=0.2),\n",
    "    keras.layers.Dense(100,activation='elu', kernel_initializer='he_normal'),\n",
    "    keras.layers.Dropout(rate=0.2),\n",
    "    keras.layers.Dense(10,activation='softmax')\n",
    "])\n",
    "model.compile(loss='sparse_categorical_crossentropy',\n",
    "             optimizer='nadam',\n",
    "             metrics=['accuracy'])\n",
    "n_epochs =2\n",
    "history=model.fit(X_train_scaled, y_train, epochs=n_epochs,validation_data=(X_valid_scaled, y_valid))"
   ]
  },
  {
   "cell_type": "markdown",
   "id": "f8f647b7-e28f-4a48-a52e-4ee3f722b7f8",
   "metadata": {},
   "source": [
    "## Alpha Dropout"
   ]
  },
  {
   "cell_type": "code",
   "execution_count": 102,
   "id": "bdffdbb9-f21f-450f-85ca-031ae47f08ad",
   "metadata": {},
   "outputs": [],
   "source": [
    "tf.random.set_seed(42)\n",
    "np.random.seed(42)"
   ]
  },
  {
   "cell_type": "code",
   "execution_count": 103,
   "id": "a3fac62d-a497-436f-a627-16b394158d45",
   "metadata": {},
   "outputs": [
    {
     "name": "stdout",
     "output_type": "stream",
     "text": [
      "Epoch 1/20\n",
      "1719/1719 [==============================] - 2s 1ms/step - loss: 0.6616 - accuracy: 0.7604 - val_loss: 0.5752 - val_accuracy: 0.8408\n",
      "Epoch 2/20\n",
      "1719/1719 [==============================] - 2s 1ms/step - loss: 0.5544 - accuracy: 0.7964 - val_loss: 0.5396 - val_accuracy: 0.8460\n",
      "Epoch 3/20\n",
      "1719/1719 [==============================] - 2s 1ms/step - loss: 0.5259 - accuracy: 0.8064 - val_loss: 0.5003 - val_accuracy: 0.8568\n",
      "Epoch 4/20\n",
      "1719/1719 [==============================] - 2s 1ms/step - loss: 0.5050 - accuracy: 0.8126 - val_loss: 0.4778 - val_accuracy: 0.8602\n",
      "Epoch 5/20\n",
      "1719/1719 [==============================] - 2s 1ms/step - loss: 0.4922 - accuracy: 0.8175 - val_loss: 0.4661 - val_accuracy: 0.8596\n",
      "Epoch 6/20\n",
      "1719/1719 [==============================] - 2s 1ms/step - loss: 0.4832 - accuracy: 0.8207 - val_loss: 0.4938 - val_accuracy: 0.8566\n",
      "Epoch 7/20\n",
      "1719/1719 [==============================] - 2s 1ms/step - loss: 0.4713 - accuracy: 0.8248 - val_loss: 0.5101 - val_accuracy: 0.8516\n",
      "Epoch 8/20\n",
      "1719/1719 [==============================] - 2s 1ms/step - loss: 0.4638 - accuracy: 0.8284 - val_loss: 0.4592 - val_accuracy: 0.8614\n",
      "Epoch 9/20\n",
      "1719/1719 [==============================] - 2s 1ms/step - loss: 0.4608 - accuracy: 0.8293 - val_loss: 0.4302 - val_accuracy: 0.8722\n",
      "Epoch 10/20\n",
      "1719/1719 [==============================] - 2s 1ms/step - loss: 0.4520 - accuracy: 0.8317 - val_loss: 0.4530 - val_accuracy: 0.8600\n",
      "Epoch 11/20\n",
      "1719/1719 [==============================] - 2s 1ms/step - loss: 0.4478 - accuracy: 0.8351 - val_loss: 0.3947 - val_accuracy: 0.8736\n",
      "Epoch 12/20\n",
      "1719/1719 [==============================] - 2s 1ms/step - loss: 0.4438 - accuracy: 0.8351 - val_loss: 0.5385 - val_accuracy: 0.8554\n",
      "Epoch 13/20\n",
      "1719/1719 [==============================] - 2s 1ms/step - loss: 0.4422 - accuracy: 0.8360 - val_loss: 0.4315 - val_accuracy: 0.8748\n",
      "Epoch 14/20\n",
      "1719/1719 [==============================] - 2s 1ms/step - loss: 0.4378 - accuracy: 0.8382 - val_loss: 0.4522 - val_accuracy: 0.8666\n",
      "Epoch 15/20\n",
      "1719/1719 [==============================] - 2s 1ms/step - loss: 0.4323 - accuracy: 0.8387 - val_loss: 0.4675 - val_accuracy: 0.8652\n",
      "Epoch 16/20\n",
      "1719/1719 [==============================] - 2s 1ms/step - loss: 0.4291 - accuracy: 0.8408 - val_loss: 0.4400 - val_accuracy: 0.8746\n",
      "Epoch 17/20\n",
      "1719/1719 [==============================] - 2s 1ms/step - loss: 0.4295 - accuracy: 0.8408 - val_loss: 0.5087 - val_accuracy: 0.8626\n",
      "Epoch 18/20\n",
      "1719/1719 [==============================] - 2s 1ms/step - loss: 0.4273 - accuracy: 0.8398 - val_loss: 0.4742 - val_accuracy: 0.8756\n",
      "Epoch 19/20\n",
      "1719/1719 [==============================] - 2s 1ms/step - loss: 0.4247 - accuracy: 0.8435 - val_loss: 0.4942 - val_accuracy: 0.8728\n",
      "Epoch 20/20\n",
      "1719/1719 [==============================] - 2s 1ms/step - loss: 0.4180 - accuracy: 0.8431 - val_loss: 0.4181 - val_accuracy: 0.8754\n"
     ]
    }
   ],
   "source": [
    "model=keras.models.Sequential([\n",
    "    keras.layers.Flatten(input_shape=[28,28]),\n",
    "    keras.layers.AlphaDropout(rate=0.2),\n",
    "    keras.layers.Dense(300,activation='selu', kernel_initializer='lecun_normal'),\n",
    "    keras.layers.AlphaDropout(rate=0.2),\n",
    "    keras.layers.Dense(100,activation='selu', kernel_initializer='lecun_normal'),\n",
    "    keras.layers.AlphaDropout(rate=0.2),\n",
    "    keras.layers.Dense(10,activation='softmax')\n",
    "])\n",
    "optimizer=keras.optimizers.SGD(learning_rate=0.01, momentum=0.9,nesterov=True)\n",
    "model.compile(loss='sparse_categorical_crossentropy',\n",
    "             optimizer=optimizer,\n",
    "             metrics=['accuracy'])\n",
    "n_epochs =20\n",
    "history=model.fit(X_train_scaled, y_train, epochs=n_epochs,validation_data=(X_valid_scaled, y_valid))"
   ]
  },
  {
   "cell_type": "code",
   "execution_count": 104,
   "id": "124487b0-e58d-4449-a127-c7b3dbdf0a0f",
   "metadata": {},
   "outputs": [
    {
     "name": "stdout",
     "output_type": "stream",
     "text": [
      "313/313 [==============================] - 0s 809us/step - loss: 0.4645 - accuracy: 0.8622\n"
     ]
    },
    {
     "data": {
      "text/plain": [
       "[0.46448007225990295, 0.8622000217437744]"
      ]
     },
     "execution_count": 104,
     "metadata": {},
     "output_type": "execute_result"
    }
   ],
   "source": [
    "model.evaluate(X_test_scaled, y_test)"
   ]
  },
  {
   "cell_type": "code",
   "execution_count": 105,
   "id": "f9658d5c-1bef-4d33-8189-686e1f577c6f",
   "metadata": {},
   "outputs": [
    {
     "name": "stdout",
     "output_type": "stream",
     "text": [
      "1719/1719 [==============================] - 1s 807us/step - loss: 0.3396 - accuracy: 0.8845\n"
     ]
    },
    {
     "data": {
      "text/plain": [
       "[0.3396214544773102, 0.8845090866088867]"
      ]
     },
     "execution_count": 105,
     "metadata": {},
     "output_type": "execute_result"
    }
   ],
   "source": [
    "model.evaluate(X_train_scaled, y_train)"
   ]
  },
  {
   "cell_type": "code",
   "execution_count": 106,
   "id": "bc9c680d-5a35-45eb-b80a-c1c22a2713ea",
   "metadata": {},
   "outputs": [
    {
     "name": "stdout",
     "output_type": "stream",
     "text": [
      "1719/1719 [==============================] - 2s 1ms/step - loss: 0.4185 - accuracy: 0.8448\n"
     ]
    }
   ],
   "source": [
    "history=model.fit(X_train_scaled, y_train)"
   ]
  },
  {
   "cell_type": "markdown",
   "id": "c95f6132-c638-47c2-9790-5dcc6b3405b2",
   "metadata": {},
   "source": [
    "## MC Dropout"
   ]
  },
  {
   "cell_type": "code",
   "execution_count": 107,
   "id": "1ed4c23e-49ae-4a80-89b2-f7da0e5b1491",
   "metadata": {},
   "outputs": [],
   "source": [
    "tf.random.set_seed(42)\n",
    "np.random.seed(42)"
   ]
  },
  {
   "cell_type": "code",
   "execution_count": 108,
   "id": "ec1875cb-48cc-472e-a9ff-d545fa84c268",
   "metadata": {},
   "outputs": [],
   "source": [
    "y_probas = np.stack([model(X_test_scaled, training=True) for sample in range(100)])\n",
    "y_proba=y_probas.mean(axis=0)\n",
    "y_std=y_probas.std(axis=0)"
   ]
  },
  {
   "cell_type": "code",
   "execution_count": 109,
   "id": "a8b2d8cc-870a-4006-8259-a5ea6c048c5a",
   "metadata": {},
   "outputs": [
    {
     "name": "stdout",
     "output_type": "stream",
     "text": [
      "1/1 [==============================] - 0s 60ms/step\n"
     ]
    },
    {
     "data": {
      "text/plain": [
       "array([[0.  , 0.  , 0.  , 0.  , 0.  , 0.  , 0.  , 0.04, 0.  , 0.96]],\n",
       "      dtype=float32)"
      ]
     },
     "execution_count": 109,
     "metadata": {},
     "output_type": "execute_result"
    }
   ],
   "source": [
    "np.round(model.predict(X_test_scaled[:1]),2)"
   ]
  },
  {
   "cell_type": "code",
   "execution_count": 110,
   "id": "a036f395-bf88-462e-bd8c-1cf81f3e3e49",
   "metadata": {},
   "outputs": [
    {
     "data": {
      "text/plain": [
       "array([[[0.  , 0.  , 0.  , 0.  , 0.  , 0.49, 0.  , 0.14, 0.  , 0.38]],\n",
       "\n",
       "       [[0.  , 0.  , 0.  , 0.  , 0.  , 0.04, 0.  , 0.17, 0.  , 0.8 ]],\n",
       "\n",
       "       [[0.  , 0.  , 0.  , 0.  , 0.  , 0.06, 0.  , 0.32, 0.  , 0.63]],\n",
       "\n",
       "       [[0.  , 0.  , 0.  , 0.  , 0.  , 0.09, 0.  , 0.34, 0.  , 0.57]],\n",
       "\n",
       "       [[0.  , 0.  , 0.  , 0.  , 0.  , 0.08, 0.  , 0.33, 0.  , 0.59]],\n",
       "\n",
       "       [[0.  , 0.  , 0.  , 0.  , 0.  , 0.22, 0.  , 0.55, 0.  , 0.23]],\n",
       "\n",
       "       [[0.  , 0.  , 0.  , 0.  , 0.  , 0.  , 0.  , 0.01, 0.  , 0.99]],\n",
       "\n",
       "       [[0.  , 0.  , 0.  , 0.  , 0.  , 0.76, 0.  , 0.14, 0.  , 0.1 ]],\n",
       "\n",
       "       [[0.  , 0.  , 0.  , 0.  , 0.  , 0.01, 0.  , 0.28, 0.  , 0.72]],\n",
       "\n",
       "       [[0.  , 0.  , 0.  , 0.  , 0.  , 0.01, 0.  , 0.14, 0.  , 0.84]],\n",
       "\n",
       "       [[0.  , 0.  , 0.  , 0.  , 0.  , 0.04, 0.  , 0.07, 0.  , 0.89]],\n",
       "\n",
       "       [[0.  , 0.  , 0.  , 0.  , 0.  , 0.32, 0.  , 0.09, 0.  , 0.59]],\n",
       "\n",
       "       [[0.  , 0.  , 0.  , 0.  , 0.  , 0.18, 0.  , 0.  , 0.  , 0.81]],\n",
       "\n",
       "       [[0.  , 0.  , 0.  , 0.  , 0.  , 0.08, 0.  , 0.23, 0.  , 0.68]],\n",
       "\n",
       "       [[0.  , 0.  , 0.  , 0.  , 0.  , 0.35, 0.  , 0.37, 0.  , 0.28]],\n",
       "\n",
       "       [[0.  , 0.  , 0.  , 0.  , 0.  , 0.13, 0.  , 0.78, 0.  , 0.1 ]],\n",
       "\n",
       "       [[0.  , 0.  , 0.  , 0.  , 0.  , 0.73, 0.  , 0.  , 0.  , 0.27]],\n",
       "\n",
       "       [[0.  , 0.  , 0.  , 0.  , 0.  , 0.01, 0.  , 0.21, 0.  , 0.78]],\n",
       "\n",
       "       [[0.  , 0.  , 0.  , 0.  , 0.  , 0.56, 0.  , 0.17, 0.  , 0.27]],\n",
       "\n",
       "       [[0.  , 0.  , 0.  , 0.  , 0.  , 0.38, 0.  , 0.51, 0.  , 0.11]],\n",
       "\n",
       "       [[0.  , 0.  , 0.  , 0.  , 0.  , 0.35, 0.  , 0.56, 0.  , 0.09]],\n",
       "\n",
       "       [[0.  , 0.  , 0.  , 0.  , 0.  , 0.29, 0.  , 0.45, 0.  , 0.26]],\n",
       "\n",
       "       [[0.  , 0.  , 0.  , 0.  , 0.  , 0.01, 0.  , 0.08, 0.  , 0.91]],\n",
       "\n",
       "       [[0.  , 0.  , 0.  , 0.  , 0.  , 0.03, 0.  , 0.12, 0.  , 0.84]],\n",
       "\n",
       "       [[0.  , 0.  , 0.  , 0.  , 0.  , 0.  , 0.  , 0.05, 0.  , 0.94]],\n",
       "\n",
       "       [[0.  , 0.  , 0.  , 0.  , 0.  , 0.03, 0.  , 0.46, 0.  , 0.52]],\n",
       "\n",
       "       [[0.  , 0.  , 0.  , 0.  , 0.  , 0.4 , 0.  , 0.28, 0.  , 0.33]],\n",
       "\n",
       "       [[0.  , 0.  , 0.  , 0.  , 0.  , 0.04, 0.  , 0.33, 0.  , 0.63]],\n",
       "\n",
       "       [[0.  , 0.  , 0.  , 0.  , 0.  , 0.  , 0.  , 0.86, 0.  , 0.14]],\n",
       "\n",
       "       [[0.  , 0.  , 0.  , 0.  , 0.  , 0.18, 0.  , 0.13, 0.  , 0.69]],\n",
       "\n",
       "       [[0.  , 0.  , 0.  , 0.  , 0.  , 0.01, 0.  , 0.63, 0.  , 0.36]],\n",
       "\n",
       "       [[0.  , 0.  , 0.  , 0.  , 0.  , 0.09, 0.  , 0.21, 0.  , 0.7 ]],\n",
       "\n",
       "       [[0.  , 0.  , 0.  , 0.  , 0.  , 0.04, 0.  , 0.16, 0.  , 0.81]],\n",
       "\n",
       "       [[0.  , 0.  , 0.  , 0.  , 0.  , 0.01, 0.  , 0.07, 0.  , 0.92]],\n",
       "\n",
       "       [[0.  , 0.  , 0.  , 0.  , 0.  , 0.03, 0.  , 0.61, 0.  , 0.36]],\n",
       "\n",
       "       [[0.  , 0.  , 0.  , 0.  , 0.  , 0.05, 0.  , 0.36, 0.  , 0.59]],\n",
       "\n",
       "       [[0.  , 0.  , 0.  , 0.  , 0.  , 0.01, 0.  , 0.72, 0.  , 0.27]],\n",
       "\n",
       "       [[0.  , 0.  , 0.  , 0.  , 0.  , 0.12, 0.  , 0.28, 0.  , 0.6 ]],\n",
       "\n",
       "       [[0.  , 0.  , 0.  , 0.  , 0.  , 0.07, 0.  , 0.01, 0.  , 0.92]],\n",
       "\n",
       "       [[0.  , 0.  , 0.  , 0.  , 0.  , 0.  , 0.  , 0.12, 0.  , 0.87]],\n",
       "\n",
       "       [[0.  , 0.  , 0.  , 0.  , 0.  , 0.12, 0.  , 0.39, 0.  , 0.49]],\n",
       "\n",
       "       [[0.  , 0.  , 0.  , 0.  , 0.  , 0.52, 0.  , 0.1 , 0.  , 0.38]],\n",
       "\n",
       "       [[0.  , 0.  , 0.  , 0.  , 0.  , 0.02, 0.  , 0.33, 0.  , 0.65]],\n",
       "\n",
       "       [[0.  , 0.  , 0.  , 0.  , 0.  , 0.  , 0.  , 0.02, 0.  , 0.98]],\n",
       "\n",
       "       [[0.  , 0.  , 0.  , 0.  , 0.  , 0.02, 0.  , 0.38, 0.  , 0.6 ]],\n",
       "\n",
       "       [[0.  , 0.  , 0.  , 0.  , 0.  , 0.14, 0.  , 0.64, 0.  , 0.22]],\n",
       "\n",
       "       [[0.  , 0.  , 0.  , 0.  , 0.  , 0.11, 0.  , 0.08, 0.  , 0.82]],\n",
       "\n",
       "       [[0.  , 0.  , 0.  , 0.  , 0.  , 0.02, 0.  , 0.77, 0.  , 0.21]],\n",
       "\n",
       "       [[0.  , 0.  , 0.  , 0.  , 0.  , 0.03, 0.  , 0.88, 0.  , 0.09]],\n",
       "\n",
       "       [[0.  , 0.  , 0.  , 0.  , 0.  , 0.04, 0.  , 0.01, 0.  , 0.95]],\n",
       "\n",
       "       [[0.  , 0.  , 0.  , 0.  , 0.  , 0.34, 0.  , 0.42, 0.  , 0.24]],\n",
       "\n",
       "       [[0.  , 0.  , 0.  , 0.  , 0.  , 0.04, 0.  , 0.24, 0.  , 0.72]],\n",
       "\n",
       "       [[0.  , 0.  , 0.  , 0.  , 0.  , 0.  , 0.  , 0.51, 0.  , 0.49]],\n",
       "\n",
       "       [[0.  , 0.  , 0.  , 0.  , 0.  , 0.01, 0.  , 0.22, 0.  , 0.77]],\n",
       "\n",
       "       [[0.  , 0.  , 0.  , 0.  , 0.  , 0.13, 0.  , 0.47, 0.  , 0.4 ]],\n",
       "\n",
       "       [[0.  , 0.  , 0.  , 0.  , 0.  , 0.01, 0.  , 0.06, 0.  , 0.94]],\n",
       "\n",
       "       [[0.  , 0.  , 0.  , 0.  , 0.  , 0.  , 0.  , 0.  , 0.  , 1.  ]],\n",
       "\n",
       "       [[0.  , 0.  , 0.  , 0.  , 0.  , 0.04, 0.  , 0.02, 0.  , 0.94]],\n",
       "\n",
       "       [[0.  , 0.  , 0.  , 0.  , 0.  , 0.01, 0.  , 0.97, 0.  , 0.02]],\n",
       "\n",
       "       [[0.  , 0.  , 0.  , 0.  , 0.  , 0.08, 0.  , 0.38, 0.  , 0.54]],\n",
       "\n",
       "       [[0.  , 0.  , 0.  , 0.  , 0.  , 0.  , 0.  , 0.34, 0.  , 0.66]],\n",
       "\n",
       "       [[0.  , 0.  , 0.  , 0.  , 0.  , 0.01, 0.  , 0.2 , 0.  , 0.79]],\n",
       "\n",
       "       [[0.  , 0.  , 0.  , 0.  , 0.  , 0.03, 0.  , 0.73, 0.  , 0.24]],\n",
       "\n",
       "       [[0.  , 0.  , 0.  , 0.  , 0.  , 0.21, 0.  , 0.15, 0.  , 0.64]],\n",
       "\n",
       "       [[0.  , 0.  , 0.  , 0.  , 0.  , 0.61, 0.  , 0.04, 0.  , 0.35]],\n",
       "\n",
       "       [[0.  , 0.  , 0.  , 0.  , 0.  , 0.03, 0.  , 0.29, 0.  , 0.69]],\n",
       "\n",
       "       [[0.  , 0.  , 0.  , 0.  , 0.  , 0.01, 0.  , 0.42, 0.  , 0.57]],\n",
       "\n",
       "       [[0.  , 0.  , 0.  , 0.  , 0.  , 0.17, 0.  , 0.66, 0.  , 0.17]],\n",
       "\n",
       "       [[0.  , 0.  , 0.  , 0.  , 0.  , 0.16, 0.  , 0.17, 0.  , 0.67]],\n",
       "\n",
       "       [[0.  , 0.  , 0.  , 0.  , 0.  , 0.02, 0.  , 0.15, 0.  , 0.83]],\n",
       "\n",
       "       [[0.  , 0.  , 0.  , 0.  , 0.  , 0.26, 0.  , 0.2 , 0.  , 0.54]],\n",
       "\n",
       "       [[0.  , 0.  , 0.  , 0.  , 0.  , 0.02, 0.  , 0.  , 0.  , 0.98]],\n",
       "\n",
       "       [[0.  , 0.  , 0.  , 0.  , 0.  , 0.02, 0.  , 0.06, 0.  , 0.92]],\n",
       "\n",
       "       [[0.  , 0.  , 0.  , 0.  , 0.  , 0.95, 0.  , 0.  , 0.  , 0.05]],\n",
       "\n",
       "       [[0.  , 0.  , 0.  , 0.  , 0.  , 0.  , 0.  , 0.05, 0.  , 0.95]],\n",
       "\n",
       "       [[0.  , 0.  , 0.  , 0.  , 0.  , 0.06, 0.  , 0.07, 0.  , 0.88]],\n",
       "\n",
       "       [[0.  , 0.  , 0.  , 0.  , 0.  , 0.04, 0.  , 0.24, 0.  , 0.72]],\n",
       "\n",
       "       [[0.  , 0.  , 0.  , 0.  , 0.  , 0.13, 0.  , 0.21, 0.  , 0.66]],\n",
       "\n",
       "       [[0.  , 0.  , 0.  , 0.  , 0.  , 0.08, 0.  , 0.66, 0.  , 0.25]],\n",
       "\n",
       "       [[0.  , 0.  , 0.  , 0.  , 0.  , 0.05, 0.  , 0.57, 0.  , 0.38]],\n",
       "\n",
       "       [[0.  , 0.  , 0.  , 0.  , 0.  , 0.13, 0.  , 0.32, 0.  , 0.55]],\n",
       "\n",
       "       [[0.  , 0.  , 0.  , 0.  , 0.  , 0.  , 0.  , 0.6 , 0.  , 0.4 ]],\n",
       "\n",
       "       [[0.  , 0.  , 0.  , 0.  , 0.  , 0.01, 0.  , 0.01, 0.  , 0.98]],\n",
       "\n",
       "       [[0.  , 0.  , 0.  , 0.  , 0.  , 0.04, 0.  , 0.13, 0.  , 0.83]],\n",
       "\n",
       "       [[0.  , 0.  , 0.  , 0.  , 0.  , 0.01, 0.  , 0.03, 0.  , 0.96]],\n",
       "\n",
       "       [[0.  , 0.  , 0.  , 0.  , 0.  , 0.75, 0.  , 0.09, 0.09, 0.07]],\n",
       "\n",
       "       [[0.  , 0.  , 0.  , 0.  , 0.  , 0.04, 0.  , 0.46, 0.  , 0.5 ]],\n",
       "\n",
       "       [[0.  , 0.  , 0.  , 0.  , 0.  , 0.73, 0.  , 0.01, 0.  , 0.26]],\n",
       "\n",
       "       [[0.  , 0.  , 0.  , 0.  , 0.  , 0.  , 0.  , 0.  , 0.  , 1.  ]],\n",
       "\n",
       "       [[0.  , 0.  , 0.  , 0.  , 0.  , 0.02, 0.  , 0.08, 0.  , 0.91]],\n",
       "\n",
       "       [[0.  , 0.  , 0.  , 0.  , 0.  , 0.  , 0.  , 0.09, 0.  , 0.91]],\n",
       "\n",
       "       [[0.  , 0.  , 0.  , 0.  , 0.  , 0.03, 0.  , 0.06, 0.  , 0.91]],\n",
       "\n",
       "       [[0.  , 0.  , 0.  , 0.  , 0.  , 0.11, 0.  , 0.47, 0.01, 0.41]],\n",
       "\n",
       "       [[0.  , 0.  , 0.  , 0.  , 0.  , 0.12, 0.  , 0.08, 0.  , 0.8 ]],\n",
       "\n",
       "       [[0.  , 0.  , 0.  , 0.  , 0.  , 0.37, 0.  , 0.34, 0.  , 0.29]],\n",
       "\n",
       "       [[0.  , 0.  , 0.  , 0.  , 0.  , 0.1 , 0.  , 0.66, 0.  , 0.25]],\n",
       "\n",
       "       [[0.  , 0.  , 0.  , 0.  , 0.  , 0.27, 0.  , 0.38, 0.  , 0.35]],\n",
       "\n",
       "       [[0.  , 0.  , 0.  , 0.  , 0.  , 0.3 , 0.  , 0.58, 0.  , 0.12]],\n",
       "\n",
       "       [[0.  , 0.  , 0.  , 0.  , 0.  , 0.  , 0.  , 0.  , 0.  , 1.  ]],\n",
       "\n",
       "       [[0.  , 0.  , 0.  , 0.  , 0.  , 0.  , 0.  , 0.49, 0.  , 0.51]]],\n",
       "      dtype=float32)"
      ]
     },
     "execution_count": 110,
     "metadata": {},
     "output_type": "execute_result"
    }
   ],
   "source": [
    "np.round(y_probas[:,:1],2)"
   ]
  },
  {
   "cell_type": "code",
   "execution_count": 111,
   "id": "61c22e0a-e959-4e2e-ae8d-c7ad102cff7d",
   "metadata": {},
   "outputs": [
    {
     "data": {
      "text/plain": [
       "array([[0.  , 0.  , 0.  , 0.  , 0.  , 0.14, 0.  , 0.28, 0.  , 0.58]],\n",
       "      dtype=float32)"
      ]
     },
     "execution_count": 111,
     "metadata": {},
     "output_type": "execute_result"
    }
   ],
   "source": [
    "np.round(y_proba[:1],2)"
   ]
  },
  {
   "cell_type": "code",
   "execution_count": 112,
   "id": "9aef6203-8160-423c-9d65-7de856f88158",
   "metadata": {},
   "outputs": [
    {
     "data": {
      "text/plain": [
       "array([[0.  , 0.  , 0.  , 0.  , 0.  , 0.2 , 0.  , 0.24, 0.01, 0.29]],\n",
       "      dtype=float32)"
      ]
     },
     "execution_count": 112,
     "metadata": {},
     "output_type": "execute_result"
    }
   ],
   "source": [
    "y_std=y_probas.std(axis=0)\n",
    "np.round(y_std[:1],2)"
   ]
  },
  {
   "cell_type": "code",
   "execution_count": 113,
   "id": "7d4f9ba1-c093-4774-9b55-bc4341bffc6a",
   "metadata": {},
   "outputs": [],
   "source": [
    "y_pred=np.argmax(y_proba, axis=1)"
   ]
  },
  {
   "cell_type": "code",
   "execution_count": 114,
   "id": "35fc471e-9c81-46b6-927b-ea37c48c1a44",
   "metadata": {},
   "outputs": [
    {
     "data": {
      "text/plain": [
       "0.8711"
      ]
     },
     "execution_count": 114,
     "metadata": {},
     "output_type": "execute_result"
    }
   ],
   "source": [
    "accuracy=np.sum(y_pred==y_test)/len(y_test)\n",
    "accuracy"
   ]
  },
  {
   "cell_type": "code",
   "execution_count": 115,
   "id": "24b32bee-8e57-4181-beb7-55d108d16832",
   "metadata": {},
   "outputs": [],
   "source": [
    "class MCDropout(keras.layers.Dropout):\n",
    "    def call(self, inputs):\n",
    "        return super().call(inputs, training=True)\n",
    "    \n",
    "class MCAlphaDropout(keras.layers.AlphaDropout):\n",
    "    def call(self, inputs):\n",
    "        return super().call(inputs, training=True)\n"
   ]
  },
  {
   "cell_type": "code",
   "execution_count": 116,
   "id": "0c5c782d-625b-4368-953b-09ac48c82b97",
   "metadata": {},
   "outputs": [],
   "source": [
    "tf.random.set_seed(42)\n",
    "np.random.seed(42)"
   ]
  },
  {
   "cell_type": "code",
   "execution_count": 117,
   "id": "118eaf68-2f82-4ed8-9a71-e1efcef66e2b",
   "metadata": {},
   "outputs": [],
   "source": [
    "mc_model=keras.models.Sequential([\n",
    "    MCAlphaDropout(layer.rate) if isinstance(layer, keras.layers.AlphaDropout) else layer\n",
    "    for layer in model.layers\n",
    "])"
   ]
  },
  {
   "cell_type": "code",
   "execution_count": 118,
   "id": "38a8bd0b-e2cb-43e6-943b-830847efbca7",
   "metadata": {},
   "outputs": [
    {
     "name": "stdout",
     "output_type": "stream",
     "text": [
      "Model: \"sequential_21\"\n",
      "_________________________________________________________________\n",
      " Layer (type)                Output Shape              Param #   \n",
      "=================================================================\n",
      " flatten_18 (Flatten)        (None, 784)               0         \n",
      "                                                                 \n",
      " mc_alpha_dropout (MCAlphaDr  (None, 784)              0         \n",
      " opout)                                                          \n",
      "                                                                 \n",
      " dense_263 (Dense)           (None, 300)               235500    \n",
      "                                                                 \n",
      " mc_alpha_dropout_1 (MCAlpha  (None, 300)              0         \n",
      " Dropout)                                                        \n",
      "                                                                 \n",
      " dense_264 (Dense)           (None, 100)               30100     \n",
      "                                                                 \n",
      " mc_alpha_dropout_2 (MCAlpha  (None, 100)              0         \n",
      " Dropout)                                                        \n",
      "                                                                 \n",
      " dense_265 (Dense)           (None, 10)                1010      \n",
      "                                                                 \n",
      "=================================================================\n",
      "Total params: 266,610\n",
      "Trainable params: 266,610\n",
      "Non-trainable params: 0\n",
      "_________________________________________________________________\n"
     ]
    }
   ],
   "source": [
    "mc_model.summary()"
   ]
  },
  {
   "cell_type": "code",
   "execution_count": 119,
   "id": "bb4e8618-d420-4238-aa58-9ced5d6d7b07",
   "metadata": {},
   "outputs": [],
   "source": [
    "optimizer=keras.optimizers.SGD(learning_rate=0.01, momentum=0.9,nesterov=True)\n",
    "mc_model.compile(loss='sparse_categorical_crossentropy',\n",
    "             optimizer=optimizer,\n",
    "             metrics=['accuracy'])"
   ]
  },
  {
   "cell_type": "code",
   "execution_count": 120,
   "id": "eb61de91-e32f-4715-ba3a-f5c205157783",
   "metadata": {},
   "outputs": [],
   "source": [
    "mc_model.set_weights(model.get_weights())"
   ]
  },
  {
   "cell_type": "code",
   "execution_count": 121,
   "id": "e2fae684-6e30-4440-9006-a780cf4f155b",
   "metadata": {},
   "outputs": [
    {
     "name": "stdout",
     "output_type": "stream",
     "text": [
      "1/1 [==============================] - 0s 62ms/step\n",
      "1/1 [==============================] - 0s 11ms/step\n",
      "1/1 [==============================] - 0s 10ms/step\n",
      "1/1 [==============================] - 0s 10ms/step\n",
      "1/1 [==============================] - 0s 11ms/step\n",
      "1/1 [==============================] - 0s 10ms/step\n",
      "1/1 [==============================] - 0s 10ms/step\n",
      "1/1 [==============================] - 0s 11ms/step\n",
      "1/1 [==============================] - 0s 10ms/step\n",
      "1/1 [==============================] - 0s 11ms/step\n",
      "1/1 [==============================] - 0s 10ms/step\n",
      "1/1 [==============================] - 0s 11ms/step\n",
      "1/1 [==============================] - 0s 10ms/step\n",
      "1/1 [==============================] - 0s 11ms/step\n",
      "1/1 [==============================] - 0s 10ms/step\n",
      "1/1 [==============================] - 0s 11ms/step\n",
      "1/1 [==============================] - 0s 10ms/step\n",
      "1/1 [==============================] - 0s 11ms/step\n",
      "1/1 [==============================] - 0s 10ms/step\n",
      "1/1 [==============================] - 0s 11ms/step\n",
      "1/1 [==============================] - 0s 11ms/step\n",
      "1/1 [==============================] - 0s 11ms/step\n",
      "1/1 [==============================] - 0s 10ms/step\n",
      "1/1 [==============================] - 0s 11ms/step\n",
      "1/1 [==============================] - 0s 10ms/step\n",
      "1/1 [==============================] - 0s 11ms/step\n",
      "1/1 [==============================] - 0s 10ms/step\n",
      "1/1 [==============================] - 0s 11ms/step\n",
      "1/1 [==============================] - 0s 11ms/step\n",
      "1/1 [==============================] - 0s 11ms/step\n",
      "1/1 [==============================] - 0s 10ms/step\n",
      "1/1 [==============================] - 0s 11ms/step\n",
      "1/1 [==============================] - 0s 10ms/step\n",
      "1/1 [==============================] - 0s 11ms/step\n",
      "1/1 [==============================] - 0s 10ms/step\n",
      "1/1 [==============================] - 0s 10ms/step\n",
      "1/1 [==============================] - 0s 11ms/step\n",
      "1/1 [==============================] - 0s 10ms/step\n",
      "1/1 [==============================] - 0s 11ms/step\n",
      "1/1 [==============================] - 0s 10ms/step\n",
      "1/1 [==============================] - 0s 10ms/step\n",
      "1/1 [==============================] - 0s 11ms/step\n",
      "1/1 [==============================] - 0s 11ms/step\n",
      "1/1 [==============================] - 0s 10ms/step\n",
      "1/1 [==============================] - 0s 10ms/step\n",
      "1/1 [==============================] - 0s 10ms/step\n",
      "1/1 [==============================] - 0s 11ms/step\n",
      "1/1 [==============================] - 0s 10ms/step\n",
      "1/1 [==============================] - 0s 11ms/step\n",
      "1/1 [==============================] - 0s 10ms/step\n",
      "1/1 [==============================] - 0s 11ms/step\n",
      "1/1 [==============================] - 0s 10ms/step\n",
      "1/1 [==============================] - 0s 11ms/step\n",
      "1/1 [==============================] - 0s 11ms/step\n",
      "1/1 [==============================] - 0s 10ms/step\n",
      "1/1 [==============================] - 0s 10ms/step\n",
      "1/1 [==============================] - 0s 10ms/step\n",
      "1/1 [==============================] - 0s 10ms/step\n",
      "1/1 [==============================] - 0s 10ms/step\n",
      "1/1 [==============================] - 0s 10ms/step\n",
      "1/1 [==============================] - 0s 11ms/step\n",
      "1/1 [==============================] - 0s 10ms/step\n",
      "1/1 [==============================] - 0s 10ms/step\n",
      "1/1 [==============================] - 0s 10ms/step\n",
      "1/1 [==============================] - 0s 10ms/step\n",
      "1/1 [==============================] - 0s 10ms/step\n",
      "1/1 [==============================] - 0s 10ms/step\n",
      "1/1 [==============================] - 0s 10ms/step\n",
      "1/1 [==============================] - 0s 11ms/step\n",
      "1/1 [==============================] - 0s 11ms/step\n",
      "1/1 [==============================] - 0s 10ms/step\n",
      "1/1 [==============================] - 0s 10ms/step\n",
      "1/1 [==============================] - 0s 10ms/step\n",
      "1/1 [==============================] - 0s 11ms/step\n",
      "1/1 [==============================] - 0s 10ms/step\n",
      "1/1 [==============================] - 0s 10ms/step\n",
      "1/1 [==============================] - 0s 10ms/step\n",
      "1/1 [==============================] - 0s 10ms/step\n",
      "1/1 [==============================] - 0s 11ms/step\n",
      "1/1 [==============================] - 0s 10ms/step\n",
      "1/1 [==============================] - 0s 11ms/step\n",
      "1/1 [==============================] - 0s 10ms/step\n",
      "1/1 [==============================] - 0s 10ms/step\n",
      "1/1 [==============================] - 0s 10ms/step\n",
      "1/1 [==============================] - 0s 10ms/step\n",
      "1/1 [==============================] - 0s 10ms/step\n",
      "1/1 [==============================] - 0s 10ms/step\n",
      "1/1 [==============================] - 0s 10ms/step\n",
      "1/1 [==============================] - 0s 11ms/step\n",
      "1/1 [==============================] - 0s 11ms/step\n",
      "1/1 [==============================] - 0s 11ms/step\n",
      "1/1 [==============================] - 0s 10ms/step\n",
      "1/1 [==============================] - 0s 10ms/step\n",
      "1/1 [==============================] - 0s 10ms/step\n",
      "1/1 [==============================] - 0s 10ms/step\n",
      "1/1 [==============================] - 0s 10ms/step\n",
      "1/1 [==============================] - 0s 10ms/step\n",
      "1/1 [==============================] - 0s 10ms/step\n",
      "1/1 [==============================] - 0s 11ms/step\n",
      "1/1 [==============================] - 0s 10ms/step\n"
     ]
    },
    {
     "data": {
      "text/plain": [
       "array([[0.  , 0.  , 0.  , 0.  , 0.  , 0.12, 0.  , 0.28, 0.  , 0.6 ]],\n",
       "      dtype=float32)"
      ]
     },
     "execution_count": 121,
     "metadata": {},
     "output_type": "execute_result"
    }
   ],
   "source": [
    "np.round(np.mean([mc_model.predict(X_test_scaled[:1]) for sample in range(100)], axis=0),2)"
   ]
  },
  {
   "cell_type": "markdown",
   "id": "9f1de0a6-2a80-4bdf-bd8c-e41b6d760ce2",
   "metadata": {},
   "source": [
    "## Max norm"
   ]
  },
  {
   "cell_type": "code",
   "execution_count": 122,
   "id": "3cd02818-9025-4a5b-899a-76dbace8506a",
   "metadata": {},
   "outputs": [],
   "source": [
    "layer = keras.layers.Dense(100, activation='selu', kernel_initializer='lecun_normal',\n",
    "                          kernel_constraint=keras.constraints.max_norm(1.))"
   ]
  },
  {
   "cell_type": "code",
   "execution_count": 124,
   "id": "e87aeef5-dfd2-47ca-9e0f-bfc7afb513be",
   "metadata": {},
   "outputs": [
    {
     "name": "stdout",
     "output_type": "stream",
     "text": [
      "Epoch 1/2\n",
      "1719/1719 [==============================] - 3s 2ms/step - loss: 0.4744 - accuracy: 0.8330 - val_loss: 0.3853 - val_accuracy: 0.8544\n",
      "Epoch 2/2\n",
      "1719/1719 [==============================] - 3s 2ms/step - loss: 0.3551 - accuracy: 0.8707 - val_loss: 0.3686 - val_accuracy: 0.8680\n"
     ]
    }
   ],
   "source": [
    "MaxNormDense=partial(keras.layers.Dense,\n",
    "                   activation='selu', kernel_initializer='lecun_normal',\n",
    "                   kernel_constraint=keras.constraints.max_norm(1.))\n",
    "\n",
    "model=keras.models.Sequential([\n",
    "    keras.layers.Flatten(input_shape=[28,28]),\n",
    "    MaxNormDense(300),\n",
    "    MaxNormDense(100),\n",
    "    keras.layers.Dense(10,activation='softmax')\n",
    "])\n",
    "model.compile(loss='sparse_categorical_crossentropy',\n",
    "             optimizer='nadam',\n",
    "             metrics=['accuracy'])\n",
    "n_epochs =2\n",
    "history=model.fit(X_train_scaled, y_train, epochs=n_epochs,validation_data=(X_valid_scaled, y_valid))"
   ]
  },
  {
   "cell_type": "code",
   "execution_count": null,
   "id": "b17bd458-8a1f-4d9a-aa7f-96be6f64f183",
   "metadata": {},
   "outputs": [],
   "source": []
  }
 ],
 "metadata": {
  "kernelspec": {
   "display_name": "ml_tf",
   "language": "python",
   "name": "ml_tf"
  },
  "language_info": {
   "codemirror_mode": {
    "name": "ipython",
    "version": 3
   },
   "file_extension": ".py",
   "mimetype": "text/x-python",
   "name": "python",
   "nbconvert_exporter": "python",
   "pygments_lexer": "ipython3",
   "version": "3.10.5"
  }
 },
 "nbformat": 4,
 "nbformat_minor": 5
}
