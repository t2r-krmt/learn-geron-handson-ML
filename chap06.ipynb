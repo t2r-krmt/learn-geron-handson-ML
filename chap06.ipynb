{
 "cells": [
  {
   "cell_type": "markdown",
   "id": "ea1ca397-0d9a-4664-aed4-d9ad8154b8f4",
   "metadata": {},
   "source": [
    "# Training and Visualizing a Decision Tree"
   ]
  },
  {
   "cell_type": "markdown",
   "id": "5667b046-2b1c-4a81-a4ba-564aa1688779",
   "metadata": {},
   "source": [
    "[iris dataset](https://scikit-learn.org/stable/datasets/toy_dataset.html#iris-dataset)\n",
    "\n",
    "Attributes:\n",
    "- sepal length in cm (がく片)\n",
    "- sepal width in cm\n",
    "- petal length in cm (花びら)\n",
    "- petal width in cm\n",
    "\n",
    "class:\n",
    "- Iris-Setosa\n",
    "- Iris-Versicolour\n",
    "- Iris-Virginica"
   ]
  },
  {
   "cell_type": "code",
   "execution_count": 1,
   "id": "5e79b623-aaa2-4f59-8a52-bb6177107c59",
   "metadata": {},
   "outputs": [],
   "source": [
    "from sklearn.datasets import load_iris\n",
    "from sklearn.tree import DecisionTreeClassifier\n",
    "\n",
    "iris=load_iris()\n",
    "X=iris.data[:, 2:] # petal length, widthのみ使用\n",
    "y=iris.target\n"
   ]
  },
  {
   "cell_type": "code",
   "execution_count": 2,
   "id": "ef570b76-ae64-43d0-af05-d910d7ea5aca",
   "metadata": {},
   "outputs": [
    {
     "data": {
      "text/plain": [
       "DecisionTreeClassifier(max_depth=2)"
      ]
     },
     "execution_count": 2,
     "metadata": {},
     "output_type": "execute_result"
    }
   ],
   "source": [
    "tree_clf=DecisionTreeClassifier(max_depth=2)\n",
    "tree_clf.fit(X,y)"
   ]
  },
  {
   "cell_type": "code",
   "execution_count": 3,
   "id": "382b5ad3-2ffe-44cb-9c28-7366aa624298",
   "metadata": {},
   "outputs": [],
   "source": [
    "import os\n",
    "from sklearn.tree import export_graphviz\n",
    "\n",
    "image_path='.'\n",
    "export_graphviz(\n",
    "    tree_clf,\n",
    "    out_file=os.path.join(image_path, 'iris_tree.dot'),\n",
    "    feature_names=iris.feature_names[2:],\n",
    "    class_names=iris.target_names,\n",
    "    rounded=True,\n",
    "    filled=True\n",
    ")\n"
   ]
  },
  {
   "cell_type": "code",
   "execution_count": 1,
   "id": "b14f08c2-733b-4f4a-8a7e-2e8e3eccadee",
   "metadata": {},
   "outputs": [
    {
     "ename": "ModuleNotFoundError",
     "evalue": "No module named 'graphviz'",
     "output_type": "error",
     "traceback": [
      "\u001b[1;31m---------------------------------------------------------------------------\u001b[0m",
      "\u001b[1;31mModuleNotFoundError\u001b[0m                       Traceback (most recent call last)",
      "Input \u001b[1;32mIn [1]\u001b[0m, in \u001b[0;36m<cell line: 1>\u001b[1;34m()\u001b[0m\n\u001b[1;32m----> 1\u001b[0m \u001b[38;5;28;01mfrom\u001b[39;00m \u001b[38;5;21;01mgraphviz\u001b[39;00m \u001b[38;5;28;01mimport\u001b[39;00m Source\n\u001b[0;32m      3\u001b[0m Source\u001b[38;5;241m.\u001b[39mfrom_file(os\u001b[38;5;241m.\u001b[39mpath\u001b[38;5;241m.\u001b[39mjoin(image_path, \u001b[38;5;124m'\u001b[39m\u001b[38;5;124miris_tree.dot\u001b[39m\u001b[38;5;124m'\u001b[39m))\n",
      "\u001b[1;31mModuleNotFoundError\u001b[0m: No module named 'graphviz'"
     ]
    }
   ],
   "source": [
    "from graphviz import Source\n",
    "\n",
    "Source.from_file(os.path.join(image_path, 'iris_tree.dot'))"
   ]
  },
  {
   "cell_type": "markdown",
   "id": "ca664ddf-d4d3-43d7-bfd8-ba7a37f6f70b",
   "metadata": {},
   "source": [
    "# Making Predictions\n",
    "\n",
    "ジニ不純度\n",
    "\n",
    "$$\n",
    "G_i=1-\\sum_{k=1}^np_{i,k}^2\n",
    "$$"
   ]
  },
  {
   "cell_type": "markdown",
   "id": "a2f13bb5-72a9-4ed6-bbde-3c4949e3ac96",
   "metadata": {},
   "source": [
    "# Estimating Class Probabilities"
   ]
  },
  {
   "cell_type": "code",
   "execution_count": 14,
   "id": "65a47737-ae8c-458f-a8d7-e4bbe5a51808",
   "metadata": {},
   "outputs": [
    {
     "data": {
      "text/plain": [
       "array([[0.        , 0.90740741, 0.09259259]])"
      ]
     },
     "execution_count": 14,
     "metadata": {},
     "output_type": "execute_result"
    }
   ],
   "source": [
    "tree_clf.predict_proba([[5,1.5]])"
   ]
  },
  {
   "cell_type": "code",
   "execution_count": 15,
   "id": "155fb57b-fb9c-462a-b3ab-33045975d576",
   "metadata": {},
   "outputs": [
    {
     "data": {
      "text/plain": [
       "array([1])"
      ]
     },
     "execution_count": 15,
     "metadata": {},
     "output_type": "execute_result"
    }
   ],
   "source": [
    "tree_clf.predict([[5,1.5]])"
   ]
  },
  {
   "cell_type": "markdown",
   "id": "b25cc082-bf9d-4754-ae0e-c97adb782e91",
   "metadata": {
    "jp-MarkdownHeadingCollapsed": true,
    "tags": []
   },
   "source": [
    "# The CART Training Algorithm\n",
    "\n",
    "Classification and Regression Tree\n",
    "\n",
    "$$\n",
    "J(k,t_k)=\\frac{m_{left}}{m}G_{left}+\\frac{m_{right}}{m}G_{right}\n",
    "$$\n",
    "\n",
    "$G_{left , right}$:不純度\n",
    "\n",
    "$m_{left , right}$:インスタンス数"
   ]
  },
  {
   "cell_type": "markdown",
   "id": "2970cbb2-30c0-460a-a822-103e38047fdc",
   "metadata": {},
   "source": [
    "# Regression"
   ]
  },
  {
   "cell_type": "markdown",
   "id": "03deed9d-27e1-4049-b7c4-1bb8ba1ac365",
   "metadata": {
    "tags": []
   },
   "source": [
    "cost function for regression\n",
    "\n",
    "$$\n",
    "J(k,t_k)=\\frac{m_{left}}{m}MSE_{left}+\\frac{m_{right}}{m}MSE_{right}\n",
    "$$\n"
   ]
  },
  {
   "cell_type": "code",
   "execution_count": null,
   "id": "fc9d9124-31d9-488e-9082-5831c30f0aa4",
   "metadata": {},
   "outputs": [],
   "source": [
    "from sklearn.tree import DecisionTreeRegressor\n",
    "\n",
    "tree_reg=DecisionTreeRegressor(max_depth=2)\n",
    "tree_reg.fit(X, y)"
   ]
  }
 ],
 "metadata": {
  "kernelspec": {
   "display_name": "Python 3 (ipykernel)",
   "language": "python",
   "name": "python3"
  },
  "language_info": {
   "codemirror_mode": {
    "name": "ipython",
    "version": 3
   },
   "file_extension": ".py",
   "mimetype": "text/x-python",
   "name": "python",
   "nbconvert_exporter": "python",
   "pygments_lexer": "ipython3",
   "version": "3.10.5"
  }
 },
 "nbformat": 4,
 "nbformat_minor": 5
}
