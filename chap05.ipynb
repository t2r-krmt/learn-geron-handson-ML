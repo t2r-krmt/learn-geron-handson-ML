{
 "cells": [
  {
   "cell_type": "markdown",
   "id": "b91545c1-bf04-439e-9cba-5dabf40e9bd8",
   "metadata": {},
   "source": [
    "# Linear SVM Classification"
   ]
  },
  {
   "cell_type": "markdown",
   "id": "20afcf04-5d4a-48ba-b836-fa4c2ba03163",
   "metadata": {
    "tags": []
   },
   "source": [
    "## Soft Margin Classification\n",
    "\n",
    "ハードマージン: outlier(外れ値)を許容しない  \n",
    "ソフトマージン: 許容する  \n",
    "\n",
    "[LinearSVC](https://scikit-learn.org/stable/modules/generated/sklearn.svm.LinearSVC.html): リニアSVMの分類問題。\n",
    "\n",
    "ハイパーパラメータCでマージン許容度をコントロール。小さければ(C=1)マージン大、大きければ(C=100)マージン小(違反が少ない)。Cを小さくしたほうがオーバーフィッティングを解消しやすい。"
   ]
  },
  {
   "cell_type": "code",
   "execution_count": 1,
   "id": "cb930bd5-2c48-4ac4-9def-d3ac4eebf0ac",
   "metadata": {},
   "outputs": [
    {
     "data": {
      "text/plain": [
       "Pipeline(steps=[('scaler', StandardScaler()),\n",
       "                ('linear_svc', LinearSVC(C=1, loss='hinge'))])"
      ]
     },
     "execution_count": 1,
     "metadata": {},
     "output_type": "execute_result"
    }
   ],
   "source": [
    "import numpy as np\n",
    "from sklearn import datasets\n",
    "from sklearn.pipeline import Pipeline\n",
    "from sklearn.preprocessing import StandardScaler\n",
    "from sklearn.svm import LinearSVC\n",
    "\n",
    "iris= datasets.load_iris()\n",
    "X=iris[\"data\"][:,(2,3)]\n",
    "y=(iris[\"target\"]==2).astype(np.float64)\n",
    "\n",
    "svm_clf=Pipeline([\n",
    "    (\"scaler\", StandardScaler()),\n",
    "    (\"linear_svc\", LinearSVC(C=1, loss=\"hinge\")),\n",
    "])\n",
    "\n",
    "svm_clf.fit(X,y)"
   ]
  },
  {
   "cell_type": "code",
   "execution_count": 2,
   "id": "b2d6f5a9-02b1-43a0-b86e-d388fa11ccfb",
   "metadata": {},
   "outputs": [
    {
     "data": {
      "text/plain": [
       "array([1.])"
      ]
     },
     "execution_count": 2,
     "metadata": {},
     "output_type": "execute_result"
    }
   ],
   "source": [
    "svm_clf.predict([[5.5, 1.7]])"
   ]
  },
  {
   "cell_type": "markdown",
   "id": "7fac95c4-cf75-4f25-976c-4c732ac437e8",
   "metadata": {},
   "source": [
    "以下は等価。\n",
    "`LinearSVC(C=1, loss=\"hinge\")`=`SVC(kernel='linear', C=1)`=`SGDClassifier(loss='hinge', alpha=1/(m*c))`\n",
    "\n",
    "`SGDClassifier()`は`LinearSVC()`よりすこし遅いがデータ数が多い場合などはこの書き方が有効。"
   ]
  },
  {
   "cell_type": "markdown",
   "id": "84f5dc01-3665-4eca-aa7b-ea384392bb25",
   "metadata": {},
   "source": [
    "# Nonlinear SVM Classification"
   ]
  },
  {
   "cell_type": "markdown",
   "id": "178a6d8f-97ef-4927-a534-271e658b7d54",
   "metadata": {},
   "source": [
    "より多くの特徴量を追加することで非線形データに対応。多項式にする。Pipelineでそれを実装。"
   ]
  },
  {
   "cell_type": "code",
   "execution_count": 3,
   "id": "e6adf4a7-22d2-44a4-8fcb-ced876f11f8d",
   "metadata": {},
   "outputs": [
    {
     "data": {
      "text/plain": [
       "Pipeline(steps=[('poly_features', PolynomialFeatures(degree=3)),\n",
       "                ('scaler', StandardScaler()),\n",
       "                ('svm_clf', LinearSVC(C=10, loss='hinge', max_iter=10000))])"
      ]
     },
     "execution_count": 3,
     "metadata": {},
     "output_type": "execute_result"
    }
   ],
   "source": [
    "from sklearn.datasets import make_moons\n",
    "from sklearn.pipeline import Pipeline\n",
    "from sklearn.preprocessing import PolynomialFeatures\n",
    "\n",
    "X,y = make_moons(n_samples=100, noise=0.15)\n",
    "polynomial_svm_clf=Pipeline([\n",
    "    ('poly_features', PolynomialFeatures(degree=3)),\n",
    "    ('scaler',StandardScaler()),\n",
    "    ('svm_clf', LinearSVC(C=10, loss='hinge', max_iter=10000)),\n",
    "])\n",
    "\n",
    "polynomial_svm_clf.fit(X,y)"
   ]
  },
  {
   "cell_type": "markdown",
   "id": "072f83cd-f022-492d-8fbd-4815b1e4d636",
   "metadata": {},
   "source": [
    "make_moonsデータセットのプロット。"
   ]
  },
  {
   "cell_type": "code",
   "execution_count": 4,
   "id": "de23ac45-daf5-4c4c-9f05-63534ca6415d",
   "metadata": {},
   "outputs": [
    {
     "data": {
      "image/png": "[encoded data removed]",
      "text/plain": [
       "<Figure size 432x288 with 1 Axes>"
      ]
     },
     "metadata": {
      "needs_background": "light"
     },
     "output_type": "display_data"
    }
   ],
   "source": [
    "import matplotlib.pyplot as plt\n",
    "def plot_dataset(X,y, axes):\n",
    "    plt.plot(X[:,0][y==0], X[:,1][y==0], \"bs\")\n",
    "    plt.plot(X[:,0][y==1], X[:,1][y==1], \"g^\")\n",
    "    plt.axis(axes)\n",
    "    plt.grid(True, which='both')\n",
    "    plt.xlabel(r\"$x_1$\", fontsize=20)\n",
    "    plt.ylabel(r\"$x_2$\", fontsize=20, rotation=0)\n",
    "\n",
    "plot_dataset(X, y, [-1.5,2.5, -1, 1.5])"
   ]
  },
  {
   "cell_type": "markdown",
   "id": "c04d3ebc-b256-4cdb-ac08-7fe0660ca30c",
   "metadata": {},
   "source": [
    "予測結果のプロット。"
   ]
  },
  {
   "cell_type": "code",
   "execution_count": 5,
   "id": "ba563a5d-66db-4d69-b04e-7f3ab9f86464",
   "metadata": {},
   "outputs": [],
   "source": [
    "def plot_predictions(clf, axes):\n",
    "    x0s=np.linspace(axes[0], axes[1],100)\n",
    "    x1s=np.linspace(axes[2], axes[3],100)\n",
    "    x0, x1=np.meshgrid(x0s, x1s)\n",
    "    X=np.c_[x0.ravel(), x1.ravel()]\n",
    "    y_pred=clf.predict(X).reshape(x0.shape)\n",
    "    y_decision=clf.decision_function(X).reshape(x0.shape)\n",
    "    plt.contourf(x0,x1,y_pred,cmap=plt.cm.brg, alpha=0.2)\n",
    "    plt.contourf(x0,x1,y_decision,cmap=plt.cm.brg, alpha=0.1)\n",
    "    "
   ]
  },
  {
   "cell_type": "code",
   "execution_count": 6,
   "id": "82578788-ce2b-496c-a718-77f3a2af9bd4",
   "metadata": {},
   "outputs": [
    {
     "data": {
      "image/png": "[encoded data removed]",
      "text/plain": [
       "<Figure size 432x288 with 1 Axes>"
      ]
     },
     "metadata": {
      "needs_background": "light"
     },
     "output_type": "display_data"
    }
   ],
   "source": [
    "plot_predictions(polynomial_svm_clf,[-1.5,2.5,-1,1.5])\n",
    "plot_dataset(X,y,[-1.5,2.5,-1,1.5])"
   ]
  },
  {
   "cell_type": "markdown",
   "id": "32fa5cb5-317b-4769-9c71-3e6cd654a25f",
   "metadata": {},
   "source": [
    "## Polynomial Kernel"
   ]
  },
  {
   "cell_type": "markdown",
   "id": "ad9c2948-4156-4a4a-9b99-4cce207466ce",
   "metadata": {},
   "source": [
    "先の方法だと次数が大きくなるほど特徴量が増えモデルが遅くなる。\n",
    "\n",
    "カーネルトリックを適用。[SVC](https://scikit-learn.org/stable/modules/generated/sklearn.svm.SVC.html#sklearn.svm.SVC)で`kernel=poly`と指定。\n",
    "\n"
   ]
  },
  {
   "cell_type": "code",
   "execution_count": 7,
   "id": "65d2dd96-5cc9-420e-9e7e-831bb4915c27",
   "metadata": {},
   "outputs": [
    {
     "data": {
      "text/plain": [
       "Pipeline(steps=[('scaler', StandardScaler()),\n",
       "                ('svm_clf', SVC(C=5, coef0=100, degree=10, kernel='poly'))])"
      ]
     },
     "execution_count": 7,
     "metadata": {},
     "output_type": "execute_result"
    }
   ],
   "source": [
    "from sklearn.svm import SVC\n",
    "poly_kernel_svm_clf = Pipeline([\n",
    "    ('scaler', StandardScaler()),\n",
    "    ('svm_clf', SVC(kernel='poly', degree=10, coef0=100, C=5))\n",
    "])\n",
    "poly_kernel_svm_clf.fit(X, y)"
   ]
  },
  {
   "cell_type": "code",
   "execution_count": 8,
   "id": "9020e30c-7b98-45ac-b262-0ca66c31c9b2",
   "metadata": {},
   "outputs": [
    {
     "data": {
      "image/png": "[encoded data removed]",
      "text/plain": [
       "<Figure size 432x288 with 1 Axes>"
      ]
     },
     "metadata": {
      "needs_background": "light"
     },
     "output_type": "display_data"
    }
   ],
   "source": [
    "plot_predictions(poly_kernel_svm_clf,[-1.5,2.5,-1,1.5])\n",
    "plot_dataset(X,y,[-1.5,2.5,-1,1.5])"
   ]
  },
  {
   "cell_type": "markdown",
   "id": "cffe7567-a2c1-4018-b860-2b5c301132e4",
   "metadata": {
    "tags": []
   },
   "source": [
    "## Gaussian RBF Kernel"
   ]
  },
  {
   "cell_type": "markdown",
   "id": "a98e318b-64c0-402e-8f41-80306c634562",
   "metadata": {},
   "source": [
    "多項式の代わりに類似度関数を用いる。ガウシアンRBF(Radial Basis Function)カーネル。\n",
    "\n",
    "$$\n",
    "\\phi_\\gamma(x, l)= \\exp(-\\gamma||x-l||^2)\n",
    "$$\n",
    "\n",
    "多項式の特徴量は特にデータセットが大きい場合に計算負荷が大きくなってしまう。`kernel=\"rbf\"`とすることでガウシアンRBFカーネルを使用できる。"
   ]
  },
  {
   "cell_type": "code",
   "execution_count": 9,
   "id": "7043c94e-14cf-472c-a42e-117c7f952761",
   "metadata": {},
   "outputs": [
    {
     "data": {
      "text/plain": [
       "Pipeline(steps=[('scaler', StandardScaler()),\n",
       "                ('svm_clf', SVC(C=0.001, gamma=5))])"
      ]
     },
     "execution_count": 9,
     "metadata": {},
     "output_type": "execute_result"
    }
   ],
   "source": [
    "rbf_kernel_svm_clf=Pipeline([\n",
    "    ('scaler', StandardScaler()),\n",
    "    ('svm_clf', SVC(kernel='rbf', gamma=5, C=0.001))\n",
    "])\n",
    "rbf_kernel_svm_clf.fit(X,y)"
   ]
  },
  {
   "cell_type": "markdown",
   "id": "4c4f46de-e4c3-4f1a-864f-4f1ba0f7627c",
   "metadata": {},
   "source": [
    "γを大きくするとガウシアンの半値幅が狭くなる。オーバーフィッティングしたときは減らす。　"
   ]
  },
  {
   "cell_type": "code",
   "execution_count": 10,
   "id": "4d7b078b-135f-4449-80b9-ba700b9f19de",
   "metadata": {},
   "outputs": [
    {
     "data": {
      "image/png": "[encoded data removed]",
      "text/plain": [
       "<Figure size 432x288 with 1 Axes>"
      ]
     },
     "metadata": {
      "needs_background": "light"
     },
     "output_type": "display_data"
    }
   ],
   "source": [
    "plot_predictions(rbf_kernel_svm_clf,[-1.5,2.5,-1,1.5])\n",
    "plot_dataset(X,y,[-1.5,2.5,-1,1.5])"
   ]
  },
  {
   "cell_type": "markdown",
   "id": "e9a46cab-a22f-4574-8ddf-3fdd16693c32",
   "metadata": {},
   "source": [
    "はじめはリニアカーネルから試すのがいい。特にデータ数が多い場合や特徴量が多い場合。データ数が多くなければガウシアンRBFを試す。時間と計算能力があればグリッドサーチで他のカーネルを試すといい。"
   ]
  },
  {
   "cell_type": "markdown",
   "id": "907fe3e5-e383-4c92-a662-f7e5f8cfee07",
   "metadata": {},
   "source": [
    "# SVM Regression"
   ]
  },
  {
   "cell_type": "markdown",
   "id": "995f3278-36f7-4254-b814-9eed947ac9c9",
   "metadata": {},
   "source": [
    "[LinearSVR](https://scikit-learn.org/stable/modules/generated/sklearn.svm.LinearSVR.html#sklearn.svm.LinearSVR): リニアSVMの回帰問題。\n",
    "\n",
    "回帰問題ではマージンを最大化するのではなく最小化する。$\\epsilon$でマージンの幅をコントロール、大きいほど広くなる。"
   ]
  },
  {
   "cell_type": "code",
   "execution_count": 11,
   "id": "fcfd72eb-53eb-4657-b9ad-40d230bba242",
   "metadata": {},
   "outputs": [
    {
     "data": {
      "text/plain": [
       "LinearSVR(epsilon=1.5)"
      ]
     },
     "execution_count": 11,
     "metadata": {},
     "output_type": "execute_result"
    }
   ],
   "source": [
    "from sklearn.svm import LinearSVR\n",
    "\n",
    "svm_reg=LinearSVR(epsilon=1.5)\n",
    "svm_reg.fit(X,y)"
   ]
  },
  {
   "cell_type": "markdown",
   "id": "661e36cd-dae0-4994-a2d6-e6706550710f",
   "metadata": {},
   "source": [
    "非線形問題では[SVR](https://scikit-learn.org/stable/modules/generated/sklearn.svm.SVR.html#sklearn.svm.SVR)でカーネルを指定する。"
   ]
  },
  {
   "cell_type": "code",
   "execution_count": 12,
   "id": "d2876866-ec1a-4eb0-9846-9d47b52ea1cf",
   "metadata": {},
   "outputs": [
    {
     "data": {
      "text/plain": [
       "SVR(C=100, degree=2, kernel='poly')"
      ]
     },
     "execution_count": 12,
     "metadata": {},
     "output_type": "execute_result"
    }
   ],
   "source": [
    "from sklearn.svm import SVR\n",
    "\n",
    "svm_poly_reg=SVR(kernel='poly', degree=2, C=100, epsilon=0.1)\n",
    "svm_poly_reg.fit(X,y)"
   ]
  },
  {
   "cell_type": "code",
   "execution_count": null,
   "id": "19486276-da88-4722-b1d5-33c83125f283",
   "metadata": {},
   "outputs": [],
   "source": []
  }
 ],
 "metadata": {
  "kernelspec": {
   "display_name": "Python 3 (ipykernel)",
   "language": "python",
   "name": "python3"
  },
  "language_info": {
   "codemirror_mode": {
    "name": "ipython",
    "version": 3
   },
   "file_extension": ".py",
   "mimetype": "text/x-python",
   "name": "python",
   "nbconvert_exporter": "python",
   "pygments_lexer": "ipython3",
   "version": "3.10.4"
  }
 },
 "nbformat": 4,
 "nbformat_minor": 5
}
